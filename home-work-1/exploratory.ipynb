{
 "cells": [
  {
   "cell_type": "code",
   "execution_count": 15,
   "metadata": {},
   "outputs": [
    {
     "data": {
      "text/plain": [
       "'\\nOtus, курс Data Scientist, старт дек.2018\\nЗадание к уроку N1\\n\\nЗадача: Анализируем сообщения из vk.com\\n\\nПлан работ.\\n\\nЭтап 1 - отображен в этом блокноте.\\nВыгружаем некоторое кол-во сообщений, сохраняем, преобразуем в csv-формат, проводим exploratory-анализ - какие данные есть,\\nчто в них может быть интересного.\\nЗадача на этап 1: придумать вопрос, на который будем искать ответ.\\n\\nЭтап 2 - отображен в python-проекте gathering.\\nВыгружаем данные, в минимально необходимом количестве, преобразуем в формат, удобный для анализа.\\nПроводим анализ с целью получить ответ на вопрос.\\nЗадача на этап 2: на поставленный вопрос\\nлибо получить ответ с некоторой достоверностью,\\nлибо показать, что этих данных недостаточно для получения ответа.\\n'"
      ]
     },
     "execution_count": 15,
     "metadata": {},
     "output_type": "execute_result"
    }
   ],
   "source": [
    "\"\"\"\n",
    "Otus, курс Data Scientist, старт дек.2018\n",
    "Задание к уроку N1\n",
    "\n",
    "Задача: Анализируем сообщения из vk.com\n",
    "\n",
    "План работ.\n",
    "\n",
    "Этап 1 - отображен в этом блокноте.\n",
    "Выгружаем некоторое кол-во сообщений, сохраняем, преобразуем в csv-формат, проводим exploratory-анализ - какие данные есть,\n",
    "что в них может быть интересного.\n",
    "Задача на этап 1: придумать вопрос, на который будем искать ответ.\n",
    "\n",
    "Этап 2 - отображен в python-проекте gathering.\n",
    "Выгружаем данные, в минимально необходимом количестве, преобразуем в формат, удобный для анализа.\n",
    "Проводим анализ с целью получить ответ на вопрос.\n",
    "Задача на этап 2: на поставленный вопрос\n",
    "либо получить ответ с некоторой достоверностью,\n",
    "либо показать, что этих данных недостаточно для получения ответа.\n",
    "\"\"\""
   ]
  },
  {
   "cell_type": "code",
   "execution_count": 16,
   "metadata": {},
   "outputs": [],
   "source": [
    "import vk_api\n",
    "import io\n",
    "import json, codecs\n",
    "import time"
   ]
  },
  {
   "cell_type": "code",
   "execution_count": 17,
   "metadata": {},
   "outputs": [
    {
     "data": {
      "text/plain": [
       "'\\nЗагружаем данные из vk_api, сохраняем на диск\\n'"
      ]
     },
     "execution_count": 17,
     "metadata": {},
     "output_type": "execute_result"
    }
   ],
   "source": [
    "\"\"\"\n",
    "Загружаем данные из vk_api, сохраняем на диск\n",
    "\"\"\""
   ]
  },
  {
   "cell_type": "code",
   "execution_count": 18,
   "metadata": {},
   "outputs": [],
   "source": [
    "# credentials: нужно указать логин/пароль к vk.com\n",
    "# чтобы случайно не закомитить версию с логин/пароль - выносим эти данные в отдельный файл, который исключаем в .gitignore\n",
    "credentialsFileName = \"vk_login_password.txt\" # формат файла: 1-я строка = логин, 2-я строка = пароль\n",
    "# затираем значения, которые могли сохраниться с прошлых запусков (в notebook)\n",
    "login = '+71231234567' \n",
    "password = ''\n",
    "\n",
    "# загружаем значения из файла\n",
    "try:\n",
    "    loginFile = open(credentialsFileName, 'r')\n",
    "    login = loginFile.readline().strip() # в формате: '+71231234567'\n",
    "    password = loginFile.readline().strip()\n",
    "except IOError:\n",
    "    print (\"No file with login/password: создайте файл \" + credentialsFileName + \", в котором 1-я строка = логин, 2-я строка = пароль\")"
   ]
  },
  {
   "cell_type": "code",
   "execution_count": 19,
   "metadata": {},
   "outputs": [],
   "source": [
    "# используем:\n",
    "#  wrapper-lib vk_api: https://github.com/python273/vk_api\n",
    "#  описание Api от vk: https://vk.com/dev/groups.search?params[q]=bitcoin&params[future]=0&params[market]=0&params[offset]=3&params[count]=3&params[v]=5.92"
   ]
  },
  {
   "cell_type": "code",
   "execution_count": 20,
   "metadata": {},
   "outputs": [],
   "source": [
    "# параметры запуска\n",
    "GROUP_KEYWORD = 'bitcoin' # интересуют сообщества, в названии которых есть такое слово\n",
    "COUNT_GROUPS = 50 # обработаем столько сообществ\n",
    "COUNT_MESSAGES_PER_GROUP = 100 # в каждом сообществе, со стены возьмем столько сообщений"
   ]
  },
  {
   "cell_type": "code",
   "execution_count": 21,
   "metadata": {},
   "outputs": [],
   "source": [
    "# получаем соединение, api\n",
    "vk_session = vk_api.VkApi(login, password, scope='wall')\n",
    "vk_session.auth(token_only=True)\n",
    "api = vk_session.get_api()"
   ]
  },
  {
   "cell_type": "code",
   "execution_count": 22,
   "metadata": {},
   "outputs": [],
   "source": [
    "# константы и правила, которые используем при работе с файлами\n",
    "FOLDER_PREFIX = './files/' # folder, в которую складываем файлы\n",
    "FILE_EXTENSION = '.txt' # расширение для json-файлов\n",
    "\n",
    "def fileNameFunc(rawFileName):\n",
    "    return FOLDER_PREFIX + rawFileName + FILE_EXTENSION"
   ]
  },
  {
   "cell_type": "code",
   "execution_count": 23,
   "metadata": {},
   "outputs": [],
   "source": [
    "# Данные по сообществам - получаем по http\n",
    "def obtainGroups(api, keyword, count):\n",
    "    print(\"obtainGroups, keyword=\" + keyword + \", count=\" + str(count))\n",
    "    results = api.groups.search(q=keyword, count=count)\n",
    "    return results['items']"
   ]
  },
  {
   "cell_type": "code",
   "execution_count": 24,
   "metadata": {},
   "outputs": [],
   "source": [
    "# получить N записей со стены сообщества/пользователя\n",
    "def obtainWallItems(api, owner_id, count):\n",
    "    # protection: проверяем входные значения\n",
    "    if(count > 100): # todo: можно приделать scroll, то есть, разбить запрос на несколько, в каждом count не более 100\n",
    "        raise AssertionError(\"count должен быть <= 100, но передали:\" + str(count))\n",
    "\n",
    "    # основная часть\n",
    "    results = api.wall.get(owner_id=owner_id, filter = 'owner', count = count, offset=0)\n",
    "    print(\"obtainWallItems, owner_id=\" + str(owner_id) + \", retrieve \" + str(len(results['items'])) + \", of total \" + str(results['count']))\n",
    "    return results['items']\n",
    "\n",
    "# для напоминания - сохраним в комментариях альтернативный метод vk_api для получения сообщений со стены сообщества\n",
    "#tools = vk_api.VkTools(vk_session)\n",
    "#wall = tools.get_all('wall.get', 10, {'owner_id': -92718200, 'filter':'owner'})"
   ]
  },
  {
   "cell_type": "code",
   "execution_count": 25,
   "metadata": {},
   "outputs": [],
   "source": [
    "# записываем json в файл\n",
    "def writeJsonToFile(fileName, jsonData):\n",
    "    with io.open(fileName, 'w', encoding='utf-8') as f:\n",
    "        f.write(json.dumps(jsonData, ensure_ascii=False, sort_keys=True, indent=4))"
   ]
  },
  {
   "cell_type": "code",
   "execution_count": 26,
   "metadata": {},
   "outputs": [
    {
     "name": "stdout",
     "output_type": "stream",
     "text": [
      "obtainGroups, keyword=bitcoin, count=50\n"
     ]
    }
   ],
   "source": [
    "# получаем все интересующие сообщества, записываем в файл\n",
    "groups = obtainGroups(api, 'bitcoin', COUNT_GROUPS)\n",
    "writeJsonToFile(fileNameFunc('groups'), groups)"
   ]
  },
  {
   "cell_type": "code",
   "execution_count": 27,
   "metadata": {},
   "outputs": [
    {
     "name": "stdout",
     "output_type": "stream",
     "text": [
      "skip group:16219861\n",
      "total groups для обработки: 49\n"
     ]
    }
   ],
   "source": [
    "# отфильтруем сообщества - нам нужны только те, у которых есть доступ к сообщениям на стене\n",
    "group_ids = []\n",
    "for group in groups:\n",
    "    if(group['is_closed'] == 0):\n",
    "        group_ids.append(group['id'])\n",
    "    else:\n",
    "        print('skip group:' + str(group['id']))\n",
    "print('total groups для обработки: ' + str(len(group_ids)))"
   ]
  },
  {
   "cell_type": "code",
   "execution_count": 28,
   "metadata": {},
   "outputs": [
    {
     "name": "stdout",
     "output_type": "stream",
     "text": [
      "obtainWallItems, owner_id=-46371384, retrieve 100, of total 48428\n",
      "obtainWallItems, owner_id=-92718200, retrieve 100, of total 10908\n",
      "obtainWallItems, owner_id=-632045, retrieve 100, of total 28652\n",
      "obtainWallItems, owner_id=-93604475, retrieve 100, of total 14366\n",
      "obtainWallItems, owner_id=-59454515, retrieve 100, of total 31644\n",
      "obtainWallItems, owner_id=-79363873, retrieve 100, of total 830\n",
      "obtainWallItems, owner_id=-51789870, retrieve 100, of total 13982\n",
      "obtainWallItems, owner_id=-92357206, retrieve 100, of total 133\n",
      "obtainWallItems, owner_id=-101271420, retrieve 100, of total 5135\n",
      "obtainWallItems, owner_id=-29387592, retrieve 100, of total 1759\n",
      "obtainWallItems, owner_id=-158943684, retrieve 100, of total 149\n",
      "obtainWallItems, owner_id=-122422421, retrieve 100, of total 6593\n",
      "obtainWallItems, owner_id=-74106120, retrieve 1, of total 1\n",
      "obtainWallItems, owner_id=-50725681, retrieve 100, of total 1398\n",
      "obtainWallItems, owner_id=-140465118, retrieve 33, of total 33\n",
      "obtainWallItems, owner_id=-50061159, retrieve 59, of total 59\n",
      "obtainWallItems, owner_id=-63382381, retrieve 83, of total 83\n",
      "obtainWallItems, owner_id=-50774319, retrieve 100, of total 1050\n",
      "obtainWallItems, owner_id=-147911279, retrieve 100, of total 1771\n",
      "obtainWallItems, owner_id=-62032126, retrieve 100, of total 19791\n",
      "obtainWallItems, owner_id=-30451584, retrieve 4, of total 4\n",
      "obtainWallItems, owner_id=-63589724, retrieve 100, of total 17774\n",
      "obtainWallItems, owner_id=-111315172, retrieve 100, of total 924\n",
      "obtainWallItems, owner_id=-19354230, retrieve 36, of total 36\n",
      "obtainWallItems, owner_id=-65314134, retrieve 100, of total 867\n",
      "obtainWallItems, owner_id=-33135732, retrieve 100, of total 6758\n",
      "obtainWallItems, owner_id=-79858655, retrieve 1, of total 1\n",
      "obtainWallItems, owner_id=-70023397, retrieve 9, of total 9\n",
      "obtainWallItems, owner_id=-16269693, retrieve 100, of total 281\n",
      "obtainWallItems, owner_id=-113755164, retrieve 100, of total 839\n",
      "obtainWallItems, owner_id=-43011371, retrieve 100, of total 333\n",
      "obtainWallItems, owner_id=-66153827, retrieve 100, of total 7578\n",
      "obtainWallItems, owner_id=-55500226, retrieve 100, of total 23724\n",
      "obtainWallItems, owner_id=-61469977, retrieve 100, of total 116\n",
      "obtainWallItems, owner_id=-150541976, retrieve 5, of total 5\n",
      "obtainWallItems, owner_id=-53986544, retrieve 100, of total 704\n",
      "obtainWallItems, owner_id=-83377401, retrieve 100, of total 970\n",
      "obtainWallItems, owner_id=-152549864, retrieve 100, of total 375\n",
      "obtainWallItems, owner_id=-144516691, retrieve 100, of total 2298\n",
      "obtainWallItems, owner_id=-59683167, retrieve 0, of total 0\n",
      "obtainWallItems, owner_id=-154469944, retrieve 57, of total 57\n",
      "obtainWallItems, owner_id=-162758293, retrieve 100, of total 594\n",
      "obtainWallItems, owner_id=-112446933, retrieve 100, of total 2657\n",
      "obtainWallItems, owner_id=-21178038, retrieve 64, of total 64\n",
      "obtainWallItems, owner_id=-35397045, retrieve 100, of total 159\n",
      "obtainWallItems, owner_id=-2391355, retrieve 100, of total 331\n",
      "obtainWallItems, owner_id=-50834921, retrieve 100, of total 2974\n",
      "obtainWallItems, owner_id=-71306093, retrieve 100, of total 3560\n",
      "obtainWallItems, owner_id=-67423173, retrieve 100, of total 1107\n"
     ]
    }
   ],
   "source": [
    "# для каждого сообщества - получаем сообщения со стены и записваем в соотв.файл\n",
    "counter = 1 # счетчик, используем в названии файлов\n",
    "for group_id in group_ids:\n",
    "    vk_id = -1 * group_id # vk_api.wall.get по наличию знака минус - определяет, что требуется именно сообщество\n",
    "    items = obtainWallItems(api=api, owner_id=vk_id, count=COUNT_MESSAGES_PER_GROUP)\n",
    "    rawFileName = str(counter) + \"_\" + str(group_id)\n",
    "    writeJsonToFile(fileNameFunc(rawFileName), items)\n",
    "    counter = counter + 1\n",
    "    time.sleep(0.5) # соблюдаем этикет"
   ]
  },
  {
   "cell_type": "code",
   "execution_count": 29,
   "metadata": {},
   "outputs": [
    {
     "data": {
      "text/plain": [
       "'\\nАнализируем сохраненные данные\\n'"
      ]
     },
     "execution_count": 29,
     "metadata": {},
     "output_type": "execute_result"
    }
   ],
   "source": [
    "\"\"\"\n",
    "Анализируем сохраненные данные\n",
    "\"\"\""
   ]
  },
  {
   "cell_type": "code",
   "execution_count": 30,
   "metadata": {},
   "outputs": [],
   "source": [
    "# пройти по всем файлам, которые с названием [N]_[id].txt\n",
    "# 1. Определяем набор полей, которые интересуют\n",
    "#   1.1 собираем набор существующих полей -> просматриваем, выбираем те, которые интересуют\n",
    "#   1.2 по выбранным полям - составляем статистику, уточняем, что именно будем выгружать\n",
    "# 2. Составляем csv-файл со всеми сообщениями, сохраняем"
   ]
  },
  {
   "cell_type": "code",
   "execution_count": 31,
   "metadata": {},
   "outputs": [],
   "source": [
    "from os import listdir\n",
    "from os.path import isfile, join\n",
    "import re\n",
    "import csv"
   ]
  },
  {
   "cell_type": "code",
   "execution_count": 32,
   "metadata": {},
   "outputs": [],
   "source": [
    "# функции и константы\n",
    "\n",
    "RESULTS_FILE_NAME = 'result.csv'\n",
    "SCRAPPED_DATA_FILE_REGEXP = re.compile(r'^([\\d]+)_([\\d]+).*$')\n",
    "\n",
    "# проанализировать массив json - какие поля встречаются\n",
    "def fieldsIn(fileContent):\n",
    "    result = []\n",
    "    for message in fileContent:\n",
    "        for key, value in message.items():\n",
    "            if(key not in result):\n",
    "                result.append(key)\n",
    "    return result\n",
    "\n",
    "# объединяем списки, оставляем уникальные элементы\n",
    "def clueFiledsFunc(acc, addFields):\n",
    "    for field in addFields:\n",
    "        if(field not in acc):\n",
    "            acc.append(field)\n",
    "    return acc\n",
    "\n",
    "# определяем, какие поля встречаются в загруженных данных\n",
    "def revealFieldNames(fileNameList):\n",
    "    fields = []\n",
    "    for fileName in scrapped_data_files:\n",
    "        with io.open(join(FOLDER_PREFIX, fileName), 'r', encoding='utf-8') as f:\n",
    "            fileContent = json.load(f)\n",
    "            fields = clueFiledsFunc(fields, fieldsIn(fileContent))\n",
    "    return fields"
   ]
  },
  {
   "cell_type": "code",
   "execution_count": 33,
   "metadata": {},
   "outputs": [],
   "source": [
    "# названия файлов со scrapped данными\n",
    "scrapped_all_files = [f for f in listdir(FOLDER_PREFIX) if isfile(join(FOLDER_PREFIX, f))]\n",
    "# только те файлы, которые про сообщения на стене сообщества\n",
    "scrapped_data_files = []\n",
    "regexp = SCRAPPED_DATA_FILE_REGEXP\n",
    "for fileName in scrapped_all_files:\n",
    "    if(regexp.search(fileName)): \n",
    "        scrapped_data_files.append(fileName)"
   ]
  },
  {
   "cell_type": "code",
   "execution_count": 34,
   "metadata": {},
   "outputs": [
    {
     "name": "stdout",
     "output_type": "stream",
     "text": [
      "['attachments', 'comments', 'date', 'from_id', 'id', 'is_favorite', 'likes', 'marked_as_ads', 'owner_id', 'post_source', 'post_type', 'reposts', 'text', 'views', 'is_pinned', 'signer_id', 'copy_history']\n"
     ]
    }
   ],
   "source": [
    "fields = revealFieldNames(scrapped_data_files)\n",
    "print(fields)"
   ]
  },
  {
   "cell_type": "code",
   "execution_count": 35,
   "metadata": {},
   "outputs": [],
   "source": [
    "# поля, которые интересуют\n",
    "actual_fields = {\n",
    "    'comments_count': 'comments.count',\n",
    "    'date':'date',\n",
    "    #'is_favorite':'is_favorite', # df['is_favorite'].value_counts() - найдено, что всегда 1 значение\n",
    "    #'is_pinned':'is_pinned', # df['is_pinned'].value_counts() - найдено, что всегда 1 значение\n",
    "    #'likes_can_like':'likes.can_like', # df['likes_can_like'].value_counts() - найдено, что всегда 1 значение\n",
    "    #'likes_can_publish':'likes.can_publish', # df['likes_can_publish'].value_counts() - найдено, что всегда 1 значение\n",
    "    'likes_count':'likes.count',\n",
    "    'marked_as_ads':'marked_as_ads',\n",
    "    'post_source':'post_source.type',\n",
    "    #'post_type':'post_type', # df['post_type'].value_counts() - найдено, что всегда 1 значение\n",
    "    'reposts_count':'reposts.count',\n",
    "    'text':'text',\n",
    "    'views_count':'views.count'\n",
    "}\n",
    "# в обработанном виде\n",
    "csv_fields = []\n",
    "json_fields = []\n",
    "for key, value in actual_fields.items():\n",
    "    csv_fields.append(key)\n",
    "    json_fields.append(value)"
   ]
  },
  {
   "cell_type": "code",
   "execution_count": 36,
   "metadata": {},
   "outputs": [],
   "source": [
    "# получаем значение поля в json\n",
    "def revealFieldValue(jsonData,fieldPath):\n",
    "    none_value = ''\n",
    "    path = fieldPath.split('.')\n",
    "    data = jsonData\n",
    "    for step in path[:-1]:\n",
    "        if step in data:\n",
    "            data = data[step]\n",
    "        else:\n",
    "            return none_value\n",
    "    data = data.get(path[-1], none_value)\n",
    "    #print(data)\n",
    "    return data"
   ]
  },
  {
   "cell_type": "code",
   "execution_count": 37,
   "metadata": {},
   "outputs": [],
   "source": [
    "# из объекта - получаем строку для csv\n",
    "def produceLine(jsonData, fieldsList):\n",
    "    result = []\n",
    "    for field in fieldsList:\n",
    "        data = revealFieldValue(jsonData, field)\n",
    "        result.append(data)\n",
    "    return result\n",
    "\n",
    "# из файла со scrapped_data получаем строки для csv\n",
    "def produceCsvRowsForFile(fileName, fieldsList):\n",
    "    group_id = SCRAPPED_DATA_FILE_REGEXP.match(fileName).group(2)\n",
    "    result = []\n",
    "    with io.open(join(FOLDER_PREFIX, fileName), 'r', encoding='utf-8') as f:\n",
    "        fileContent = json.load(f)\n",
    "        for doc in fileContent:\n",
    "            row = [group_id] + produceLine(doc, fieldsList)\n",
    "            #row.append(group_id)\n",
    "            result.append(row)\n",
    "    return result\n",
    "            \n",
    "# для всех перечисленных файлов - записываем получаемые строки в csv (в памяти держим строки только для одного файла)\n",
    "def writeCsvLinesByFiles(csvWriter, fileNameList, fieldsList):\n",
    "    for fileName in fileNameList:\n",
    "        print('fileName: ' + fileName)\n",
    "        rows = produceCsvRowsForFile(fileName, fieldsList)\n",
    "        #print(\"***\")\n",
    "        #print(rows[1])\n",
    "        for row in rows:            \n",
    "            csvWriter.writerow(row)\n",
    "            \n",
    "\n",
    "        "
   ]
  },
  {
   "cell_type": "code",
   "execution_count": 38,
   "metadata": {},
   "outputs": [
    {
     "name": "stdout",
     "output_type": "stream",
     "text": [
      "['comments.count', 'date', 'likes.count', 'marked_as_ads', 'post_source.type', 'reposts.count', 'text', 'views.count']\n",
      "fileName: 10_29387592.txt\n",
      "fileName: 11_158943684.txt\n",
      "fileName: 12_122422421.txt\n",
      "fileName: 13_74106120.txt\n",
      "fileName: 14_50725681.txt\n",
      "fileName: 15_140465118.txt\n",
      "fileName: 16_50061159.txt\n",
      "fileName: 17_50774319.txt\n",
      "fileName: 17_63382381.txt\n",
      "fileName: 18_147911279.txt\n",
      "fileName: 18_50774319.txt\n",
      "fileName: 19_147911279.txt\n",
      "fileName: 19_62032126.txt\n",
      "fileName: 1_46371384.txt\n",
      "fileName: 20_30451584.txt\n",
      "fileName: 20_62032126.txt\n",
      "fileName: 21_30451584.txt\n",
      "fileName: 21_63589724.txt\n",
      "fileName: 22_19354230.txt\n",
      "fileName: 22_63589724.txt\n",
      "fileName: 23_111315172.txt\n",
      "fileName: 23_65314134.txt\n",
      "fileName: 24_19354230.txt\n",
      "fileName: 24_33135732.txt\n",
      "fileName: 25_65314134.txt\n",
      "fileName: 25_79858655.txt\n",
      "fileName: 26_33135732.txt\n",
      "fileName: 26_70023397.txt\n",
      "fileName: 27_43011371.txt\n",
      "fileName: 27_79858655.txt\n",
      "fileName: 28_113755164.txt\n",
      "fileName: 28_70023397.txt\n",
      "fileName: 29_16269693.txt\n",
      "fileName: 29_66153827.txt\n",
      "fileName: 2_92718200.txt\n",
      "fileName: 30_113755164.txt\n",
      "fileName: 30_55500226.txt\n",
      "fileName: 31_43011371.txt\n",
      "fileName: 31_61469977.txt\n",
      "fileName: 32_150541976.txt\n",
      "fileName: 32_66153827.txt\n",
      "fileName: 33_53986544.txt\n",
      "fileName: 33_55500226.txt\n",
      "fileName: 34_152549864.txt\n",
      "fileName: 34_61469977.txt\n",
      "fileName: 35_150541976.txt\n",
      "fileName: 35_83377401.txt\n",
      "fileName: 36_144516691.txt\n",
      "fileName: 36_53986544.txt\n",
      "fileName: 37_59683167.txt\n",
      "fileName: 37_83377401.txt\n",
      "fileName: 38_112446933.txt\n",
      "fileName: 38_152549864.txt\n",
      "fileName: 39_144516691.txt\n",
      "fileName: 39_154469944.txt\n",
      "fileName: 3_632045.txt\n",
      "fileName: 40_162758293.txt\n",
      "fileName: 40_59683167.txt\n",
      "fileName: 41_154469944.txt\n",
      "fileName: 41_21178038.txt\n",
      "fileName: 42_162758293.txt\n",
      "fileName: 42_35397045.txt\n",
      "fileName: 43_112446933.txt\n",
      "fileName: 43_2391355.txt\n",
      "fileName: 44_21178038.txt\n",
      "fileName: 44_50834921.txt\n",
      "fileName: 45_120998368.txt\n",
      "fileName: 45_35397045.txt\n",
      "fileName: 46_2391355.txt\n",
      "fileName: 46_71306093.txt\n",
      "fileName: 47_50834921.txt\n",
      "fileName: 47_67423173.txt\n",
      "fileName: 48_25234359.txt\n",
      "fileName: 48_71306093.txt\n",
      "fileName: 49_67423173.txt\n",
      "fileName: 4_93604475.txt\n",
      "fileName: 5_59454515.txt\n",
      "fileName: 6_79363873.txt\n",
      "fileName: 7_51789870.txt\n",
      "fileName: 8_92357206.txt\n",
      "fileName: 9_101271420.txt\n"
     ]
    }
   ],
   "source": [
    "with open(RESULTS_FILE_NAME, 'w', newline='', encoding='utf-8') as csvFile:\n",
    "    csvWriter = csv.writer(csvFile, delimiter=',')\n",
    "    csvWriter.writerow(['group_id'] + csv_fields) # 1-я строка - это названия столбцов\n",
    "    print(json_fields)\n",
    "    writeCsvLinesByFiles(csvWriter, scrapped_data_files, json_fields)"
   ]
  },
  {
   "cell_type": "code",
   "execution_count": 39,
   "metadata": {},
   "outputs": [
    {
     "data": {
      "text/plain": [
       "'\\nАнализируем полученные данные, чтобы выделить, какие столбцы важные\\n'"
      ]
     },
     "execution_count": 39,
     "metadata": {},
     "output_type": "execute_result"
    }
   ],
   "source": [
    "\"\"\"\n",
    "Анализируем полученные данные, чтобы выделить, какие столбцы важные\n",
    "\"\"\""
   ]
  },
  {
   "cell_type": "code",
   "execution_count": 40,
   "metadata": {},
   "outputs": [],
   "source": [
    "import pandas as pd\n",
    "import numpy as np\n",
    "import matplotlib\n",
    "from datetime import datetime\n",
    "from datetime import date"
   ]
  },
  {
   "cell_type": "code",
   "execution_count": 41,
   "metadata": {},
   "outputs": [
    {
     "data": {
      "text/html": [
       "<div>\n",
       "<style scoped>\n",
       "    .dataframe tbody tr th:only-of-type {\n",
       "        vertical-align: middle;\n",
       "    }\n",
       "\n",
       "    .dataframe tbody tr th {\n",
       "        vertical-align: top;\n",
       "    }\n",
       "\n",
       "    .dataframe thead th {\n",
       "        text-align: right;\n",
       "    }\n",
       "</style>\n",
       "<table border=\"1\" class=\"dataframe\">\n",
       "  <thead>\n",
       "    <tr style=\"text-align: right;\">\n",
       "      <th></th>\n",
       "      <th>group_id</th>\n",
       "      <th>comments_count</th>\n",
       "      <th>date</th>\n",
       "      <th>likes_count</th>\n",
       "      <th>marked_as_ads</th>\n",
       "      <th>post_source</th>\n",
       "      <th>reposts_count</th>\n",
       "      <th>text</th>\n",
       "      <th>views_count</th>\n",
       "    </tr>\n",
       "  </thead>\n",
       "  <tbody>\n",
       "    <tr>\n",
       "      <th>0</th>\n",
       "      <td>29387592</td>\n",
       "      <td>3</td>\n",
       "      <td>1551424108</td>\n",
       "      <td>8</td>\n",
       "      <td>0</td>\n",
       "      <td>vk</td>\n",
       "      <td>4</td>\n",
       "      <td>Криптовалютная биржа Coinbase уже давно вызыва...</td>\n",
       "      <td>2798.0</td>\n",
       "    </tr>\n",
       "    <tr>\n",
       "      <th>1</th>\n",
       "      <td>29387592</td>\n",
       "      <td>0</td>\n",
       "      <td>1551289953</td>\n",
       "      <td>3</td>\n",
       "      <td>0</td>\n",
       "      <td>vk</td>\n",
       "      <td>0</td>\n",
       "      <td>Новозеландская биржа криптовалют Cryptopia рас...</td>\n",
       "      <td>1965.0</td>\n",
       "    </tr>\n",
       "    <tr>\n",
       "      <th>2</th>\n",
       "      <td>29387592</td>\n",
       "      <td>5</td>\n",
       "      <td>1551209662</td>\n",
       "      <td>4</td>\n",
       "      <td>0</td>\n",
       "      <td>vk</td>\n",
       "      <td>0</td>\n",
       "      <td>Анонимному хакеру удалось перевести 2.09 милли...</td>\n",
       "      <td>2353.0</td>\n",
       "    </tr>\n",
       "    <tr>\n",
       "      <th>3</th>\n",
       "      <td>29387592</td>\n",
       "      <td>0</td>\n",
       "      <td>1551116634</td>\n",
       "      <td>11</td>\n",
       "      <td>0</td>\n",
       "      <td>vk</td>\n",
       "      <td>4</td>\n",
       "      <td>После недели роста криптовалютного рынка новый...</td>\n",
       "      <td>2642.0</td>\n",
       "    </tr>\n",
       "    <tr>\n",
       "      <th>4</th>\n",
       "      <td>29387592</td>\n",
       "      <td>0</td>\n",
       "      <td>1550835826</td>\n",
       "      <td>3</td>\n",
       "      <td>0</td>\n",
       "      <td>vk</td>\n",
       "      <td>0</td>\n",
       "      <td>Глава биржи Coinbase Брайан Армстронг (Brian A...</td>\n",
       "      <td>1929.0</td>\n",
       "    </tr>\n",
       "  </tbody>\n",
       "</table>\n",
       "</div>"
      ],
      "text/plain": [
       "   group_id  comments_count        date  likes_count  marked_as_ads  \\\n",
       "0  29387592               3  1551424108            8              0   \n",
       "1  29387592               0  1551289953            3              0   \n",
       "2  29387592               5  1551209662            4              0   \n",
       "3  29387592               0  1551116634           11              0   \n",
       "4  29387592               0  1550835826            3              0   \n",
       "\n",
       "  post_source  reposts_count  \\\n",
       "0          vk              4   \n",
       "1          vk              0   \n",
       "2          vk              0   \n",
       "3          vk              4   \n",
       "4          vk              0   \n",
       "\n",
       "                                                text  views_count  \n",
       "0  Криптовалютная биржа Coinbase уже давно вызыва...       2798.0  \n",
       "1  Новозеландская биржа криптовалют Cryptopia рас...       1965.0  \n",
       "2  Анонимному хакеру удалось перевести 2.09 милли...       2353.0  \n",
       "3  После недели роста криптовалютного рынка новый...       2642.0  \n",
       "4  Глава биржи Coinbase Брайан Армстронг (Brian A...       1929.0  "
      ]
     },
     "execution_count": 41,
     "metadata": {},
     "output_type": "execute_result"
    }
   ],
   "source": [
    "df = pd.read_csv(RESULTS_FILE_NAME)\n",
    "df.head()"
   ]
  },
  {
   "cell_type": "code",
   "execution_count": 42,
   "metadata": {},
   "outputs": [
    {
     "data": {
      "text/html": [
       "<div>\n",
       "<style scoped>\n",
       "    .dataframe tbody tr th:only-of-type {\n",
       "        vertical-align: middle;\n",
       "    }\n",
       "\n",
       "    .dataframe tbody tr th {\n",
       "        vertical-align: top;\n",
       "    }\n",
       "\n",
       "    .dataframe thead th {\n",
       "        text-align: right;\n",
       "    }\n",
       "</style>\n",
       "<table border=\"1\" class=\"dataframe\">\n",
       "  <thead>\n",
       "    <tr style=\"text-align: right;\">\n",
       "      <th></th>\n",
       "      <th>group_id</th>\n",
       "      <th>comments_count</th>\n",
       "      <th>date</th>\n",
       "      <th>likes_count</th>\n",
       "      <th>marked_as_ads</th>\n",
       "      <th>post_source</th>\n",
       "      <th>reposts_count</th>\n",
       "      <th>text</th>\n",
       "      <th>views_count</th>\n",
       "      <th>day_number</th>\n",
       "    </tr>\n",
       "  </thead>\n",
       "  <tbody>\n",
       "    <tr>\n",
       "      <th>0</th>\n",
       "      <td>29387592</td>\n",
       "      <td>3</td>\n",
       "      <td>1551424108</td>\n",
       "      <td>8</td>\n",
       "      <td>0</td>\n",
       "      <td>vk</td>\n",
       "      <td>4</td>\n",
       "      <td>Криптовалютная биржа Coinbase уже давно вызыва...</td>\n",
       "      <td>2798.0</td>\n",
       "      <td>90</td>\n",
       "    </tr>\n",
       "    <tr>\n",
       "      <th>1</th>\n",
       "      <td>29387592</td>\n",
       "      <td>0</td>\n",
       "      <td>1551289953</td>\n",
       "      <td>3</td>\n",
       "      <td>0</td>\n",
       "      <td>vk</td>\n",
       "      <td>0</td>\n",
       "      <td>Новозеландская биржа криптовалют Cryptopia рас...</td>\n",
       "      <td>1965.0</td>\n",
       "      <td>88</td>\n",
       "    </tr>\n",
       "    <tr>\n",
       "      <th>2</th>\n",
       "      <td>29387592</td>\n",
       "      <td>5</td>\n",
       "      <td>1551209662</td>\n",
       "      <td>4</td>\n",
       "      <td>0</td>\n",
       "      <td>vk</td>\n",
       "      <td>0</td>\n",
       "      <td>Анонимному хакеру удалось перевести 2.09 милли...</td>\n",
       "      <td>2353.0</td>\n",
       "      <td>87</td>\n",
       "    </tr>\n",
       "    <tr>\n",
       "      <th>3</th>\n",
       "      <td>29387592</td>\n",
       "      <td>0</td>\n",
       "      <td>1551116634</td>\n",
       "      <td>11</td>\n",
       "      <td>0</td>\n",
       "      <td>vk</td>\n",
       "      <td>4</td>\n",
       "      <td>После недели роста криптовалютного рынка новый...</td>\n",
       "      <td>2642.0</td>\n",
       "      <td>86</td>\n",
       "    </tr>\n",
       "    <tr>\n",
       "      <th>4</th>\n",
       "      <td>29387592</td>\n",
       "      <td>0</td>\n",
       "      <td>1550835826</td>\n",
       "      <td>3</td>\n",
       "      <td>0</td>\n",
       "      <td>vk</td>\n",
       "      <td>0</td>\n",
       "      <td>Глава биржи Coinbase Брайан Армстронг (Brian A...</td>\n",
       "      <td>1929.0</td>\n",
       "      <td>83</td>\n",
       "    </tr>\n",
       "  </tbody>\n",
       "</table>\n",
       "</div>"
      ],
      "text/plain": [
       "   group_id  comments_count        date  likes_count  marked_as_ads  \\\n",
       "0  29387592               3  1551424108            8              0   \n",
       "1  29387592               0  1551289953            3              0   \n",
       "2  29387592               5  1551209662            4              0   \n",
       "3  29387592               0  1551116634           11              0   \n",
       "4  29387592               0  1550835826            3              0   \n",
       "\n",
       "  post_source  reposts_count  \\\n",
       "0          vk              4   \n",
       "1          vk              0   \n",
       "2          vk              0   \n",
       "3          vk              4   \n",
       "4          vk              0   \n",
       "\n",
       "                                                text  views_count  day_number  \n",
       "0  Криптовалютная биржа Coinbase уже давно вызыва...       2798.0          90  \n",
       "1  Новозеландская биржа криптовалют Cryptopia рас...       1965.0          88  \n",
       "2  Анонимному хакеру удалось перевести 2.09 милли...       2353.0          87  \n",
       "3  После недели роста криптовалютного рынка новый...       2642.0          86  \n",
       "4  Глава биржи Coinbase Брайан Армстронг (Brian A...       1929.0          83  "
      ]
     },
     "execution_count": 42,
     "metadata": {},
     "output_type": "execute_result"
    }
   ],
   "source": [
    "# для удобства - создадим столбец, который представляет дату в виде \"номер дня начиная от date0\"\n",
    "date_start = datetime(2018, 12, 1)\n",
    "df['day_number'] = df['date'].apply(lambda x: (datetime.fromtimestamp(int(x)) - date_start).days)\n",
    "df.head()"
   ]
  },
  {
   "cell_type": "code",
   "execution_count": 43,
   "metadata": {},
   "outputs": [
    {
     "data": {
      "text/html": [
       "<div>\n",
       "<style scoped>\n",
       "    .dataframe tbody tr th:only-of-type {\n",
       "        vertical-align: middle;\n",
       "    }\n",
       "\n",
       "    .dataframe tbody tr th {\n",
       "        vertical-align: top;\n",
       "    }\n",
       "\n",
       "    .dataframe thead th {\n",
       "        text-align: right;\n",
       "    }\n",
       "</style>\n",
       "<table border=\"1\" class=\"dataframe\">\n",
       "  <thead>\n",
       "    <tr style=\"text-align: right;\">\n",
       "      <th></th>\n",
       "      <th>group_id</th>\n",
       "      <th>comments_count</th>\n",
       "      <th>date</th>\n",
       "      <th>likes_count</th>\n",
       "      <th>marked_as_ads</th>\n",
       "      <th>reposts_count</th>\n",
       "      <th>views_count</th>\n",
       "      <th>day_number</th>\n",
       "    </tr>\n",
       "  </thead>\n",
       "  <tbody>\n",
       "    <tr>\n",
       "      <th>count</th>\n",
       "      <td>6.440000e+03</td>\n",
       "      <td>6440.000000</td>\n",
       "      <td>6.440000e+03</td>\n",
       "      <td>6440.000000</td>\n",
       "      <td>6440.000000</td>\n",
       "      <td>6440.000000</td>\n",
       "      <td>5.880000e+03</td>\n",
       "      <td>6440.000000</td>\n",
       "    </tr>\n",
       "    <tr>\n",
       "      <th>mean</th>\n",
       "      <td>7.596557e+07</td>\n",
       "      <td>10.502174</td>\n",
       "      <td>1.528703e+09</td>\n",
       "      <td>19.768944</td>\n",
       "      <td>0.005124</td>\n",
       "      <td>3.304814</td>\n",
       "      <td>1.937818e+03</td>\n",
       "      <td>-173.183540</td>\n",
       "    </tr>\n",
       "    <tr>\n",
       "      <th>std</th>\n",
       "      <td>4.312722e+07</td>\n",
       "      <td>184.745061</td>\n",
       "      <td>3.568685e+07</td>\n",
       "      <td>431.889545</td>\n",
       "      <td>0.071406</td>\n",
       "      <td>65.740916</td>\n",
       "      <td>4.166828e+04</td>\n",
       "      <td>413.019175</td>\n",
       "    </tr>\n",
       "    <tr>\n",
       "      <th>min</th>\n",
       "      <td>6.320450e+05</td>\n",
       "      <td>0.000000</td>\n",
       "      <td>1.398186e+09</td>\n",
       "      <td>0.000000</td>\n",
       "      <td>0.000000</td>\n",
       "      <td>0.000000</td>\n",
       "      <td>3.000000e+00</td>\n",
       "      <td>-1684.000000</td>\n",
       "    </tr>\n",
       "    <tr>\n",
       "      <th>25%</th>\n",
       "      <td>5.077432e+07</td>\n",
       "      <td>0.000000</td>\n",
       "      <td>1.527688e+09</td>\n",
       "      <td>0.000000</td>\n",
       "      <td>0.000000</td>\n",
       "      <td>0.000000</td>\n",
       "      <td>1.340000e+02</td>\n",
       "      <td>-185.000000</td>\n",
       "    </tr>\n",
       "    <tr>\n",
       "      <th>50%</th>\n",
       "      <td>6.358972e+07</td>\n",
       "      <td>0.000000</td>\n",
       "      <td>1.540217e+09</td>\n",
       "      <td>2.000000</td>\n",
       "      <td>0.000000</td>\n",
       "      <td>0.000000</td>\n",
       "      <td>3.350000e+02</td>\n",
       "      <td>-40.000000</td>\n",
       "    </tr>\n",
       "    <tr>\n",
       "      <th>75%</th>\n",
       "      <td>1.113152e+08</td>\n",
       "      <td>0.000000</td>\n",
       "      <td>1.548511e+09</td>\n",
       "      <td>7.000000</td>\n",
       "      <td>0.000000</td>\n",
       "      <td>1.000000</td>\n",
       "      <td>1.105250e+03</td>\n",
       "      <td>56.000000</td>\n",
       "    </tr>\n",
       "    <tr>\n",
       "      <th>max</th>\n",
       "      <td>1.627583e+08</td>\n",
       "      <td>8687.000000</td>\n",
       "      <td>1.551723e+09</td>\n",
       "      <td>32519.000000</td>\n",
       "      <td>1.000000</td>\n",
       "      <td>5075.000000</td>\n",
       "      <td>2.567593e+06</td>\n",
       "      <td>93.000000</td>\n",
       "    </tr>\n",
       "  </tbody>\n",
       "</table>\n",
       "</div>"
      ],
      "text/plain": [
       "           group_id  comments_count          date   likes_count  \\\n",
       "count  6.440000e+03     6440.000000  6.440000e+03   6440.000000   \n",
       "mean   7.596557e+07       10.502174  1.528703e+09     19.768944   \n",
       "std    4.312722e+07      184.745061  3.568685e+07    431.889545   \n",
       "min    6.320450e+05        0.000000  1.398186e+09      0.000000   \n",
       "25%    5.077432e+07        0.000000  1.527688e+09      0.000000   \n",
       "50%    6.358972e+07        0.000000  1.540217e+09      2.000000   \n",
       "75%    1.113152e+08        0.000000  1.548511e+09      7.000000   \n",
       "max    1.627583e+08     8687.000000  1.551723e+09  32519.000000   \n",
       "\n",
       "       marked_as_ads  reposts_count   views_count   day_number  \n",
       "count    6440.000000    6440.000000  5.880000e+03  6440.000000  \n",
       "mean        0.005124       3.304814  1.937818e+03  -173.183540  \n",
       "std         0.071406      65.740916  4.166828e+04   413.019175  \n",
       "min         0.000000       0.000000  3.000000e+00 -1684.000000  \n",
       "25%         0.000000       0.000000  1.340000e+02  -185.000000  \n",
       "50%         0.000000       0.000000  3.350000e+02   -40.000000  \n",
       "75%         0.000000       1.000000  1.105250e+03    56.000000  \n",
       "max         1.000000    5075.000000  2.567593e+06    93.000000  "
      ]
     },
     "execution_count": 43,
     "metadata": {},
     "output_type": "execute_result"
    }
   ],
   "source": [
    "df.describe()\n",
    "# по результатам - замечаем, что разброс значений велик практически в каждом столбце.\n",
    "# Пока - не очень понятно, какие столбцы содержат полезную информацию."
   ]
  },
  {
   "cell_type": "code",
   "execution_count": 44,
   "metadata": {},
   "outputs": [
    {
     "name": "stdout",
     "output_type": "stream",
     "text": [
      "vk     4990\n",
      "api    1156\n",
      "rss     200\n",
      "mvk      94\n",
      "Name: post_source, dtype: int64\n"
     ]
    }
   ],
   "source": [
    "# Для каждого столбца выполним такой код - проверим, что есть разнообразие в значениях\n",
    "print(df['post_source'].value_counts())\n",
    "# те столбцы, которые содержат только одно значение - исключаем из списка"
   ]
  },
  {
   "cell_type": "code",
   "execution_count": 45,
   "metadata": {},
   "outputs": [
    {
     "name": "stdout",
     "output_type": "stream",
     "text": [
      "92718200    13\n",
      "33135732    13\n",
      "93604475     3\n",
      "19354230     2\n",
      "51789870     1\n",
      "79363873     1\n",
      "Name: group_id, dtype: int64\n"
     ]
    }
   ],
   "source": [
    "# столбец 'marked_as_ads' проанализируем чуть подробней - в 1% строк значение отличается \n",
    "# -> если это происходит для одного group_id - тогда данные интереса не представляют (корелляция с group_id).\n",
    "tmp_df = df[df['marked_as_ads'] == 1]\n",
    "print(tmp_df['group_id'].value_counts())\n",
    "# решение = оставляем столбец"
   ]
  },
  {
   "cell_type": "code",
   "execution_count": 47,
   "metadata": {},
   "outputs": [
    {
     "data": {
      "text/plain": [
       "array([[<matplotlib.axes._subplots.AxesSubplot object at 0x000001F6F0A73DA0>,\n",
       "        <matplotlib.axes._subplots.AxesSubplot object at 0x000001F6F0AA0F98>],\n",
       "       [<matplotlib.axes._subplots.AxesSubplot object at 0x000001F6F0AD0518>,\n",
       "        <matplotlib.axes._subplots.AxesSubplot object at 0x000001F6F0AF8A90>],\n",
       "       [<matplotlib.axes._subplots.AxesSubplot object at 0x000001F6F0B2B048>,\n",
       "        <matplotlib.axes._subplots.AxesSubplot object at 0x000001F6F0B525C0>]],\n",
       "      dtype=object)"
      ]
     },
     "execution_count": 47,
     "metadata": {},
     "output_type": "execute_result"
    },
    {
     "data": {
      "image/png": "[encoded data removed]",
      "text/plain": [
       "<Figure size 432x288 with 6 Axes>"
      ]
     },
     "metadata": {
      "needs_background": "light"
     },
     "output_type": "display_data"
    }
   ],
   "source": [
    "# посмотрим на распределения значений в каждом столбце, который оставляем\n",
    "df[['group_id', 'day_number', 'comments_count', 'likes_count', 'reposts_count', 'views_count']].hist()"
   ]
  },
  {
   "cell_type": "code",
   "execution_count": 48,
   "metadata": {},
   "outputs": [
    {
     "data": {
      "text/plain": [
       "'\\nВывод:\\nДля анализа интересны столбцы:\\n    \\'comments_count\\' - кол-во комментариев,\\n    \\'date\\' - дата публикации,\\n    \\'likes_count\\' - кол-во отметок \"нравится\",\\n    \\'marked_as_ads\\' - флаг \"реклама\",\\n    \\'post_source\\' - источник публикации,\\n    \\'reposts_count\\' - кол-во репостов,\\n    \\'views_count\\' - кол-во просмотров.\\nИ еще один столбец:\\n    \\'text\\' - заглавие (в анализе не участвует, но для наглядности данных - оставляем).\\n\\nИтого: 7 столбцов, и строк > 1000.\\nДанные удовлетворяют условию сдачи задания.\\n'"
      ]
     },
     "execution_count": 48,
     "metadata": {},
     "output_type": "execute_result"
    }
   ],
   "source": [
    "\"\"\"\n",
    "Вывод:\n",
    "Для анализа интересны столбцы:\n",
    "    'comments_count' - кол-во комментариев,\n",
    "    'date' - дата публикации,\n",
    "    'likes_count' - кол-во отметок \"нравится\",\n",
    "    'marked_as_ads' - флаг \"реклама\",\n",
    "    'post_source' - источник публикации,\n",
    "    'reposts_count' - кол-во репостов,\n",
    "    'views_count' - кол-во просмотров.\n",
    "И еще один столбец:\n",
    "    'text' - заглавие (в анализе не участвует, но для наглядности данных - оставляем).\n",
    "\n",
    "Итого: 7 столбцов, и строк > 1000.\n",
    "Данные удовлетворяют условию сдачи задания.\n",
    "\"\"\""
   ]
  },
  {
   "cell_type": "code",
   "execution_count": 49,
   "metadata": {},
   "outputs": [
    {
     "data": {
      "text/plain": [
       "'\\nПо этим столбцам - можно предположить, что столбцы:\\nviews_count, comments_count, reposts_count, likes_count\\nотражают интерес посетителей к публикации и вовлеченность в некоторый процесс, который публикация запускает.\\nВозможно, активность пользователей - различается для разных сообществ?\\n\\nВопрос N1:\\nСуществует ли попарная корелляция между значениями в столбцах: views_count, comments_count, reposts_count, likes_count ?\\n\\nВопрос N2:\\nСуществует ли корелляция между comments_count, reposts_count, likes_count?\\nТо есть, возможно ли снизить размерность, если введем свойство \"интерес к публикации\" вместо этих 3-х столбцов?\\nВозможно, стоит добавить отношение к кол-ву просмотров? Пусть это будет второй вариант оценки \"интерес к публикации\".\\n\\nВопрос N3:\\nВ каких сообществах сообщения вызывают наибольший интерес?\\n'"
      ]
     },
     "execution_count": 49,
     "metadata": {},
     "output_type": "execute_result"
    }
   ],
   "source": [
    "\"\"\"\n",
    "По этим столбцам - можно предположить, что столбцы:\n",
    "views_count, comments_count, reposts_count, likes_count\n",
    "отражают интерес посетителей к публикации и вовлеченность в некоторый процесс, который публикация запускает.\n",
    "Возможно, активность пользователей - различается для разных сообществ?\n",
    "\n",
    "Вопрос N1:\n",
    "Существует ли попарная корелляция между значениями в столбцах: views_count, comments_count, reposts_count, likes_count ?\n",
    "\n",
    "Вопрос N2:\n",
    "Существует ли корелляция между comments_count, reposts_count, likes_count?\n",
    "То есть, возможно ли снизить размерность, если введем свойство \"интерес к публикации\" вместо этих 3-х столбцов?\n",
    "Возможно, стоит добавить отношение к кол-ву просмотров? Пусть это будет второй вариант оценки \"интерес к публикации\".\n",
    "\n",
    "Вопрос N3:\n",
    "В каких сообществах сообщения вызывают наибольший интерес?\n",
    "\"\"\""
   ]
  },
  {
   "cell_type": "code",
   "execution_count": 50,
   "metadata": {},
   "outputs": [],
   "source": [
    "# Найдем ответ на вопрос N1"
   ]
  },
  {
   "cell_type": "code",
   "execution_count": 51,
   "metadata": {},
   "outputs": [],
   "source": [
    "import pandas as pd\n",
    "import numpy as np\n",
    "import matplotlib\n",
    "from datetime import datetime\n",
    "from datetime import date"
   ]
  },
  {
   "cell_type": "code",
   "execution_count": 52,
   "metadata": {},
   "outputs": [],
   "source": [
    "# константы, которые используем\n",
    "RESULTS_FILE_NAME = 'result.csv' # название файла с данными"
   ]
  },
  {
   "cell_type": "code",
   "execution_count": 53,
   "metadata": {},
   "outputs": [
    {
     "data": {
      "text/html": [
       "<div>\n",
       "<style scoped>\n",
       "    .dataframe tbody tr th:only-of-type {\n",
       "        vertical-align: middle;\n",
       "    }\n",
       "\n",
       "    .dataframe tbody tr th {\n",
       "        vertical-align: top;\n",
       "    }\n",
       "\n",
       "    .dataframe thead th {\n",
       "        text-align: right;\n",
       "    }\n",
       "</style>\n",
       "<table border=\"1\" class=\"dataframe\">\n",
       "  <thead>\n",
       "    <tr style=\"text-align: right;\">\n",
       "      <th></th>\n",
       "      <th>group_id</th>\n",
       "      <th>comments_count</th>\n",
       "      <th>date</th>\n",
       "      <th>likes_count</th>\n",
       "      <th>marked_as_ads</th>\n",
       "      <th>post_source</th>\n",
       "      <th>reposts_count</th>\n",
       "      <th>text</th>\n",
       "      <th>views_count</th>\n",
       "    </tr>\n",
       "  </thead>\n",
       "  <tbody>\n",
       "    <tr>\n",
       "      <th>0</th>\n",
       "      <td>29387592</td>\n",
       "      <td>3</td>\n",
       "      <td>1551424108</td>\n",
       "      <td>8</td>\n",
       "      <td>0</td>\n",
       "      <td>vk</td>\n",
       "      <td>4</td>\n",
       "      <td>Криптовалютная биржа Coinbase уже давно вызыва...</td>\n",
       "      <td>2798.0</td>\n",
       "    </tr>\n",
       "    <tr>\n",
       "      <th>1</th>\n",
       "      <td>29387592</td>\n",
       "      <td>0</td>\n",
       "      <td>1551289953</td>\n",
       "      <td>3</td>\n",
       "      <td>0</td>\n",
       "      <td>vk</td>\n",
       "      <td>0</td>\n",
       "      <td>Новозеландская биржа криптовалют Cryptopia рас...</td>\n",
       "      <td>1965.0</td>\n",
       "    </tr>\n",
       "    <tr>\n",
       "      <th>2</th>\n",
       "      <td>29387592</td>\n",
       "      <td>5</td>\n",
       "      <td>1551209662</td>\n",
       "      <td>4</td>\n",
       "      <td>0</td>\n",
       "      <td>vk</td>\n",
       "      <td>0</td>\n",
       "      <td>Анонимному хакеру удалось перевести 2.09 милли...</td>\n",
       "      <td>2353.0</td>\n",
       "    </tr>\n",
       "    <tr>\n",
       "      <th>3</th>\n",
       "      <td>29387592</td>\n",
       "      <td>0</td>\n",
       "      <td>1551116634</td>\n",
       "      <td>11</td>\n",
       "      <td>0</td>\n",
       "      <td>vk</td>\n",
       "      <td>4</td>\n",
       "      <td>После недели роста криптовалютного рынка новый...</td>\n",
       "      <td>2642.0</td>\n",
       "    </tr>\n",
       "    <tr>\n",
       "      <th>4</th>\n",
       "      <td>29387592</td>\n",
       "      <td>0</td>\n",
       "      <td>1550835826</td>\n",
       "      <td>3</td>\n",
       "      <td>0</td>\n",
       "      <td>vk</td>\n",
       "      <td>0</td>\n",
       "      <td>Глава биржи Coinbase Брайан Армстронг (Brian A...</td>\n",
       "      <td>1929.0</td>\n",
       "    </tr>\n",
       "  </tbody>\n",
       "</table>\n",
       "</div>"
      ],
      "text/plain": [
       "   group_id  comments_count        date  likes_count  marked_as_ads  \\\n",
       "0  29387592               3  1551424108            8              0   \n",
       "1  29387592               0  1551289953            3              0   \n",
       "2  29387592               5  1551209662            4              0   \n",
       "3  29387592               0  1551116634           11              0   \n",
       "4  29387592               0  1550835826            3              0   \n",
       "\n",
       "  post_source  reposts_count  \\\n",
       "0          vk              4   \n",
       "1          vk              0   \n",
       "2          vk              0   \n",
       "3          vk              4   \n",
       "4          vk              0   \n",
       "\n",
       "                                                text  views_count  \n",
       "0  Криптовалютная биржа Coinbase уже давно вызыва...       2798.0  \n",
       "1  Новозеландская биржа криптовалют Cryptopia рас...       1965.0  \n",
       "2  Анонимному хакеру удалось перевести 2.09 милли...       2353.0  \n",
       "3  После недели роста криптовалютного рынка новый...       2642.0  \n",
       "4  Глава биржи Coinbase Брайан Армстронг (Brian A...       1929.0  "
      ]
     },
     "execution_count": 53,
     "metadata": {},
     "output_type": "execute_result"
    }
   ],
   "source": [
    "df = pd.read_csv(RESULTS_FILE_NAME)\n",
    "df.head()"
   ]
  },
  {
   "cell_type": "code",
   "execution_count": 54,
   "metadata": {},
   "outputs": [
    {
     "data": {
      "text/html": [
       "<div>\n",
       "<style scoped>\n",
       "    .dataframe tbody tr th:only-of-type {\n",
       "        vertical-align: middle;\n",
       "    }\n",
       "\n",
       "    .dataframe tbody tr th {\n",
       "        vertical-align: top;\n",
       "    }\n",
       "\n",
       "    .dataframe thead th {\n",
       "        text-align: right;\n",
       "    }\n",
       "</style>\n",
       "<table border=\"1\" class=\"dataframe\">\n",
       "  <thead>\n",
       "    <tr style=\"text-align: right;\">\n",
       "      <th></th>\n",
       "      <th>group_id</th>\n",
       "      <th>comments_count</th>\n",
       "      <th>date</th>\n",
       "      <th>likes_count</th>\n",
       "      <th>marked_as_ads</th>\n",
       "      <th>post_source</th>\n",
       "      <th>reposts_count</th>\n",
       "      <th>text</th>\n",
       "      <th>views_count</th>\n",
       "      <th>day_number</th>\n",
       "    </tr>\n",
       "  </thead>\n",
       "  <tbody>\n",
       "    <tr>\n",
       "      <th>0</th>\n",
       "      <td>29387592</td>\n",
       "      <td>3</td>\n",
       "      <td>1551424108</td>\n",
       "      <td>8</td>\n",
       "      <td>0</td>\n",
       "      <td>vk</td>\n",
       "      <td>4</td>\n",
       "      <td>Криптовалютная биржа Coinbase уже давно вызыва...</td>\n",
       "      <td>2798.0</td>\n",
       "      <td>90</td>\n",
       "    </tr>\n",
       "    <tr>\n",
       "      <th>1</th>\n",
       "      <td>29387592</td>\n",
       "      <td>0</td>\n",
       "      <td>1551289953</td>\n",
       "      <td>3</td>\n",
       "      <td>0</td>\n",
       "      <td>vk</td>\n",
       "      <td>0</td>\n",
       "      <td>Новозеландская биржа криптовалют Cryptopia рас...</td>\n",
       "      <td>1965.0</td>\n",
       "      <td>88</td>\n",
       "    </tr>\n",
       "    <tr>\n",
       "      <th>2</th>\n",
       "      <td>29387592</td>\n",
       "      <td>5</td>\n",
       "      <td>1551209662</td>\n",
       "      <td>4</td>\n",
       "      <td>0</td>\n",
       "      <td>vk</td>\n",
       "      <td>0</td>\n",
       "      <td>Анонимному хакеру удалось перевести 2.09 милли...</td>\n",
       "      <td>2353.0</td>\n",
       "      <td>87</td>\n",
       "    </tr>\n",
       "    <tr>\n",
       "      <th>3</th>\n",
       "      <td>29387592</td>\n",
       "      <td>0</td>\n",
       "      <td>1551116634</td>\n",
       "      <td>11</td>\n",
       "      <td>0</td>\n",
       "      <td>vk</td>\n",
       "      <td>4</td>\n",
       "      <td>После недели роста криптовалютного рынка новый...</td>\n",
       "      <td>2642.0</td>\n",
       "      <td>86</td>\n",
       "    </tr>\n",
       "    <tr>\n",
       "      <th>4</th>\n",
       "      <td>29387592</td>\n",
       "      <td>0</td>\n",
       "      <td>1550835826</td>\n",
       "      <td>3</td>\n",
       "      <td>0</td>\n",
       "      <td>vk</td>\n",
       "      <td>0</td>\n",
       "      <td>Глава биржи Coinbase Брайан Армстронг (Brian A...</td>\n",
       "      <td>1929.0</td>\n",
       "      <td>83</td>\n",
       "    </tr>\n",
       "  </tbody>\n",
       "</table>\n",
       "</div>"
      ],
      "text/plain": [
       "   group_id  comments_count        date  likes_count  marked_as_ads  \\\n",
       "0  29387592               3  1551424108            8              0   \n",
       "1  29387592               0  1551289953            3              0   \n",
       "2  29387592               5  1551209662            4              0   \n",
       "3  29387592               0  1551116634           11              0   \n",
       "4  29387592               0  1550835826            3              0   \n",
       "\n",
       "  post_source  reposts_count  \\\n",
       "0          vk              4   \n",
       "1          vk              0   \n",
       "2          vk              0   \n",
       "3          vk              4   \n",
       "4          vk              0   \n",
       "\n",
       "                                                text  views_count  day_number  \n",
       "0  Криптовалютная биржа Coinbase уже давно вызыва...       2798.0          90  \n",
       "1  Новозеландская биржа криптовалют Cryptopia рас...       1965.0          88  \n",
       "2  Анонимному хакеру удалось перевести 2.09 милли...       2353.0          87  \n",
       "3  После недели роста криптовалютного рынка новый...       2642.0          86  \n",
       "4  Глава биржи Coinbase Брайан Армстронг (Brian A...       1929.0          83  "
      ]
     },
     "execution_count": 54,
     "metadata": {},
     "output_type": "execute_result"
    }
   ],
   "source": [
    "# для удобства - создадим столбец, который представляет дату в виде \"номер дня начиная от date0\"\n",
    "date_start = datetime(2018, 12, 1)\n",
    "df['day_number'] = df['date'].apply(lambda x: (datetime.fromtimestamp(int(x)) - date_start).days)\n",
    "df.head()"
   ]
  },
  {
   "cell_type": "code",
   "execution_count": 55,
   "metadata": {},
   "outputs": [],
   "source": [
    "# введем новый dataframe, который используем для ответа на вопрос N1\n",
    "df_1 = df[['comments_count','likes_count','reposts_count','views_count']].copy()"
   ]
  },
  {
   "cell_type": "code",
   "execution_count": 56,
   "metadata": {},
   "outputs": [
    {
     "data": {
      "text/html": [
       "<div>\n",
       "<style scoped>\n",
       "    .dataframe tbody tr th:only-of-type {\n",
       "        vertical-align: middle;\n",
       "    }\n",
       "\n",
       "    .dataframe tbody tr th {\n",
       "        vertical-align: top;\n",
       "    }\n",
       "\n",
       "    .dataframe thead th {\n",
       "        text-align: right;\n",
       "    }\n",
       "</style>\n",
       "<table border=\"1\" class=\"dataframe\">\n",
       "  <thead>\n",
       "    <tr style=\"text-align: right;\">\n",
       "      <th></th>\n",
       "      <th>comments_count</th>\n",
       "      <th>likes_count</th>\n",
       "      <th>reposts_count</th>\n",
       "      <th>views_count</th>\n",
       "    </tr>\n",
       "  </thead>\n",
       "  <tbody>\n",
       "    <tr>\n",
       "      <th>comments_count</th>\n",
       "      <td>1.000000</td>\n",
       "      <td>0.259899</td>\n",
       "      <td>0.312641</td>\n",
       "      <td>0.321262</td>\n",
       "    </tr>\n",
       "    <tr>\n",
       "      <th>likes_count</th>\n",
       "      <td>0.259899</td>\n",
       "      <td>1.000000</td>\n",
       "      <td>0.939231</td>\n",
       "      <td>0.724269</td>\n",
       "    </tr>\n",
       "    <tr>\n",
       "      <th>reposts_count</th>\n",
       "      <td>0.312641</td>\n",
       "      <td>0.939231</td>\n",
       "      <td>1.000000</td>\n",
       "      <td>0.508659</td>\n",
       "    </tr>\n",
       "    <tr>\n",
       "      <th>views_count</th>\n",
       "      <td>0.321262</td>\n",
       "      <td>0.724269</td>\n",
       "      <td>0.508659</td>\n",
       "      <td>1.000000</td>\n",
       "    </tr>\n",
       "  </tbody>\n",
       "</table>\n",
       "</div>"
      ],
      "text/plain": [
       "                comments_count  likes_count  reposts_count  views_count\n",
       "comments_count        1.000000     0.259899       0.312641     0.321262\n",
       "likes_count           0.259899     1.000000       0.939231     0.724269\n",
       "reposts_count         0.312641     0.939231       1.000000     0.508659\n",
       "views_count           0.321262     0.724269       0.508659     1.000000"
      ]
     },
     "execution_count": 56,
     "metadata": {},
     "output_type": "execute_result"
    }
   ],
   "source": [
    "# отобразим корреляцию\n",
    "df_1.corr()\n",
    "# результат наблюдений - это ответ на Вопрос N1"
   ]
  },
  {
   "cell_type": "code",
   "execution_count": 57,
   "metadata": {},
   "outputs": [
    {
     "data": {
      "text/plain": [
       "'\\nОтвет на вопрос N1\\n\\nКорреляция есть:\\nlikes_count, reposts_count - 0,95. Оценим, это как сильная корреляция\\nlikes_count, views_count - 0,74. Назовем: средняя\\nreposts_count, views_count - 0,52. Назовем: необязательная.\\n'"
      ]
     },
     "execution_count": 57,
     "metadata": {},
     "output_type": "execute_result"
    }
   ],
   "source": [
    "\"\"\"\n",
    "Ответ на вопрос N1\n",
    "\n",
    "Корреляция есть:\n",
    "likes_count, reposts_count - 0,95. Оценим, это как сильная корреляция\n",
    "likes_count, views_count - 0,74. Назовем: средняя\n",
    "reposts_count, views_count - 0,52. Назовем: необязательная.\n",
    "\"\"\""
   ]
  },
  {
   "cell_type": "code",
   "execution_count": 58,
   "metadata": {},
   "outputs": [],
   "source": [
    "# Ищем ответ на вопрос N2"
   ]
  },
  {
   "cell_type": "code",
   "execution_count": 59,
   "metadata": {},
   "outputs": [],
   "source": [
    "# введем величину: кол-во лайков на 1 репост\n",
    "def likes_per_repost_func(row):\n",
    "    return 1.0*row['likes_count'] / row['reposts_count']\n",
    "\n",
    "# создадим новый dataframe, с новым столбцом\n",
    "df_2 = df[df['reposts_count'] > 0].copy() # т.к. будет деление на кол-во репостов - исключаем строки где репостов нет\n",
    "df_2['likes_per_repost'] = df_2.apply(likes_per_repost_func, axis=1)"
   ]
  },
  {
   "cell_type": "code",
   "execution_count": 60,
   "metadata": {},
   "outputs": [
    {
     "data": {
      "text/plain": [
       "<matplotlib.axes._subplots.AxesSubplot at 0x1f6f1c69940>"
      ]
     },
     "execution_count": 60,
     "metadata": {},
     "output_type": "execute_result"
    },
    {
     "data": {
      "image/png": "[encoded data removed]",
      "text/plain": [
       "<Figure size 432x288 with 1 Axes>"
      ]
     },
     "metadata": {
      "needs_background": "light"
     },
     "output_type": "display_data"
    }
   ],
   "source": [
    "# посмотрим на распределение\n",
    "df_2['likes_per_repost'].hist()"
   ]
  },
  {
   "cell_type": "code",
   "execution_count": 61,
   "metadata": {},
   "outputs": [
    {
     "data": {
      "text/plain": [
       "<matplotlib.axes._subplots.AxesSubplot at 0x1f6f1d414a8>"
      ]
     },
     "execution_count": 61,
     "metadata": {},
     "output_type": "execute_result"
    },
    {
     "data": {
      "image/png": "[encoded data removed]",
      "text/plain": [
       "<Figure size 432x288 with 1 Axes>"
      ]
     },
     "metadata": {
      "needs_background": "light"
     },
     "output_type": "display_data"
    }
   ],
   "source": [
    "# найдем, сколько нужно отбросить крайних значений, чтобы распределение стало похожим на классическое\n",
    "quantile = 0.93 # подбираем это значение\n",
    "columnName = 'likes_per_repost'\n",
    "barrier = df_2[columnName].quantile(quantile) # проходное значение. Все, что за пределами - отбросим\n",
    "df_2_tmp = df_2[df_2[columnName] < barrier].copy()\n",
    "df_2_tmp['likes_per_repost'].hist()\n",
    "# результат наблюдений - если ввести строгий коэффициент k такой что кол-во лайков = k * кол-во репостов,\n",
    "#   тогда погрешность будет весьма большой, т.к. значения сильно распределены (см.chart)"
   ]
  },
  {
   "cell_type": "code",
   "execution_count": 62,
   "metadata": {},
   "outputs": [
    {
     "data": {
      "text/plain": [
       "'\\nОтвет на вопрос N2\\n\\nКорреляция существует между likes_count, reposts_count.\\nНо, comments_count - является относительно независимой величиной и ее лучше рассматривать отдельно.\\nВвести величину \"интерес к публикации\" - возможно.\\nНо, для точных коэффициентов, с которыми вносить лайки и репосты - требуется дополнительное исследование.\\n'"
      ]
     },
     "execution_count": 62,
     "metadata": {},
     "output_type": "execute_result"
    }
   ],
   "source": [
    "\"\"\"\n",
    "Ответ на вопрос N2\n",
    "\n",
    "Корреляция существует между likes_count, reposts_count.\n",
    "Но, comments_count - является относительно независимой величиной и ее лучше рассматривать отдельно.\n",
    "Ввести величину \"интерес к публикации\" - возможно.\n",
    "Но, для точных коэффициентов, с которыми вносить лайки и репосты - требуется дополнительное исследование.\n",
    "\"\"\""
   ]
  },
  {
   "cell_type": "code",
   "execution_count": 63,
   "metadata": {},
   "outputs": [],
   "source": [
    "# найдем ответ на вопрос N3"
   ]
  },
  {
   "cell_type": "code",
   "execution_count": 64,
   "metadata": {},
   "outputs": [],
   "source": [
    "# введем dataframe, который используем для поиска ответа на вопрос N3\n",
    "df_3 = df.copy()"
   ]
  },
  {
   "cell_type": "code",
   "execution_count": 65,
   "metadata": {},
   "outputs": [],
   "source": [
    "# введем величину, которую считаем \"интерес к публикации\"\n",
    "K_COMMENTS = 1.0 # коэффициент, с которым вносим комментарий\n",
    "K_LIKES = 1.0 # коэффициент, с которым вносим лайки\n",
    "K_REPOSTS = 1.0  # коэффициент, с которым вносим репосты\n",
    "def interest_func(row):\n",
    "    return K_COMMENTS * row['comments_count'] + K_LIKES * row['likes_count'] + K_REPOSTS * row['reposts_count']"
   ]
  },
  {
   "cell_type": "code",
   "execution_count": 66,
   "metadata": {},
   "outputs": [],
   "source": [
    "# создаем новый столбец\n",
    "df_3['interest_rate'] = df_3.apply(interest_func, axis=1)\n",
    "# удалим записи, где интерес = 0 - они нас не интересуют\n",
    "df_3 = df_3[df_3['interest_rate'] > 0]"
   ]
  },
  {
   "cell_type": "code",
   "execution_count": 67,
   "metadata": {},
   "outputs": [
    {
     "data": {
      "text/plain": [
       "<matplotlib.axes._subplots.AxesSubplot at 0x1f6f1dc7da0>"
      ]
     },
     "execution_count": 67,
     "metadata": {},
     "output_type": "execute_result"
    },
    {
     "data": {
      "image/png": "[encoded data removed]",
      "text/plain": [
       "<Figure size 432x288 with 1 Axes>"
      ]
     },
     "metadata": {
      "needs_background": "light"
     },
     "output_type": "display_data"
    }
   ],
   "source": [
    "# посмотрим распределение\n",
    "df_3['interest_rate'].hist()\n",
    "# по наблюдению - стоит раздельно расмотреть строки: которые рядом с медианой, и которые выше некоторой квантили"
   ]
  },
  {
   "cell_type": "code",
   "execution_count": 68,
   "metadata": {},
   "outputs": [],
   "source": [
    "# будем подбирать эти значение\n",
    "QUANTILE_LOW = 0.85 # меньше этого значения - слабый интерес, выше - интерес есть\n",
    "QUANTILE_HIGH = 0.97 # выше этого значения - выброс. То есть, накрутка или что-либо еще.\n",
    "\n",
    "# разделяем\n",
    "columnName = 'interest_rate'\n",
    "barrier_low = df_3[columnName].quantile(QUANTILE_LOW) # в виде числа\n",
    "barrier_high = df_3[columnName].quantile(QUANTILE_HIGH) # в виде числа\n",
    "df_3_minor = df_3[df_3[columnName] < barrier_low].copy()\n",
    "df_tmp = df_3[df_3[columnName] >= barrier_low].copy()\n",
    "df_3_target = df_tmp[df_tmp[columnName] < barrier_high].copy()\n",
    "df_3_untrust = df_tmp[df_tmp[columnName] >= barrier_high].copy()"
   ]
  },
  {
   "cell_type": "code",
   "execution_count": 69,
   "metadata": {},
   "outputs": [
    {
     "data": {
      "text/plain": [
       "count    4025.000000\n",
       "mean        6.622112\n",
       "std         5.721290\n",
       "min         1.000000\n",
       "25%         2.000000\n",
       "50%         5.000000\n",
       "75%        10.000000\n",
       "max        25.000000\n",
       "Name: interest_rate, dtype: float64"
      ]
     },
     "execution_count": 69,
     "metadata": {},
     "output_type": "execute_result"
    },
    {
     "data": {
      "image/png": "[encoded data removed]",
      "text/plain": [
       "<Figure size 432x288 with 1 Axes>"
      ]
     },
     "metadata": {
      "needs_background": "light"
     },
     "output_type": "display_data"
    }
   ],
   "source": [
    "df_3_minor['interest_rate'].hist()\n",
    "df_3_minor['interest_rate'].describe()"
   ]
  },
  {
   "cell_type": "code",
   "execution_count": 70,
   "metadata": {},
   "outputs": [
    {
     "data": {
      "text/plain": [
       "count    568.000000\n",
       "mean      64.802817\n",
       "std       42.003819\n",
       "min       26.000000\n",
       "25%       34.000000\n",
       "50%       47.000000\n",
       "75%       81.000000\n",
       "max      181.000000\n",
       "Name: interest_rate, dtype: float64"
      ]
     },
     "execution_count": 70,
     "metadata": {},
     "output_type": "execute_result"
    },
    {
     "data": {
      "image/png": "[encoded data removed]",
      "text/plain": [
       "<Figure size 432x288 with 1 Axes>"
      ]
     },
     "metadata": {
      "needs_background": "light"
     },
     "output_type": "display_data"
    }
   ],
   "source": [
    "df_3_target['interest_rate'].hist()\n",
    "df_3_target['interest_rate'].describe()"
   ]
  },
  {
   "cell_type": "code",
   "execution_count": 71,
   "metadata": {},
   "outputs": [
    {
     "data": {
      "text/plain": [
       "count      146.000000\n",
       "mean      1046.349315\n",
       "std       3668.833222\n",
       "min        182.000000\n",
       "25%        227.000000\n",
       "50%        332.500000\n",
       "75%        635.000000\n",
       "max      41123.000000\n",
       "Name: interest_rate, dtype: float64"
      ]
     },
     "execution_count": 71,
     "metadata": {},
     "output_type": "execute_result"
    },
    {
     "data": {
      "image/png": "[encoded data removed]",
      "text/plain": [
       "<Figure size 432x288 with 1 Axes>"
      ]
     },
     "metadata": {
      "needs_background": "light"
     },
     "output_type": "display_data"
    }
   ],
   "source": [
    "df_3_untrust['interest_rate'].hist()\n",
    "df_3_untrust['interest_rate'].describe()"
   ]
  },
  {
   "cell_type": "code",
   "execution_count": 72,
   "metadata": {},
   "outputs": [],
   "source": [
    "# теперь найдем сообщества, в которых чаще всего встречаются сообщения из целевой группы\n",
    "df_3_grouped = df_3_target.groupby('group_id').first() # создаем dataframe с уникальными group_id\n",
    "df_3_grouped['count'] = df_3_target['group_id'].value_counts() # проставляем кол-во, сколько раз встречается\n",
    "series_3_top = df_3_grouped['count'].sort_values(ascending=False)"
   ]
  },
  {
   "cell_type": "code",
   "execution_count": 73,
   "metadata": {},
   "outputs": [
    {
     "data": {
      "text/plain": [
       "group_id\n",
       "122422421    93\n",
       "43011371     56\n",
       "53986544     52\n",
       "158943684    51\n",
       "21178038     32\n",
       "Name: count, dtype: int64"
      ]
     },
     "execution_count": 73,
     "metadata": {},
     "output_type": "execute_result"
    }
   ],
   "source": [
    "# выводим результат\n",
    "series_3_top.head()"
   ]
  },
  {
   "cell_type": "code",
   "execution_count": 74,
   "metadata": {},
   "outputs": [
    {
     "data": {
      "text/plain": [
       "'\\nОтвет на вопрос N3\\n\\nМы определили, в каких сообществах встречается более всего публикаций, которые вызывают интерес у посетителей\\n'"
      ]
     },
     "execution_count": 74,
     "metadata": {},
     "output_type": "execute_result"
    }
   ],
   "source": [
    "\"\"\"\n",
    "Ответ на вопрос N3\n",
    "\n",
    "Мы определили, в каких сообществах встречается более всего публикаций, которые вызывают интерес у посетителей\n",
    "\"\"\""
   ]
  }
 ],
 "metadata": {
  "kernelspec": {
   "display_name": "Python 3",
   "language": "python",
   "name": "python3"
  },
  "language_info": {
   "codemirror_mode": {
    "name": "ipython",
    "version": 3
   },
   "file_extension": ".py",
   "mimetype": "text/x-python",
   "name": "python",
   "nbconvert_exporter": "python",
   "pygments_lexer": "ipython3",
   "version": "3.6.8"
  }
 },
 "nbformat": 4,
 "nbformat_minor": 2
}
