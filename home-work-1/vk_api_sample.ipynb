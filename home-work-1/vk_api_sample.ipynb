{
 "cells": [
  {
   "cell_type": "code",
   "execution_count": 1,
   "metadata": {},
   "outputs": [],
   "source": [
    "\"\"\"\n",
    "Otus, курс Data Scientist, старт дек.2018\n",
    "Задание к уроку N1\n",
    "\n",
    "Задача: Анализируем сообщения из vk.com\n",
    "\n",
    "План работ.\n",
    "\n",
    "Этап 1 - отображен в этом блокноте.\n",
    "Выгружаем некоторое кол-во сообщений, сохраняем, преобразуем в csv-формат, проводим exploratory-анализ - какие данные есть,\n",
    "что в них может быть интересного.\n",
    "Задача на этап 1: придумать вопрос, на который будем искать ответ.\n",
    "\n",
    "Этап 2 - отображен в python-проекте gathering.\n",
    "Выгружаем данные, в минимально необходимом количестве, преобразуем в формат, удобный для анализа.\n",
    "Проводим анализ с целью получить ответ на вопрос.\n",
    "Задача на этап 2: на поставленный вопрос\n",
    "либо получить ответ с некоторой достоверностью,\n",
    "либо показать, что этих данных недостаточно для получения ответа.\n",
    "\"\"\""
   ]
  },
  {
   "cell_type": "code",
   "execution_count": 1,
   "metadata": {},
   "outputs": [],
   "source": [
    "import vk_api\n",
    "import io\n",
    "import json, codecs\n",
    "import time"
   ]
  },
  {
   "cell_type": "code",
   "execution_count": 2,
   "metadata": {},
   "outputs": [
    {
     "data": {
      "text/plain": [
       "'\\nЗагружаем данные из vk_api, сохраняем на диск\\n'"
      ]
     },
     "execution_count": 2,
     "metadata": {},
     "output_type": "execute_result"
    }
   ],
   "source": [
    "\"\"\"\n",
    "Загружаем данные из vk_api, сохраняем на диск\n",
    "\"\"\""
   ]
  },
  {
   "cell_type": "code",
   "execution_count": 150,
   "metadata": {},
   "outputs": [],
   "source": [
    "# credentials: нужно указать логин/пароль к vk.com\n",
    "# чтобы случайно не закомитить версию с логин/пароль - выносим эти данные в отдельный файл, который исключаем в .gitignore\n",
    "credentialsFileName = \"vk_login_password.txt\" # формат файла: 1-я строка = логин, 2-я строка = пароль\n",
    "# затираем значения, которые могли сохраниться с прошлых запусков (в notebook)\n",
    "login = '+71231234567' \n",
    "password = ''\n",
    "\n",
    "# загружаем значения из файла\n",
    "try:\n",
    "    loginFile = open(credentialsFileName, 'r')\n",
    "    login = loginFile.readline().strip() # в формате: '+71231234567'\n",
    "    password = loginFile.readline().strip()\n",
    "except IOError:\n",
    "    print (\"No file with login/password: создайте файл \" + credentialsFileName + \", в котором 1-я строка = логин, 2-я строка = пароль\")"
   ]
  },
  {
   "cell_type": "code",
   "execution_count": 151,
   "metadata": {},
   "outputs": [],
   "source": [
    "# используем:\n",
    "#  wrapper-lib vk_api: https://github.com/python273/vk_api\n",
    "#  описание Api от vk: https://vk.com/dev/groups.search?params[q]=bitcoin&params[future]=0&params[market]=0&params[offset]=3&params[count]=3&params[v]=5.92"
   ]
  },
  {
   "cell_type": "code",
   "execution_count": 2,
   "metadata": {},
   "outputs": [],
   "source": [
    "# параметры запуска\n",
    "GROUP_KEYWORD = 'bitcoin' # интересуют сообщества, в названии которых есть такое слово\n",
    "COUNT_GROUPS = 50 # обработаем столько сообществ\n",
    "COUNT_MESSAGES_PER_GROUP = 100 # в каждом сообществе, со стены возьмем столько сообщений"
   ]
  },
  {
   "cell_type": "code",
   "execution_count": 153,
   "metadata": {},
   "outputs": [],
   "source": [
    "# получаем соединение, api\n",
    "vk_session = vk_api.VkApi(login, password)\n",
    "vk_session.auth(token_only=True)\n",
    "api = vk_session.get_api()"
   ]
  },
  {
   "cell_type": "code",
   "execution_count": 3,
   "metadata": {},
   "outputs": [],
   "source": [
    "# константы и правила, которые используем при работе с файлами\n",
    "FOLDER_PREFIX = './files/' # folder, в которую складываем файлы\n",
    "FILE_EXTENSION = '.txt' # расширение для json-файлов\n",
    "\n",
    "def fileNameFunc(rawFileName):\n",
    "    return FOLDER_PREFIX + rawFileName + FILE_EXTENSION"
   ]
  },
  {
   "cell_type": "code",
   "execution_count": 155,
   "metadata": {},
   "outputs": [],
   "source": [
    "# Данные по сообществам - получаем по http\n",
    "def obtainGroups(api, keyword, count):\n",
    "    print(\"obtainGroups, keyword=\" + keyword + \", count=\" + str(count))\n",
    "    results = api.groups.search(q=keyword, count=count)\n",
    "    return results['items']"
   ]
  },
  {
   "cell_type": "code",
   "execution_count": 156,
   "metadata": {},
   "outputs": [],
   "source": [
    "# получить N записей со стены сообщества/пользователя\n",
    "def obtainWallItems(api, owner_id, count):\n",
    "    # protection: проверяем входные значения\n",
    "    if(count > 100): # todo: можно приделать scroll, то есть, разбить запрос на несколько, в каждом count не более 100\n",
    "        raise AssertionError(\"count должен быть <= 100, но передали:\" + str(count))\n",
    "\n",
    "    # основная часть\n",
    "    results = api.wall.get(owner_id=owner_id, filter = 'owner', count = count, offset=0)\n",
    "    print(\"obtainWallItems, owner_id=\" + str(owner_id) + \", retrieve \" + str(len(results['items'])) + \", of total \" + str(results['count']))\n",
    "    return results['items']\n",
    "\n",
    "# для напоминания - сохраним в комментариях альтернативный метод vk_api для получения сообщений со стены сообщества\n",
    "#tools = vk_api.VkTools(vk_session)\n",
    "#wall = tools.get_all('wall.get', 10, {'owner_id': -92718200, 'filter':'owner'})"
   ]
  },
  {
   "cell_type": "code",
   "execution_count": 157,
   "metadata": {},
   "outputs": [],
   "source": [
    "# записываем json в файл\n",
    "def writeJsonToFile(fileName, jsonData):\n",
    "    with io.open(fileName, 'w', encoding='utf-8') as f:\n",
    "        f.write(json.dumps(jsonData, ensure_ascii=False, sort_keys=True, indent=4))"
   ]
  },
  {
   "cell_type": "code",
   "execution_count": 158,
   "metadata": {},
   "outputs": [
    {
     "name": "stdout",
     "output_type": "stream",
     "text": [
      "obtainGroups, keyword=bitcoin, count=50\n"
     ]
    }
   ],
   "source": [
    "# получаем все интересующие сообщества, записываем в файл\n",
    "groups = obtainGroups(api, 'bitcoin', COUNT_GROUPS)\n",
    "writeJsonToFile(fileNameFunc('groups'), groups)"
   ]
  },
  {
   "cell_type": "code",
   "execution_count": 159,
   "metadata": {},
   "outputs": [
    {
     "name": "stdout",
     "output_type": "stream",
     "text": [
      "skip group:16269693\n",
      "skip group:16219861\n",
      "total groups для обработки: 48\n"
     ]
    }
   ],
   "source": [
    "# отфильтруем сообщества - нам нужны только те, у которых есть доступ к сообщениям на стене\n",
    "group_ids = []\n",
    "for group in groups:\n",
    "    if(group['is_closed'] == 0):\n",
    "        group_ids.append(group['id'])\n",
    "    else:\n",
    "        print('skip group:' + str(group['id']))\n",
    "print('total groups для обработки: ' + str(len(group_ids)))"
   ]
  },
  {
   "cell_type": "code",
   "execution_count": 160,
   "metadata": {},
   "outputs": [
    {
     "name": "stdout",
     "output_type": "stream",
     "text": [
      "obtainWallItems, owner_id=-46371384retrieve 100, of total 48228\n",
      "obtainWallItems, owner_id=-92718200retrieve 100, of total 10601\n",
      "obtainWallItems, owner_id=-632045retrieve 100, of total 28475\n",
      "obtainWallItems, owner_id=-93604475retrieve 100, of total 14366\n",
      "obtainWallItems, owner_id=-59454515retrieve 100, of total 31644\n",
      "obtainWallItems, owner_id=-79363873retrieve 100, of total 830\n",
      "obtainWallItems, owner_id=-51789870retrieve 100, of total 13932\n",
      "obtainWallItems, owner_id=-92357206retrieve 100, of total 132\n",
      "obtainWallItems, owner_id=-101271420retrieve 100, of total 5135\n",
      "obtainWallItems, owner_id=-29387592retrieve 100, of total 1750\n",
      "obtainWallItems, owner_id=-158943684retrieve 100, of total 149\n",
      "obtainWallItems, owner_id=-122422421retrieve 100, of total 6558\n",
      "obtainWallItems, owner_id=-74106120retrieve 1, of total 1\n",
      "obtainWallItems, owner_id=-50725681retrieve 100, of total 1397\n",
      "obtainWallItems, owner_id=-140465118retrieve 33, of total 33\n",
      "obtainWallItems, owner_id=-50061159retrieve 59, of total 59\n",
      "obtainWallItems, owner_id=-50774319retrieve 100, of total 1035\n",
      "obtainWallItems, owner_id=-147911279retrieve 100, of total 1766\n",
      "obtainWallItems, owner_id=-62032126retrieve 100, of total 19273\n",
      "obtainWallItems, owner_id=-30451584retrieve 3, of total 3\n",
      "obtainWallItems, owner_id=-63589724retrieve 100, of total 17591\n",
      "obtainWallItems, owner_id=-19354230retrieve 36, of total 36\n",
      "obtainWallItems, owner_id=-65314134retrieve 100, of total 854\n",
      "obtainWallItems, owner_id=-33135732retrieve 100, of total 6740\n",
      "obtainWallItems, owner_id=-79858655retrieve 1, of total 1\n",
      "obtainWallItems, owner_id=-70023397retrieve 9, of total 9\n",
      "obtainWallItems, owner_id=-43011371retrieve 100, of total 333\n",
      "obtainWallItems, owner_id=-113755164retrieve 100, of total 816\n",
      "obtainWallItems, owner_id=-66153827retrieve 100, of total 7578\n",
      "obtainWallItems, owner_id=-55500226retrieve 100, of total 23700\n",
      "obtainWallItems, owner_id=-61469977retrieve 100, of total 112\n",
      "obtainWallItems, owner_id=-150541976retrieve 5, of total 5\n",
      "obtainWallItems, owner_id=-53986544retrieve 100, of total 703\n",
      "obtainWallItems, owner_id=-152549864retrieve 100, of total 375\n",
      "obtainWallItems, owner_id=-83377401retrieve 100, of total 958\n",
      "obtainWallItems, owner_id=-144516691retrieve 100, of total 2298\n",
      "obtainWallItems, owner_id=-59683167retrieve 0, of total 0\n",
      "obtainWallItems, owner_id=-112446933retrieve 100, of total 2657\n",
      "obtainWallItems, owner_id=-154469944retrieve 55, of total 55\n",
      "obtainWallItems, owner_id=-162758293retrieve 100, of total 559\n",
      "obtainWallItems, owner_id=-21178038retrieve 60, of total 60\n",
      "obtainWallItems, owner_id=-35397045retrieve 100, of total 159\n",
      "obtainWallItems, owner_id=-2391355retrieve 100, of total 331\n",
      "obtainWallItems, owner_id=-50834921retrieve 100, of total 2705\n",
      "obtainWallItems, owner_id=-120998368retrieve 8, of total 8\n",
      "obtainWallItems, owner_id=-71306093retrieve 100, of total 3560\n",
      "obtainWallItems, owner_id=-67423173retrieve 100, of total 1103\n",
      "obtainWallItems, owner_id=-25234359retrieve 11, of total 11\n"
     ]
    }
   ],
   "source": [
    "# для каждого сообщества - получаем сообщения со стены и записваем в соотв.файл\n",
    "counter = 1 # счетчик, используем в названии файлов\n",
    "for group_id in group_ids:\n",
    "    vk_id = -1 * group_id # vk_api.wall.get по наличию знака минус - определяет, что требуется именно сообщество\n",
    "    items = obtainWallItems(api=api, owner_id=vk_id, count=COUNT_MESSAGES_PER_GROUP)\n",
    "    rawFileName = str(counter) + \"_\" + str(group_id)\n",
    "    writeJsonToFile(fileNameFunc(rawFileName), items)\n",
    "    counter = counter + 1\n",
    "    time.sleep(0.5) # соблюдаем этикет"
   ]
  },
  {
   "cell_type": "code",
   "execution_count": null,
   "metadata": {},
   "outputs": [],
   "source": [
    "\"\"\"\n",
    "Анализируем сохраненные данные\n",
    "\"\"\""
   ]
  },
  {
   "cell_type": "code",
   "execution_count": null,
   "metadata": {},
   "outputs": [],
   "source": [
    "# пройти по всем файлам, которые с названием [N]_[id].txt\n",
    "# 1. Определяем набор полей, которые интересуют\n",
    "#   1.1 собираем набор существующих полей -> просматриваем, выбираем те, которые интересуют\n",
    "#   1.2 по выбранным полям - составляем статистику, уточняем, что именно будем выгружать\n",
    "# 2. Составляем csv-файл со всеми сообщениями, сохраняем"
   ]
  },
  {
   "cell_type": "code",
   "execution_count": 4,
   "metadata": {},
   "outputs": [],
   "source": [
    "from os import listdir\n",
    "from os.path import isfile, join\n",
    "import re\n",
    "import csv"
   ]
  },
  {
   "cell_type": "code",
   "execution_count": 5,
   "metadata": {},
   "outputs": [],
   "source": [
    "# функции и константы\n",
    "\n",
    "RESULTS_FILE_NAME = 'result.csv'\n",
    "SCRAPPED_DATA_FILE_REGEXP = re.compile(r'^([\\d]+)_([\\d]+).*$')\n",
    "\n",
    "# проанализировать массив json - какие поля встречаются\n",
    "def fieldsIn(fileContent):\n",
    "    result = []\n",
    "    for message in fileContent:\n",
    "        for key, value in message.items():\n",
    "            if(key not in result):\n",
    "                result.append(key)\n",
    "    return result\n",
    "\n",
    "# объединяем списки, оставляем уникальные элементы\n",
    "def clueFiledsFunc(acc, addFields):\n",
    "    for field in addFields:\n",
    "        if(field not in acc):\n",
    "            acc.append(field)\n",
    "    return acc\n",
    "\n",
    "# определяем, какие поля встречаются в загруженных данных\n",
    "def revealFieldNames(fileNameList):\n",
    "    fields = []\n",
    "    for fileName in scrapped_data_files:\n",
    "        with io.open(join(FOLDER_PREFIX, fileName), 'r', encoding='utf-8') as f:\n",
    "            fileContent = json.load(f)\n",
    "            fields = clueFiledsFunc(fields, fieldsIn(fileContent))\n",
    "    return fields"
   ]
  },
  {
   "cell_type": "code",
   "execution_count": 34,
   "metadata": {},
   "outputs": [],
   "source": [
    "# названия файлов со scrapped данными\n",
    "scrapped_all_files = [f for f in listdir(FOLDER_PREFIX) if isfile(join(FOLDER_PREFIX, f))]\n",
    "# только те файлы, которые про сообщения на стене сообщества\n",
    "scrapped_data_files = []\n",
    "regexp = SCRAPPED_DATA_FILE_REGEXP\n",
    "for fileName in scrapped_all_files:\n",
    "    if(regexp.search(fileName)): \n",
    "        scrapped_data_files.append(fileName)"
   ]
  },
  {
   "cell_type": "code",
   "execution_count": 35,
   "metadata": {},
   "outputs": [
    {
     "name": "stdout",
     "output_type": "stream",
     "text": [
      "['attachments', 'comments', 'date', 'from_id', 'id', 'is_favorite', 'likes', 'marked_as_ads', 'owner_id', 'post_source', 'post_type', 'reposts', 'text', 'views', 'is_pinned', 'signer_id', 'copy_history']\n"
     ]
    }
   ],
   "source": [
    "fields = revealFieldNames(scrapped_data_files)\n",
    "print(fields)"
   ]
  },
  {
   "cell_type": "code",
   "execution_count": 6,
   "metadata": {},
   "outputs": [],
   "source": [
    "# поля, которые интересуют\n",
    "actual_fields = {\n",
    "    'comments_count': 'comments.count',\n",
    "    'date':'date',\n",
    "    #'is_favorite':'is_favorite', # df['is_favorite'].value_counts() - найдено, что всегда 1 значение\n",
    "    #'is_pinned':'is_pinned', # df['is_pinned'].value_counts() - найдено, что всегда 1 значение\n",
    "    #'likes_can_like':'likes.can_like', # df['likes_can_like'].value_counts() - найдено, что всегда 1 значение\n",
    "    #'likes_can_publish':'likes.can_publish', # df['likes_can_publish'].value_counts() - найдено, что всегда 1 значение\n",
    "    'likes_count':'likes.count',\n",
    "    'marked_as_ads':'marked_as_ads',\n",
    "    'post_source':'post_source.type',\n",
    "    #'post_type':'post_type', # df['post_type'].value_counts() - найдено, что всегда 1 значение\n",
    "    'reposts_count':'reposts.count',\n",
    "    'text':'text',\n",
    "    'views_count':'views.count'\n",
    "}\n",
    "# в обработанном виде\n",
    "csv_fields = []\n",
    "json_fields = []\n",
    "for key, value in actual_fields.items():\n",
    "    csv_fields.append(key)\n",
    "    json_fields.append(value)"
   ]
  },
  {
   "cell_type": "code",
   "execution_count": 43,
   "metadata": {},
   "outputs": [],
   "source": [
    "# получаем значение поля в json\n",
    "def revealFieldValue(jsonData,fieldPath):\n",
    "    none_value = ''\n",
    "    path = fieldPath.split('.')\n",
    "    data = jsonData\n",
    "    for step in path[:-1]:\n",
    "        if step in data:\n",
    "            data = data[step]\n",
    "        else:\n",
    "            return none_value\n",
    "    data = data.get(path[-1], none_value)\n",
    "    #print(data)\n",
    "    return data"
   ]
  },
  {
   "cell_type": "code",
   "execution_count": 44,
   "metadata": {},
   "outputs": [],
   "source": [
    "# из объекта - получаем строку для csv\n",
    "def produceLine(jsonData, fieldsList):\n",
    "    result = []\n",
    "    for field in fieldsList:\n",
    "        data = revealFieldValue(jsonData, field)\n",
    "        result.append(data)\n",
    "    return result\n",
    "\n",
    "# из файла со scrapped_data получаем строки для csv\n",
    "def produceCsvRowsForFile(fileName, fieldsList):\n",
    "    group_id = SCRAPPED_DATA_FILE_REGEXP.match(fileName).group(2)\n",
    "    result = []\n",
    "    with io.open(join(FOLDER_PREFIX, fileName), 'r', encoding='utf-8') as f:\n",
    "        fileContent = json.load(f)\n",
    "        for doc in fileContent:\n",
    "            row = [group_id] + produceLine(doc, fieldsList)\n",
    "            #row.append(group_id)\n",
    "            result.append(row)\n",
    "    return result\n",
    "            \n",
    "# для всех перечисленных файлов - записываем получаемые строки в csv (в памяти держим строки только для одного файла)\n",
    "def writeCsvLinesByFiles(csvWriter, fileNameList, fieldsList):\n",
    "    for fileName in fileNameList:\n",
    "        print('fileName: ' + fileName)\n",
    "        rows = produceCsvRowsForFile(fileName, fieldsList)\n",
    "        #print(\"***\")\n",
    "        #print(rows[1])\n",
    "        for row in rows:            \n",
    "            csvWriter.writerow(row)\n",
    "            \n",
    "\n",
    "        "
   ]
  },
  {
   "cell_type": "code",
   "execution_count": 45,
   "metadata": {},
   "outputs": [
    {
     "name": "stdout",
     "output_type": "stream",
     "text": [
      "['comments.count', 'date', 'likes.count', 'marked_as_ads', 'post_source.type', 'reposts.count', 'text', 'views.count']\n",
      "fileName: 10_29387592.txt\n",
      "fileName: 11_158943684.txt\n",
      "fileName: 12_122422421.txt\n",
      "fileName: 13_74106120.txt\n",
      "fileName: 14_50725681.txt\n",
      "fileName: 15_140465118.txt\n",
      "fileName: 16_50061159.txt\n",
      "fileName: 17_50774319.txt\n",
      "fileName: 18_147911279.txt\n",
      "fileName: 19_62032126.txt\n",
      "fileName: 1_46371384.txt\n",
      "fileName: 20_30451584.txt\n",
      "fileName: 21_63589724.txt\n",
      "fileName: 22_19354230.txt\n",
      "fileName: 23_65314134.txt\n",
      "fileName: 24_33135732.txt\n",
      "fileName: 25_79858655.txt\n",
      "fileName: 26_70023397.txt\n",
      "fileName: 27_43011371.txt\n",
      "fileName: 28_113755164.txt\n",
      "fileName: 29_66153827.txt\n",
      "fileName: 2_92718200.txt\n",
      "fileName: 30_55500226.txt\n",
      "fileName: 31_61469977.txt\n",
      "fileName: 32_150541976.txt\n",
      "fileName: 33_53986544.txt\n",
      "fileName: 34_152549864.txt\n",
      "fileName: 35_83377401.txt\n",
      "fileName: 36_144516691.txt\n",
      "fileName: 37_59683167.txt\n",
      "fileName: 38_112446933.txt\n",
      "fileName: 39_154469944.txt\n",
      "fileName: 3_632045.txt\n",
      "fileName: 40_162758293.txt\n",
      "fileName: 41_21178038.txt\n",
      "fileName: 42_35397045.txt\n",
      "fileName: 43_2391355.txt\n",
      "fileName: 44_50834921.txt\n",
      "fileName: 45_120998368.txt\n",
      "fileName: 46_71306093.txt\n",
      "fileName: 47_67423173.txt\n",
      "fileName: 48_25234359.txt\n",
      "fileName: 4_93604475.txt\n",
      "fileName: 5_59454515.txt\n",
      "fileName: 6_79363873.txt\n",
      "fileName: 7_51789870.txt\n",
      "fileName: 8_92357206.txt\n",
      "fileName: 9_101271420.txt\n"
     ]
    }
   ],
   "source": [
    "with open(RESULTS_FILE_NAME, 'w', newline='', encoding='utf-8') as csvFile:\n",
    "    csvWriter = csv.writer(csvFile, delimiter=',')\n",
    "    csvWriter.writerow(['group_id'] + csv_fields) # 1-я строка - это названия столбцов\n",
    "    print(json_fields)\n",
    "    writeCsvLinesByFiles(csvWriter, scrapped_data_files, json_fields)"
   ]
  },
  {
   "cell_type": "code",
   "execution_count": null,
   "metadata": {},
   "outputs": [],
   "source": []
  },
  {
   "cell_type": "code",
   "execution_count": null,
   "metadata": {},
   "outputs": [],
   "source": [
    "\"\"\"\n",
    "Анализируем полученные данные, чтобы выделить, какие столбцы важные\n",
    "\"\"\""
   ]
  },
  {
   "cell_type": "code",
   "execution_count": 7,
   "metadata": {},
   "outputs": [],
   "source": [
    "import pandas as pd\n",
    "import numpy as np\n",
    "import matplotlib\n",
    "from datetime import datetime\n",
    "from datetime import date"
   ]
  },
  {
   "cell_type": "code",
   "execution_count": 8,
   "metadata": {},
   "outputs": [
    {
     "data": {
      "text/html": [
       "<div>\n",
       "<style scoped>\n",
       "    .dataframe tbody tr th:only-of-type {\n",
       "        vertical-align: middle;\n",
       "    }\n",
       "\n",
       "    .dataframe tbody tr th {\n",
       "        vertical-align: top;\n",
       "    }\n",
       "\n",
       "    .dataframe thead th {\n",
       "        text-align: right;\n",
       "    }\n",
       "</style>\n",
       "<table border=\"1\" class=\"dataframe\">\n",
       "  <thead>\n",
       "    <tr style=\"text-align: right;\">\n",
       "      <th></th>\n",
       "      <th>group_id</th>\n",
       "      <th>comments_count</th>\n",
       "      <th>date</th>\n",
       "      <th>likes_count</th>\n",
       "      <th>marked_as_ads</th>\n",
       "      <th>post_source</th>\n",
       "      <th>reposts_count</th>\n",
       "      <th>text</th>\n",
       "      <th>views_count</th>\n",
       "    </tr>\n",
       "  </thead>\n",
       "  <tbody>\n",
       "    <tr>\n",
       "      <th>0</th>\n",
       "      <td>29387592</td>\n",
       "      <td>1</td>\n",
       "      <td>1549998127</td>\n",
       "      <td>1</td>\n",
       "      <td>0</td>\n",
       "      <td>vk</td>\n",
       "      <td>0</td>\n",
       "      <td>Состоялся долгожданный релиз мобильного прилож...</td>\n",
       "      <td>893.0</td>\n",
       "    </tr>\n",
       "    <tr>\n",
       "      <th>1</th>\n",
       "      <td>29387592</td>\n",
       "      <td>0</td>\n",
       "      <td>1549997035</td>\n",
       "      <td>4</td>\n",
       "      <td>0</td>\n",
       "      <td>vk</td>\n",
       "      <td>0</td>\n",
       "      <td>Исследовательская компания Diar опубликовала н...</td>\n",
       "      <td>1186.0</td>\n",
       "    </tr>\n",
       "    <tr>\n",
       "      <th>2</th>\n",
       "      <td>29387592</td>\n",
       "      <td>3</td>\n",
       "      <td>1549896060</td>\n",
       "      <td>4</td>\n",
       "      <td>0</td>\n",
       "      <td>vk</td>\n",
       "      <td>0</td>\n",
       "      <td>Торговая P2P-платформа Localbitcoins заявила, ...</td>\n",
       "      <td>2285.0</td>\n",
       "    </tr>\n",
       "    <tr>\n",
       "      <th>3</th>\n",
       "      <td>29387592</td>\n",
       "      <td>9</td>\n",
       "      <td>1549634023</td>\n",
       "      <td>7</td>\n",
       "      <td>0</td>\n",
       "      <td>vk</td>\n",
       "      <td>0</td>\n",
       "      <td>Тогда курс первой криптовалюты достигал отметк...</td>\n",
       "      <td>2328.0</td>\n",
       "    </tr>\n",
       "    <tr>\n",
       "      <th>4</th>\n",
       "      <td>29387592</td>\n",
       "      <td>0</td>\n",
       "      <td>1549454503</td>\n",
       "      <td>6</td>\n",
       "      <td>0</td>\n",
       "      <td>vk</td>\n",
       "      <td>3</td>\n",
       "      <td>Исследователи канадской финансовой компании Ca...</td>\n",
       "      <td>2727.0</td>\n",
       "    </tr>\n",
       "  </tbody>\n",
       "</table>\n",
       "</div>"
      ],
      "text/plain": [
       "   group_id  comments_count        date  likes_count  marked_as_ads  \\\n",
       "0  29387592               1  1549998127            1              0   \n",
       "1  29387592               0  1549997035            4              0   \n",
       "2  29387592               3  1549896060            4              0   \n",
       "3  29387592               9  1549634023            7              0   \n",
       "4  29387592               0  1549454503            6              0   \n",
       "\n",
       "  post_source  reposts_count  \\\n",
       "0          vk              0   \n",
       "1          vk              0   \n",
       "2          vk              0   \n",
       "3          vk              0   \n",
       "4          vk              3   \n",
       "\n",
       "                                                text  views_count  \n",
       "0  Состоялся долгожданный релиз мобильного прилож...        893.0  \n",
       "1  Исследовательская компания Diar опубликовала н...       1186.0  \n",
       "2  Торговая P2P-платформа Localbitcoins заявила, ...       2285.0  \n",
       "3  Тогда курс первой криптовалюты достигал отметк...       2328.0  \n",
       "4  Исследователи канадской финансовой компании Ca...       2727.0  "
      ]
     },
     "execution_count": 8,
     "metadata": {},
     "output_type": "execute_result"
    }
   ],
   "source": [
    "df = pd.read_csv(RESULTS_FILE_NAME)\n",
    "df.head()"
   ]
  },
  {
   "cell_type": "code",
   "execution_count": 9,
   "metadata": {},
   "outputs": [
    {
     "data": {
      "text/html": [
       "<div>\n",
       "<style scoped>\n",
       "    .dataframe tbody tr th:only-of-type {\n",
       "        vertical-align: middle;\n",
       "    }\n",
       "\n",
       "    .dataframe tbody tr th {\n",
       "        vertical-align: top;\n",
       "    }\n",
       "\n",
       "    .dataframe thead th {\n",
       "        text-align: right;\n",
       "    }\n",
       "</style>\n",
       "<table border=\"1\" class=\"dataframe\">\n",
       "  <thead>\n",
       "    <tr style=\"text-align: right;\">\n",
       "      <th></th>\n",
       "      <th>group_id</th>\n",
       "      <th>comments_count</th>\n",
       "      <th>date</th>\n",
       "      <th>likes_count</th>\n",
       "      <th>marked_as_ads</th>\n",
       "      <th>post_source</th>\n",
       "      <th>reposts_count</th>\n",
       "      <th>text</th>\n",
       "      <th>views_count</th>\n",
       "      <th>day_number</th>\n",
       "    </tr>\n",
       "  </thead>\n",
       "  <tbody>\n",
       "    <tr>\n",
       "      <th>0</th>\n",
       "      <td>29387592</td>\n",
       "      <td>1</td>\n",
       "      <td>1549998127</td>\n",
       "      <td>1</td>\n",
       "      <td>0</td>\n",
       "      <td>vk</td>\n",
       "      <td>0</td>\n",
       "      <td>Состоялся долгожданный релиз мобильного прилож...</td>\n",
       "      <td>893.0</td>\n",
       "      <td>73</td>\n",
       "    </tr>\n",
       "    <tr>\n",
       "      <th>1</th>\n",
       "      <td>29387592</td>\n",
       "      <td>0</td>\n",
       "      <td>1549997035</td>\n",
       "      <td>4</td>\n",
       "      <td>0</td>\n",
       "      <td>vk</td>\n",
       "      <td>0</td>\n",
       "      <td>Исследовательская компания Diar опубликовала н...</td>\n",
       "      <td>1186.0</td>\n",
       "      <td>73</td>\n",
       "    </tr>\n",
       "    <tr>\n",
       "      <th>2</th>\n",
       "      <td>29387592</td>\n",
       "      <td>3</td>\n",
       "      <td>1549896060</td>\n",
       "      <td>4</td>\n",
       "      <td>0</td>\n",
       "      <td>vk</td>\n",
       "      <td>0</td>\n",
       "      <td>Торговая P2P-платформа Localbitcoins заявила, ...</td>\n",
       "      <td>2285.0</td>\n",
       "      <td>72</td>\n",
       "    </tr>\n",
       "    <tr>\n",
       "      <th>3</th>\n",
       "      <td>29387592</td>\n",
       "      <td>9</td>\n",
       "      <td>1549634023</td>\n",
       "      <td>7</td>\n",
       "      <td>0</td>\n",
       "      <td>vk</td>\n",
       "      <td>0</td>\n",
       "      <td>Тогда курс первой криптовалюты достигал отметк...</td>\n",
       "      <td>2328.0</td>\n",
       "      <td>69</td>\n",
       "    </tr>\n",
       "    <tr>\n",
       "      <th>4</th>\n",
       "      <td>29387592</td>\n",
       "      <td>0</td>\n",
       "      <td>1549454503</td>\n",
       "      <td>6</td>\n",
       "      <td>0</td>\n",
       "      <td>vk</td>\n",
       "      <td>3</td>\n",
       "      <td>Исследователи канадской финансовой компании Ca...</td>\n",
       "      <td>2727.0</td>\n",
       "      <td>67</td>\n",
       "    </tr>\n",
       "  </tbody>\n",
       "</table>\n",
       "</div>"
      ],
      "text/plain": [
       "   group_id  comments_count        date  likes_count  marked_as_ads  \\\n",
       "0  29387592               1  1549998127            1              0   \n",
       "1  29387592               0  1549997035            4              0   \n",
       "2  29387592               3  1549896060            4              0   \n",
       "3  29387592               9  1549634023            7              0   \n",
       "4  29387592               0  1549454503            6              0   \n",
       "\n",
       "  post_source  reposts_count  \\\n",
       "0          vk              0   \n",
       "1          vk              0   \n",
       "2          vk              0   \n",
       "3          vk              0   \n",
       "4          vk              3   \n",
       "\n",
       "                                                text  views_count  day_number  \n",
       "0  Состоялся долгожданный релиз мобильного прилож...        893.0          73  \n",
       "1  Исследовательская компания Diar опубликовала н...       1186.0          73  \n",
       "2  Торговая P2P-платформа Localbitcoins заявила, ...       2285.0          72  \n",
       "3  Тогда курс первой криптовалюты достигал отметк...       2328.0          69  \n",
       "4  Исследователи канадской финансовой компании Ca...       2727.0          67  "
      ]
     },
     "execution_count": 9,
     "metadata": {},
     "output_type": "execute_result"
    }
   ],
   "source": [
    "# для удобства - создадим столбец, который представляет дату в виде \"номер дня начиная от date0\"\n",
    "date_start = datetime(2018, 12, 1)\n",
    "df['day_number'] = df['date'].apply(lambda x: (datetime.fromtimestamp(int(x)) - date_start).days)\n",
    "df.head()"
   ]
  },
  {
   "cell_type": "code",
   "execution_count": 88,
   "metadata": {},
   "outputs": [
    {
     "name": "stdout",
     "output_type": "stream",
     "text": [
      "date0: 2018-12-01 00:00:00\n",
      "date2: 2019-02-12 22:02:07\n",
      "73\n"
     ]
    }
   ],
   "source": [
    "from datetime import datetime\n",
    "from datetime import date\n",
    "date0 = datetime(2018, 12, 1)\n",
    "date2 = datetime.fromtimestamp(1549998127) #.strftime('%Y-%m-%d %H:%M:%S')\n",
    "delta = date2 - date0\n",
    "print('date0: ' + date0.strftime('%Y-%m-%d %H:%M:%S'))\n",
    "print('date2: ' + date2.strftime('%Y-%m-%d %H:%M:%S'))\n",
    "print(delta.days)"
   ]
  },
  {
   "cell_type": "code",
   "execution_count": 10,
   "metadata": {},
   "outputs": [
    {
     "data": {
      "text/html": [
       "<div>\n",
       "<style scoped>\n",
       "    .dataframe tbody tr th:only-of-type {\n",
       "        vertical-align: middle;\n",
       "    }\n",
       "\n",
       "    .dataframe tbody tr th {\n",
       "        vertical-align: top;\n",
       "    }\n",
       "\n",
       "    .dataframe thead th {\n",
       "        text-align: right;\n",
       "    }\n",
       "</style>\n",
       "<table border=\"1\" class=\"dataframe\">\n",
       "  <thead>\n",
       "    <tr style=\"text-align: right;\">\n",
       "      <th></th>\n",
       "      <th>group_id</th>\n",
       "      <th>comments_count</th>\n",
       "      <th>date</th>\n",
       "      <th>likes_count</th>\n",
       "      <th>marked_as_ads</th>\n",
       "      <th>reposts_count</th>\n",
       "      <th>views_count</th>\n",
       "      <th>day_number</th>\n",
       "    </tr>\n",
       "  </thead>\n",
       "  <tbody>\n",
       "    <tr>\n",
       "      <th>count</th>\n",
       "      <td>3.781000e+03</td>\n",
       "      <td>3781.000000</td>\n",
       "      <td>3.781000e+03</td>\n",
       "      <td>3781.000000</td>\n",
       "      <td>3781.000000</td>\n",
       "      <td>3781.000000</td>\n",
       "      <td>3.460000e+03</td>\n",
       "      <td>3781.000000</td>\n",
       "    </tr>\n",
       "    <tr>\n",
       "      <th>mean</th>\n",
       "      <td>7.638030e+07</td>\n",
       "      <td>10.995504</td>\n",
       "      <td>1.528260e+09</td>\n",
       "      <td>26.953716</td>\n",
       "      <td>0.008992</td>\n",
       "      <td>4.040994</td>\n",
       "      <td>2.692551e+03</td>\n",
       "      <td>-178.310235</td>\n",
       "    </tr>\n",
       "    <tr>\n",
       "      <th>std</th>\n",
       "      <td>4.265118e+07</td>\n",
       "      <td>182.217344</td>\n",
       "      <td>3.515309e+07</td>\n",
       "      <td>559.547431</td>\n",
       "      <td>0.094413</td>\n",
       "      <td>85.954062</td>\n",
       "      <td>5.273675e+04</td>\n",
       "      <td>406.841189</td>\n",
       "    </tr>\n",
       "    <tr>\n",
       "      <th>min</th>\n",
       "      <td>6.320450e+05</td>\n",
       "      <td>0.000000</td>\n",
       "      <td>1.398186e+09</td>\n",
       "      <td>0.000000</td>\n",
       "      <td>0.000000</td>\n",
       "      <td>0.000000</td>\n",
       "      <td>3.000000e+00</td>\n",
       "      <td>-1684.000000</td>\n",
       "    </tr>\n",
       "    <tr>\n",
       "      <th>25%</th>\n",
       "      <td>5.072568e+07</td>\n",
       "      <td>0.000000</td>\n",
       "      <td>1.526733e+09</td>\n",
       "      <td>1.000000</td>\n",
       "      <td>0.000000</td>\n",
       "      <td>0.000000</td>\n",
       "      <td>1.680000e+02</td>\n",
       "      <td>-196.000000</td>\n",
       "    </tr>\n",
       "    <tr>\n",
       "      <th>50%</th>\n",
       "      <td>6.531413e+07</td>\n",
       "      <td>0.000000</td>\n",
       "      <td>1.539411e+09</td>\n",
       "      <td>3.000000</td>\n",
       "      <td>0.000000</td>\n",
       "      <td>0.000000</td>\n",
       "      <td>4.850000e+02</td>\n",
       "      <td>-49.000000</td>\n",
       "    </tr>\n",
       "    <tr>\n",
       "      <th>75%</th>\n",
       "      <td>1.012714e+08</td>\n",
       "      <td>1.000000</td>\n",
       "      <td>1.547749e+09</td>\n",
       "      <td>8.000000</td>\n",
       "      <td>0.000000</td>\n",
       "      <td>2.000000</td>\n",
       "      <td>1.451000e+03</td>\n",
       "      <td>47.000000</td>\n",
       "    </tr>\n",
       "    <tr>\n",
       "      <th>max</th>\n",
       "      <td>1.627583e+08</td>\n",
       "      <td>8687.000000</td>\n",
       "      <td>1.550067e+09</td>\n",
       "      <td>32506.000000</td>\n",
       "      <td>1.000000</td>\n",
       "      <td>5182.000000</td>\n",
       "      <td>2.567530e+06</td>\n",
       "      <td>74.000000</td>\n",
       "    </tr>\n",
       "  </tbody>\n",
       "</table>\n",
       "</div>"
      ],
      "text/plain": [
       "           group_id  comments_count          date   likes_count  \\\n",
       "count  3.781000e+03     3781.000000  3.781000e+03   3781.000000   \n",
       "mean   7.638030e+07       10.995504  1.528260e+09     26.953716   \n",
       "std    4.265118e+07      182.217344  3.515309e+07    559.547431   \n",
       "min    6.320450e+05        0.000000  1.398186e+09      0.000000   \n",
       "25%    5.072568e+07        0.000000  1.526733e+09      1.000000   \n",
       "50%    6.531413e+07        0.000000  1.539411e+09      3.000000   \n",
       "75%    1.012714e+08        1.000000  1.547749e+09      8.000000   \n",
       "max    1.627583e+08     8687.000000  1.550067e+09  32506.000000   \n",
       "\n",
       "       marked_as_ads  reposts_count   views_count   day_number  \n",
       "count    3781.000000    3781.000000  3.460000e+03  3781.000000  \n",
       "mean        0.008992       4.040994  2.692551e+03  -178.310235  \n",
       "std         0.094413      85.954062  5.273675e+04   406.841189  \n",
       "min         0.000000       0.000000  3.000000e+00 -1684.000000  \n",
       "25%         0.000000       0.000000  1.680000e+02  -196.000000  \n",
       "50%         0.000000       0.000000  4.850000e+02   -49.000000  \n",
       "75%         0.000000       2.000000  1.451000e+03    47.000000  \n",
       "max         1.000000    5182.000000  2.567530e+06    74.000000  "
      ]
     },
     "execution_count": 10,
     "metadata": {},
     "output_type": "execute_result"
    }
   ],
   "source": [
    "df.describe()"
   ]
  },
  {
   "cell_type": "code",
   "execution_count": 14,
   "metadata": {},
   "outputs": [
    {
     "name": "stdout",
     "output_type": "stream",
     "text": [
      "vk     2972\n",
      "api     659\n",
      "rss     100\n",
      "mvk      50\n",
      "Name: post_source, dtype: int64\n"
     ]
    }
   ],
   "source": [
    "# Для каждого столбца выполним такой код - проверим, что есть разнообразие в значениях\n",
    "print(df['post_source'].value_counts())"
   ]
  },
  {
   "cell_type": "code",
   "execution_count": 18,
   "metadata": {},
   "outputs": [
    {
     "name": "stdout",
     "output_type": "stream",
     "text": [
      "92718200     12\n",
      "33135732      7\n",
      "632045        6\n",
      "93604475      3\n",
      "46371384      2\n",
      "19354230      1\n",
      "51789870      1\n",
      "79363873      1\n",
      "122422421     1\n",
      "Name: group_id, dtype: int64\n"
     ]
    }
   ],
   "source": [
    "# столбец 'marked_as_ads' проанализируем чуть подробней - в 1% строк значение отличается \n",
    "# -> если это происходит для одного group_id - тогда данные интереса не представляют (корелляция с group_id).\n",
    "tmp_df = df[df['marked_as_ads'] == 1]\n",
    "print(tmp_df['group_id'].value_counts())\n",
    "# решение = оставляем столбец"
   ]
  },
  {
   "cell_type": "code",
   "execution_count": 12,
   "metadata": {},
   "outputs": [
    {
     "name": "stderr",
     "output_type": "stream",
     "text": [
      "C:\\installed\\anaconda\\envs\\py36\\lib\\site-packages\\numpy\\lib\\histograms.py:708: RuntimeWarning: Converting input from bool to <class 'numpy.uint8'> for compatibility.\n",
      "  a, weights = _ravel_and_check_weights(a, weights)\n"
     ]
    },
    {
     "data": {
      "text/plain": [
       "array([[<matplotlib.axes._subplots.AxesSubplot object at 0x000001D3DB384588>,\n",
       "        <matplotlib.axes._subplots.AxesSubplot object at 0x000001D3DB63C7B8>,\n",
       "        <matplotlib.axes._subplots.AxesSubplot object at 0x000001D3DB666B00>],\n",
       "       [<matplotlib.axes._subplots.AxesSubplot object at 0x000001D3DB6980B8>,\n",
       "        <matplotlib.axes._subplots.AxesSubplot object at 0x000001D3DB6BF630>,\n",
       "        <matplotlib.axes._subplots.AxesSubplot object at 0x000001D3DB6E5BA8>],\n",
       "       [<matplotlib.axes._subplots.AxesSubplot object at 0x000001D3DB717160>,\n",
       "        <matplotlib.axes._subplots.AxesSubplot object at 0x000001D3DB73B710>,\n",
       "        <matplotlib.axes._subplots.AxesSubplot object at 0x000001D3DB73B748>],\n",
       "       [<matplotlib.axes._subplots.AxesSubplot object at 0x000001D3DB794208>,\n",
       "        <matplotlib.axes._subplots.AxesSubplot object at 0x000001D3DB7BC780>,\n",
       "        <matplotlib.axes._subplots.AxesSubplot object at 0x000001D3DB7E4CF8>]],\n",
       "      dtype=object)"
      ]
     },
     "execution_count": 12,
     "metadata": {},
     "output_type": "execute_result"
    }
   ],
   "source": [
    "df.hist()"
   ]
  },
  {
   "cell_type": "code",
   "execution_count": 74,
   "metadata": {},
   "outputs": [
    {
     "data": {
      "text/plain": [
       "<matplotlib.axes._subplots.AxesSubplot at 0x1d3dc0eb048>"
      ]
     },
     "execution_count": 74,
     "metadata": {},
     "output_type": "execute_result"
    },
    {
     "data": {
      "image/png": "[encoded data removed]",
      "text/plain": [
       "<Figure size 432x288 with 1 Axes>"
      ]
     },
     "metadata": {
      "needs_background": "light"
     },
     "output_type": "display_data"
    }
   ],
   "source": [
    "df['views_count'].hist()"
   ]
  },
  {
   "cell_type": "code",
   "execution_count": 76,
   "metadata": {},
   "outputs": [
    {
     "data": {
      "text/plain": [
       "<matplotlib.axes._subplots.AxesSubplot at 0x1d3dc1526a0>"
      ]
     },
     "execution_count": 76,
     "metadata": {},
     "output_type": "execute_result"
    },
    {
     "data": {
      "image/png": "[encoded data removed]",
      "text/plain": [
       "<Figure size 432x288 with 1 Axes>"
      ]
     },
     "metadata": {
      "needs_background": "light"
     },
     "output_type": "display_data"
    }
   ],
   "source": [
    "df['likes_count'].hist()"
   ]
  },
  {
   "cell_type": "code",
   "execution_count": 70,
   "metadata": {},
   "outputs": [
    {
     "data": {
      "text/plain": [
       "3812.399999999999"
      ]
     },
     "execution_count": 70,
     "metadata": {},
     "output_type": "execute_result"
    }
   ],
   "source": [
    "df[\"views_count\"].quantile(0.95)"
   ]
  },
  {
   "cell_type": "code",
   "execution_count": 75,
   "metadata": {},
   "outputs": [],
   "source": [
    "columnName = 'likes_count'\n",
    "barrier = df[columnName].quantile(0.99)\n",
    "df = df[df[columnName] < barrier]"
   ]
  },
  {
   "cell_type": "code",
   "execution_count": 77,
   "metadata": {},
   "outputs": [
    {
     "data": {
      "text/html": [
       "<div>\n",
       "<style scoped>\n",
       "    .dataframe tbody tr th:only-of-type {\n",
       "        vertical-align: middle;\n",
       "    }\n",
       "\n",
       "    .dataframe tbody tr th {\n",
       "        vertical-align: top;\n",
       "    }\n",
       "\n",
       "    .dataframe thead th {\n",
       "        text-align: right;\n",
       "    }\n",
       "</style>\n",
       "<table border=\"1\" class=\"dataframe\">\n",
       "  <thead>\n",
       "    <tr style=\"text-align: right;\">\n",
       "      <th></th>\n",
       "      <th>group_id</th>\n",
       "      <th>comments_count</th>\n",
       "      <th>date</th>\n",
       "      <th>likes_count</th>\n",
       "      <th>marked_as_ads</th>\n",
       "      <th>reposts_count</th>\n",
       "      <th>views_count</th>\n",
       "    </tr>\n",
       "    <tr>\n",
       "      <th>post_source</th>\n",
       "      <th></th>\n",
       "      <th></th>\n",
       "      <th></th>\n",
       "      <th></th>\n",
       "      <th></th>\n",
       "      <th></th>\n",
       "      <th></th>\n",
       "    </tr>\n",
       "  </thead>\n",
       "  <tbody>\n",
       "    <tr>\n",
       "      <th>api</th>\n",
       "      <td>8.435058e+07</td>\n",
       "      <td>1.090150</td>\n",
       "      <td>1.536768e+09</td>\n",
       "      <td>3.013356</td>\n",
       "      <td>0.000000</td>\n",
       "      <td>0.332220</td>\n",
       "      <td>533.579299</td>\n",
       "    </tr>\n",
       "    <tr>\n",
       "      <th>mvk</th>\n",
       "      <td>6.617306e+07</td>\n",
       "      <td>2.260000</td>\n",
       "      <td>1.544122e+09</td>\n",
       "      <td>5.180000</td>\n",
       "      <td>0.000000</td>\n",
       "      <td>1.180000</td>\n",
       "      <td>555.920000</td>\n",
       "    </tr>\n",
       "    <tr>\n",
       "      <th>rss</th>\n",
       "      <td>5.083492e+07</td>\n",
       "      <td>0.000000</td>\n",
       "      <td>1.549812e+09</td>\n",
       "      <td>0.000000</td>\n",
       "      <td>0.000000</td>\n",
       "      <td>0.010000</td>\n",
       "      <td>25.070000</td>\n",
       "    </tr>\n",
       "    <tr>\n",
       "      <th>vk</th>\n",
       "      <td>7.798098e+07</td>\n",
       "      <td>1.198113</td>\n",
       "      <td>1.539004e+09</td>\n",
       "      <td>5.800246</td>\n",
       "      <td>0.012305</td>\n",
       "      <td>1.067268</td>\n",
       "      <td>831.197703</td>\n",
       "    </tr>\n",
       "  </tbody>\n",
       "</table>\n",
       "</div>"
      ],
      "text/plain": [
       "                 group_id  comments_count          date  likes_count  \\\n",
       "post_source                                                            \n",
       "api          8.435058e+07        1.090150  1.536768e+09     3.013356   \n",
       "mvk          6.617306e+07        2.260000  1.544122e+09     5.180000   \n",
       "rss          5.083492e+07        0.000000  1.549812e+09     0.000000   \n",
       "vk           7.798098e+07        1.198113  1.539004e+09     5.800246   \n",
       "\n",
       "             marked_as_ads  reposts_count  views_count  \n",
       "post_source                                             \n",
       "api               0.000000       0.332220   533.579299  \n",
       "mvk               0.000000       1.180000   555.920000  \n",
       "rss               0.000000       0.010000    25.070000  \n",
       "vk                0.012305       1.067268   831.197703  "
      ]
     },
     "execution_count": 77,
     "metadata": {},
     "output_type": "execute_result"
    }
   ],
   "source": [
    "df.groupby('post_source').agg('mean')"
   ]
  },
  {
   "cell_type": "code",
   "execution_count": 109,
   "metadata": {},
   "outputs": [
    {
     "name": "stderr",
     "output_type": "stream",
     "text": [
      "C:\\installed\\anaconda\\envs\\py36\\lib\\site-packages\\pandas\\core\\reshape\\merge.py:522: UserWarning: merging between different levels can give an unintended result (2 levels on the left, 1 on the right)\n",
      "  warnings.warn(msg, UserWarning)\n"
     ]
    },
    {
     "data": {
      "text/html": [
       "<div>\n",
       "<style scoped>\n",
       "    .dataframe tbody tr th:only-of-type {\n",
       "        vertical-align: middle;\n",
       "    }\n",
       "\n",
       "    .dataframe tbody tr th {\n",
       "        vertical-align: top;\n",
       "    }\n",
       "\n",
       "    .dataframe thead th {\n",
       "        text-align: right;\n",
       "    }\n",
       "</style>\n",
       "<table border=\"1\" class=\"dataframe\">\n",
       "  <thead>\n",
       "    <tr style=\"text-align: right;\">\n",
       "      <th></th>\n",
       "      <th>day_number</th>\n",
       "      <th>(group_id, mean)</th>\n",
       "      <th>(comments_count, mean)</th>\n",
       "      <th>(date, mean)</th>\n",
       "      <th>(likes_count, mean)</th>\n",
       "      <th>(marked_as_ads, mean)</th>\n",
       "      <th>(reposts_count, mean)</th>\n",
       "      <th>(views_count, mean)</th>\n",
       "      <th>counts</th>\n",
       "    </tr>\n",
       "  </thead>\n",
       "  <tbody>\n",
       "    <tr>\n",
       "      <th>0</th>\n",
       "      <td>-663</td>\n",
       "      <td>21178038.0</td>\n",
       "      <td>0.0</td>\n",
       "      <td>1.486409e+09</td>\n",
       "      <td>18.0</td>\n",
       "      <td>0.0</td>\n",
       "      <td>0.0</td>\n",
       "      <td>1308.0</td>\n",
       "      <td>1</td>\n",
       "    </tr>\n",
       "    <tr>\n",
       "      <th>1</th>\n",
       "      <td>-637</td>\n",
       "      <td>21178038.0</td>\n",
       "      <td>0.0</td>\n",
       "      <td>1.488617e+09</td>\n",
       "      <td>18.0</td>\n",
       "      <td>0.0</td>\n",
       "      <td>3.0</td>\n",
       "      <td>1217.0</td>\n",
       "      <td>1</td>\n",
       "    </tr>\n",
       "    <tr>\n",
       "      <th>2</th>\n",
       "      <td>-635</td>\n",
       "      <td>21178038.0</td>\n",
       "      <td>0.0</td>\n",
       "      <td>1.488806e+09</td>\n",
       "      <td>13.0</td>\n",
       "      <td>0.0</td>\n",
       "      <td>0.0</td>\n",
       "      <td>1219.0</td>\n",
       "      <td>1</td>\n",
       "    </tr>\n",
       "    <tr>\n",
       "      <th>3</th>\n",
       "      <td>-621</td>\n",
       "      <td>21178038.0</td>\n",
       "      <td>0.0</td>\n",
       "      <td>1.490007e+09</td>\n",
       "      <td>46.0</td>\n",
       "      <td>0.0</td>\n",
       "      <td>0.0</td>\n",
       "      <td>1392.0</td>\n",
       "      <td>1</td>\n",
       "    </tr>\n",
       "    <tr>\n",
       "      <th>4</th>\n",
       "      <td>-571</td>\n",
       "      <td>21178038.0</td>\n",
       "      <td>0.0</td>\n",
       "      <td>1.494311e+09</td>\n",
       "      <td>12.0</td>\n",
       "      <td>0.0</td>\n",
       "      <td>0.0</td>\n",
       "      <td>1350.0</td>\n",
       "      <td>1</td>\n",
       "    </tr>\n",
       "  </tbody>\n",
       "</table>\n",
       "</div>"
      ],
      "text/plain": [
       "   day_number  (group_id, mean)  (comments_count, mean)  (date, mean)  \\\n",
       "0        -663        21178038.0                     0.0  1.486409e+09   \n",
       "1        -637        21178038.0                     0.0  1.488617e+09   \n",
       "2        -635        21178038.0                     0.0  1.488806e+09   \n",
       "3        -621        21178038.0                     0.0  1.490007e+09   \n",
       "4        -571        21178038.0                     0.0  1.494311e+09   \n",
       "\n",
       "   (likes_count, mean)  (marked_as_ads, mean)  (reposts_count, mean)  \\\n",
       "0                 18.0                    0.0                    0.0   \n",
       "1                 18.0                    0.0                    3.0   \n",
       "2                 13.0                    0.0                    0.0   \n",
       "3                 46.0                    0.0                    0.0   \n",
       "4                 12.0                    0.0                    0.0   \n",
       "\n",
       "   (views_count, mean)  counts  \n",
       "0               1308.0       1  \n",
       "1               1217.0       1  \n",
       "2               1219.0       1  \n",
       "3               1392.0       1  \n",
       "4               1350.0       1  "
      ]
     },
     "execution_count": 109,
     "metadata": {},
     "output_type": "execute_result"
    }
   ],
   "source": [
    "counts_df = pd.DataFrame(df.groupby('day_number').size().reset_index(name='counts'))\n",
    "grouped_df = df.groupby('day_number').agg(['mean'])\n",
    "result_df = pd.merge(grouped_df, counts_df, on='day_number', how='outer')\n",
    "result_df.head()"
   ]
  },
  {
   "cell_type": "code",
   "execution_count": 111,
   "metadata": {},
   "outputs": [
    {
     "data": {
      "text/html": [
       "<div>\n",
       "<style scoped>\n",
       "    .dataframe tbody tr th:only-of-type {\n",
       "        vertical-align: middle;\n",
       "    }\n",
       "\n",
       "    .dataframe tbody tr th {\n",
       "        vertical-align: top;\n",
       "    }\n",
       "\n",
       "    .dataframe thead th {\n",
       "        text-align: right;\n",
       "    }\n",
       "</style>\n",
       "<table border=\"1\" class=\"dataframe\">\n",
       "  <thead>\n",
       "    <tr style=\"text-align: right;\">\n",
       "      <th></th>\n",
       "      <th>day_number</th>\n",
       "      <th>(group_id, mean)</th>\n",
       "      <th>(comments_count, mean)</th>\n",
       "      <th>(date, mean)</th>\n",
       "      <th>(likes_count, mean)</th>\n",
       "      <th>(marked_as_ads, mean)</th>\n",
       "      <th>(reposts_count, mean)</th>\n",
       "      <th>(views_count, mean)</th>\n",
       "      <th>counts</th>\n",
       "    </tr>\n",
       "  </thead>\n",
       "  <tbody>\n",
       "    <tr>\n",
       "      <th>count</th>\n",
       "      <td>406.000000</td>\n",
       "      <td>4.060000e+02</td>\n",
       "      <td>406.000000</td>\n",
       "      <td>4.060000e+02</td>\n",
       "      <td>406.000000</td>\n",
       "      <td>406.000000</td>\n",
       "      <td>406.000000</td>\n",
       "      <td>406.000000</td>\n",
       "      <td>406.000000</td>\n",
       "    </tr>\n",
       "    <tr>\n",
       "      <th>mean</th>\n",
       "      <td>-142.278325</td>\n",
       "      <td>8.086678e+07</td>\n",
       "      <td>1.807553</td>\n",
       "      <td>1.531375e+09</td>\n",
       "      <td>6.085428</td>\n",
       "      <td>0.003628</td>\n",
       "      <td>0.978319</td>\n",
       "      <td>762.435137</td>\n",
       "      <td>7.849754</td>\n",
       "    </tr>\n",
       "    <tr>\n",
       "      <th>std</th>\n",
       "      <td>143.964549</td>\n",
       "      <td>2.741284e+07</td>\n",
       "      <td>3.569524</td>\n",
       "      <td>1.243922e+07</td>\n",
       "      <td>6.325387</td>\n",
       "      <td>0.020562</td>\n",
       "      <td>1.505076</td>\n",
       "      <td>581.310362</td>\n",
       "      <td>10.850708</td>\n",
       "    </tr>\n",
       "    <tr>\n",
       "      <th>min</th>\n",
       "      <td>-663.000000</td>\n",
       "      <td>1.935423e+07</td>\n",
       "      <td>0.000000</td>\n",
       "      <td>1.486409e+09</td>\n",
       "      <td>0.000000</td>\n",
       "      <td>0.000000</td>\n",
       "      <td>0.000000</td>\n",
       "      <td>39.000000</td>\n",
       "      <td>1.000000</td>\n",
       "    </tr>\n",
       "    <tr>\n",
       "      <th>25%</th>\n",
       "      <td>-237.500000</td>\n",
       "      <td>6.296759e+07</td>\n",
       "      <td>0.000000</td>\n",
       "      <td>1.523142e+09</td>\n",
       "      <td>2.333333</td>\n",
       "      <td>0.000000</td>\n",
       "      <td>0.125000</td>\n",
       "      <td>367.687500</td>\n",
       "      <td>3.000000</td>\n",
       "    </tr>\n",
       "    <tr>\n",
       "      <th>50%</th>\n",
       "      <td>-129.500000</td>\n",
       "      <td>8.054909e+07</td>\n",
       "      <td>0.594118</td>\n",
       "      <td>1.532482e+09</td>\n",
       "      <td>4.366667</td>\n",
       "      <td>0.000000</td>\n",
       "      <td>0.500000</td>\n",
       "      <td>657.452381</td>\n",
       "      <td>5.000000</td>\n",
       "    </tr>\n",
       "    <tr>\n",
       "      <th>75%</th>\n",
       "      <td>-27.250000</td>\n",
       "      <td>9.943744e+07</td>\n",
       "      <td>1.854396</td>\n",
       "      <td>1.541312e+09</td>\n",
       "      <td>7.750000</td>\n",
       "      <td>0.000000</td>\n",
       "      <td>1.200000</td>\n",
       "      <td>965.100000</td>\n",
       "      <td>9.000000</td>\n",
       "    </tr>\n",
       "    <tr>\n",
       "      <th>max</th>\n",
       "      <td>74.000000</td>\n",
       "      <td>1.525499e+08</td>\n",
       "      <td>41.800000</td>\n",
       "      <td>1.550047e+09</td>\n",
       "      <td>49.000000</td>\n",
       "      <td>0.250000</td>\n",
       "      <td>15.500000</td>\n",
       "      <td>3322.000000</td>\n",
       "      <td>104.000000</td>\n",
       "    </tr>\n",
       "  </tbody>\n",
       "</table>\n",
       "</div>"
      ],
      "text/plain": [
       "       day_number  (group_id, mean)  (comments_count, mean)  (date, mean)  \\\n",
       "count  406.000000      4.060000e+02              406.000000  4.060000e+02   \n",
       "mean  -142.278325      8.086678e+07                1.807553  1.531375e+09   \n",
       "std    143.964549      2.741284e+07                3.569524  1.243922e+07   \n",
       "min   -663.000000      1.935423e+07                0.000000  1.486409e+09   \n",
       "25%   -237.500000      6.296759e+07                0.000000  1.523142e+09   \n",
       "50%   -129.500000      8.054909e+07                0.594118  1.532482e+09   \n",
       "75%    -27.250000      9.943744e+07                1.854396  1.541312e+09   \n",
       "max     74.000000      1.525499e+08               41.800000  1.550047e+09   \n",
       "\n",
       "       (likes_count, mean)  (marked_as_ads, mean)  (reposts_count, mean)  \\\n",
       "count           406.000000             406.000000             406.000000   \n",
       "mean              6.085428               0.003628               0.978319   \n",
       "std               6.325387               0.020562               1.505076   \n",
       "min               0.000000               0.000000               0.000000   \n",
       "25%               2.333333               0.000000               0.125000   \n",
       "50%               4.366667               0.000000               0.500000   \n",
       "75%               7.750000               0.000000               1.200000   \n",
       "max              49.000000               0.250000              15.500000   \n",
       "\n",
       "       (views_count, mean)      counts  \n",
       "count           406.000000  406.000000  \n",
       "mean            762.435137    7.849754  \n",
       "std             581.310362   10.850708  \n",
       "min              39.000000    1.000000  \n",
       "25%             367.687500    3.000000  \n",
       "50%             657.452381    5.000000  \n",
       "75%             965.100000    9.000000  \n",
       "max            3322.000000  104.000000  "
      ]
     },
     "execution_count": 111,
     "metadata": {},
     "output_type": "execute_result"
    }
   ],
   "source": [
    "result_df.describe()"
   ]
  },
  {
   "cell_type": "code",
   "execution_count": null,
   "metadata": {},
   "outputs": [],
   "source": []
  },
  {
   "cell_type": "code",
   "execution_count": null,
   "metadata": {},
   "outputs": [],
   "source": [
    "\"\"\"\n",
    "Вывод:\n",
    "Для анализа интересны столбцы:\n",
    "    'comments_count' - кол-во комментариев,\n",
    "    'date' - дата публикации,\n",
    "    'likes_count' - кол-во отметок \"нравится\",\n",
    "    'marked_as_ads' - флаг \"реклама\",\n",
    "    'post_source' - источник публикации,\n",
    "    'reposts_count' - кол-во репостов,\n",
    "    'views_count' - кол-во просмотров.\n",
    "И еще один столбец:\n",
    "    'text' - заглавие (в анализе не участвует, но для наглядности данных - оставляем).\n",
    "\n",
    "Итого: 7 столбцов, и строк > 1000.\n",
    "Данные удовлетворяют условию сдачи задания.\n",
    "\"\"\""
   ]
  },
  {
   "cell_type": "code",
   "execution_count": null,
   "metadata": {},
   "outputs": [],
   "source": [
    "\"\"\"\n",
    "По этим столбцам - можно предположить, что столбцы:\n",
    "views_count, comments_count, reposts_count, likes_count\n",
    "отражают интерес посетителей к публикации и вовлеченность в некоторый процесс, который публикация запускает.\n",
    "Возможно, активность пользователей - различается для разных сообществ?\n",
    "\n",
    "Вопрос N1:\n",
    "Существует ли попарная корелляция между значениями в столбцах: views_count, comments_count, reposts_count, likes_count ?\n",
    "\n",
    "Вопрос N2:\n",
    "Существует ли корелляция между comments_count, reposts_count, likes_count?\n",
    "То есть, возможно ли снизить размерность, если введем свойство \"интерес к публикации\" вместо этих 3-х столбцов?\n",
    "Возможно, стоит добавить отношение к кол-ву просмотров? Пусть это будет второй вариант оценки \"интерес к публикации\".\n",
    "\n",
    "Вопрос N3:\n",
    "В каких сообществах сообщения вызывают наибольший интерес?\n",
    "\"\"\""
   ]
  }
 ],
 "metadata": {
  "kernelspec": {
   "display_name": "Python 3",
   "language": "python",
   "name": "python3"
  },
  "language_info": {
   "codemirror_mode": {
    "name": "ipython",
    "version": 3
   },
   "file_extension": ".py",
   "mimetype": "text/x-python",
   "name": "python",
   "nbconvert_exporter": "python",
   "pygments_lexer": "ipython3",
   "version": "3.6.8"
  }
 },
 "nbformat": 4,
 "nbformat_minor": 2
}
