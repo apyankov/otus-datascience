{
 "cells": [
  {
   "cell_type": "code",
   "execution_count": 149,
   "metadata": {},
   "outputs": [],
   "source": [
    "import vk_api\n",
    "import io\n",
    "import json, codecs"
   ]
  },
  {
   "cell_type": "code",
   "execution_count": 150,
   "metadata": {},
   "outputs": [],
   "source": [
    "# credentials: нужно указать логин/пароль к vk.com\n",
    "# чтобы случайно не закомитить версию с логин/пароль - выносим эти данные в отдельный файл, который исключаем в .gitignore\n",
    "credentialsFileName = \"vk_login_password.txt\" # формат файла: 1-я строка = логин, 2-я строка = пароль\n",
    "# затираем значения, которые могли сохраниться с прошлых запусков (в notebook)\n",
    "login = '+71231234567' \n",
    "password = ''\n",
    "\n",
    "# загружаем значения из файла\n",
    "try:\n",
    "    loginFile = open(credentialsFileName, 'r')\n",
    "    login = loginFile.readline().strip() # в формате: '+71231234567'\n",
    "    password = loginFile.readline().strip()\n",
    "except IOError:\n",
    "    print (\"No file with login/password: создайте файл \" + credentialsFileName + \", в котором 1-я строка = логин, 2-я строка = пароль\")"
   ]
  },
  {
   "cell_type": "code",
   "execution_count": 151,
   "metadata": {},
   "outputs": [],
   "source": [
    "# используем:\n",
    "#  wrapper-lib vk_api: https://github.com/python273/vk_api\n",
    "#  описание Api от vk: https://vk.com/dev/groups.search?params[q]=bitcoin&params[future]=0&params[market]=0&params[offset]=3&params[count]=3&params[v]=5.92"
   ]
  },
  {
   "cell_type": "code",
   "execution_count": 152,
   "metadata": {},
   "outputs": [],
   "source": [
    "# параметры запуска\n",
    "GROUP_KEYWORD = 'bitcoin' # интересуют сообщества, в названии которых есть такое слово\n",
    "COUNT_GROUPS = 50 # обработаем столько сообществ\n",
    "COUNT_MESSAGES_PER_GROUP = 100 # в каждом сообществе, со стены возьмем столько сообщений"
   ]
  },
  {
   "cell_type": "code",
   "execution_count": 153,
   "metadata": {},
   "outputs": [],
   "source": [
    "# получаем соединение, api\n",
    "vk_session = vk_api.VkApi(login, password)\n",
    "vk_session.auth(token_only=True)\n",
    "api = vk_session.get_api()"
   ]
  },
  {
   "cell_type": "code",
   "execution_count": 154,
   "metadata": {},
   "outputs": [],
   "source": [
    "# константы и правила, которые используем при работе с файлами\n",
    "FOLDER_PREFIX = './files/' # folder, в которую складываем файлы\n",
    "FILE_EXTENSION = '.txt' # расширение для json-файлов\n",
    "\n",
    "def fileNameFunc(rawFileName):\n",
    "    return FOLDER_PREFIX + rawFileName + FILE_EXTENSION"
   ]
  },
  {
   "cell_type": "code",
   "execution_count": 155,
   "metadata": {},
   "outputs": [],
   "source": [
    "# Данные по сообществам - получаем по http\n",
    "def obtainGroups(api, keyword, count):\n",
    "    print(\"obtainGroups, keyword=\" + keyword + \", count=\" + str(count))\n",
    "    results = api.groups.search(q=keyword, count=count)\n",
    "    return results['items']"
   ]
  },
  {
   "cell_type": "code",
   "execution_count": 156,
   "metadata": {},
   "outputs": [],
   "source": [
    "# получить N записей со стены сообщества/пользователя\n",
    "def obtainWallItems(api, owner_id, count):\n",
    "    # protection: проверяем входные значения\n",
    "    if(count > 100): # todo: можно приделать scroll, то есть, разбить запрос на несколько, в каждом count не более 100\n",
    "        raise AssertionError(\"count должен быть <= 100, но передали:\" + str(count))\n",
    "\n",
    "    # основная часть\n",
    "    results = api.wall.get(owner_id=owner_id, filter = 'owner', count = count, offset=0)\n",
    "    print(\"obtainWallItems, owner_id=\" + str(owner_id) + \", retrieve \" + str(len(results['items'])) + \", of total \" + str(results['count']))\n",
    "    return results['items']\n",
    "\n",
    "# для напоминания - сохраним в комментариях альтернативный метод vk_api для получения сообщений со стены сообщества\n",
    "#tools = vk_api.VkTools(vk_session)\n",
    "#wall = tools.get_all('wall.get', 10, {'owner_id': -92718200, 'filter':'owner'})"
   ]
  },
  {
   "cell_type": "code",
   "execution_count": 157,
   "metadata": {},
   "outputs": [],
   "source": [
    "# записываем json в файл\n",
    "def writeJsonToFile(fileName, jsonData):\n",
    "    with io.open(fileName, 'w', encoding='utf-8') as f:\n",
    "        f.write(json.dumps(jsonData, ensure_ascii=False, sort_keys=True, indent=4))"
   ]
  },
  {
   "cell_type": "code",
   "execution_count": 158,
   "metadata": {},
   "outputs": [
    {
     "name": "stdout",
     "output_type": "stream",
     "text": [
      "obtainGroups, keyword=bitcoin, count=50\n"
     ]
    }
   ],
   "source": [
    "# получаем все интересующие сообщества, записываем в файл\n",
    "groups = obtainGroups(api, 'bitcoin', COUNT_GROUPS)\n",
    "writeJsonToFile(fileNameFunc('groups'), groups)"
   ]
  },
  {
   "cell_type": "code",
   "execution_count": 159,
   "metadata": {},
   "outputs": [
    {
     "name": "stdout",
     "output_type": "stream",
     "text": [
      "skip group:16269693\n",
      "skip group:16219861\n",
      "total groups для обработки: 48\n"
     ]
    }
   ],
   "source": [
    "# отфильтруем сообщества - нам нужны только те, у которых есть доступ к сообщениям на стене\n",
    "group_ids = []\n",
    "for group in groups:\n",
    "    if(group['is_closed'] == 0):\n",
    "        group_ids.append(group['id'])\n",
    "    else:\n",
    "        print('skip group:' + str(group['id']))\n",
    "print('total groups для обработки: ' + str(len(group_ids)))"
   ]
  },
  {
   "cell_type": "code",
   "execution_count": 160,
   "metadata": {},
   "outputs": [
    {
     "name": "stdout",
     "output_type": "stream",
     "text": [
      "obtainWallItems, owner_id=-46371384retrieve 100, of total 48228\n",
      "obtainWallItems, owner_id=-92718200retrieve 100, of total 10601\n",
      "obtainWallItems, owner_id=-632045retrieve 100, of total 28475\n",
      "obtainWallItems, owner_id=-93604475retrieve 100, of total 14366\n",
      "obtainWallItems, owner_id=-59454515retrieve 100, of total 31644\n",
      "obtainWallItems, owner_id=-79363873retrieve 100, of total 830\n",
      "obtainWallItems, owner_id=-51789870retrieve 100, of total 13932\n",
      "obtainWallItems, owner_id=-92357206retrieve 100, of total 132\n",
      "obtainWallItems, owner_id=-101271420retrieve 100, of total 5135\n",
      "obtainWallItems, owner_id=-29387592retrieve 100, of total 1750\n",
      "obtainWallItems, owner_id=-158943684retrieve 100, of total 149\n",
      "obtainWallItems, owner_id=-122422421retrieve 100, of total 6558\n",
      "obtainWallItems, owner_id=-74106120retrieve 1, of total 1\n",
      "obtainWallItems, owner_id=-50725681retrieve 100, of total 1397\n",
      "obtainWallItems, owner_id=-140465118retrieve 33, of total 33\n",
      "obtainWallItems, owner_id=-50061159retrieve 59, of total 59\n",
      "obtainWallItems, owner_id=-50774319retrieve 100, of total 1035\n",
      "obtainWallItems, owner_id=-147911279retrieve 100, of total 1766\n",
      "obtainWallItems, owner_id=-62032126retrieve 100, of total 19273\n",
      "obtainWallItems, owner_id=-30451584retrieve 3, of total 3\n",
      "obtainWallItems, owner_id=-63589724retrieve 100, of total 17591\n",
      "obtainWallItems, owner_id=-19354230retrieve 36, of total 36\n",
      "obtainWallItems, owner_id=-65314134retrieve 100, of total 854\n",
      "obtainWallItems, owner_id=-33135732retrieve 100, of total 6740\n",
      "obtainWallItems, owner_id=-79858655retrieve 1, of total 1\n",
      "obtainWallItems, owner_id=-70023397retrieve 9, of total 9\n",
      "obtainWallItems, owner_id=-43011371retrieve 100, of total 333\n",
      "obtainWallItems, owner_id=-113755164retrieve 100, of total 816\n",
      "obtainWallItems, owner_id=-66153827retrieve 100, of total 7578\n",
      "obtainWallItems, owner_id=-55500226retrieve 100, of total 23700\n",
      "obtainWallItems, owner_id=-61469977retrieve 100, of total 112\n",
      "obtainWallItems, owner_id=-150541976retrieve 5, of total 5\n",
      "obtainWallItems, owner_id=-53986544retrieve 100, of total 703\n",
      "obtainWallItems, owner_id=-152549864retrieve 100, of total 375\n",
      "obtainWallItems, owner_id=-83377401retrieve 100, of total 958\n",
      "obtainWallItems, owner_id=-144516691retrieve 100, of total 2298\n",
      "obtainWallItems, owner_id=-59683167retrieve 0, of total 0\n",
      "obtainWallItems, owner_id=-112446933retrieve 100, of total 2657\n",
      "obtainWallItems, owner_id=-154469944retrieve 55, of total 55\n",
      "obtainWallItems, owner_id=-162758293retrieve 100, of total 559\n",
      "obtainWallItems, owner_id=-21178038retrieve 60, of total 60\n",
      "obtainWallItems, owner_id=-35397045retrieve 100, of total 159\n",
      "obtainWallItems, owner_id=-2391355retrieve 100, of total 331\n",
      "obtainWallItems, owner_id=-50834921retrieve 100, of total 2705\n",
      "obtainWallItems, owner_id=-120998368retrieve 8, of total 8\n",
      "obtainWallItems, owner_id=-71306093retrieve 100, of total 3560\n",
      "obtainWallItems, owner_id=-67423173retrieve 100, of total 1103\n",
      "obtainWallItems, owner_id=-25234359retrieve 11, of total 11\n"
     ]
    }
   ],
   "source": [
    "# для каждого сообщества - получаем сообщения со стены и записваем в соотв.файл\n",
    "counter = 1 # счетчик, используем в названии файлов\n",
    "for group_id in group_ids:\n",
    "    vk_id = -1 * group_id # vk_api.wall.get по наличию знака минус - определяет, что требуется именно сообщество\n",
    "    items = obtainWallItems(api=api, owner_id=vk_id, count=COUNT_MESSAGES_PER_GROUP)\n",
    "    rawFileName = str(counter) + \"_\" + str(group_id)\n",
    "    writeJsonToFile(fileNameFunc(rawFileName), items)\n",
    "    counter = counter + 1"
   ]
  },
  {
   "cell_type": "code",
   "execution_count": null,
   "metadata": {},
   "outputs": [],
   "source": []
  },
  {
   "cell_type": "code",
   "execution_count": null,
   "metadata": {},
   "outputs": [],
   "source": []
  }
 ],
 "metadata": {
  "kernelspec": {
   "display_name": "Python 3",
   "language": "python",
   "name": "python3"
  },
  "language_info": {
   "codemirror_mode": {
    "name": "ipython",
    "version": 3
   },
   "file_extension": ".py",
   "mimetype": "text/x-python",
   "name": "python",
   "nbconvert_exporter": "python",
   "pygments_lexer": "ipython3",
   "version": "3.7.1"
  }
 },
 "nbformat": 4,
 "nbformat_minor": 2
}
