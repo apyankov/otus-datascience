{
 "cells": [
  {
   "cell_type": "code",
   "execution_count": 120,
   "metadata": {},
   "outputs": [],
   "source": [
    "import vk_api\n",
    "import io\n",
    "import json, codecs"
   ]
  },
  {
   "cell_type": "code",
   "execution_count": 128,
   "metadata": {},
   "outputs": [],
   "source": [
    "# credentials: нужно указать логин/пароль к vk.com\n",
    "# чтобы случайно не закомитить версию с логин/пароль - выносим эти данные в отдельный файл, который исключаем в .gitignore\n",
    "credentialsFileName = \"vk_login_password.txt\" # формат файла: 1-я строка = логин, 2-я строка = пароль\n",
    "# затираем значения, которые могли сохраниться с прошлых запусков (в notebook)\n",
    "login = '+71231234567' \n",
    "password = ''\n",
    "\n",
    "# загружаем значения из файла\n",
    "try:\n",
    "    loginFile = open(credentialsFileName, 'r')\n",
    "    login = loginFile.readline().strip() # в формате: '+71231234567'\n",
    "    password = loginFile.readline().strip()\n",
    "except IOError:\n",
    "    print (\"No file with login/password: создайте файл \" + credentialsFileName + \", в котором 1-я строка = логин, 2-я строка = пароль\")"
   ]
  },
  {
   "cell_type": "code",
   "execution_count": null,
   "metadata": {},
   "outputs": [],
   "source": [
    "# используем:\n",
    "#  wrapper-lib vk_api: https://github.com/python273/vk_api\n",
    "#  описание Api от vk: https://vk.com/dev/groups.search?params[q]=bitcoin&params[future]=0&params[market]=0&params[offset]=3&params[count]=3&params[v]=5.92"
   ]
  },
  {
   "cell_type": "code",
   "execution_count": 140,
   "metadata": {},
   "outputs": [],
   "source": [
    "# параметры запуска\n",
    "GROUP_KEYWORD = 'bitcoin' # интересуют сообщества, в названии которых есть такое слово\n",
    "COUNT_GROUPS = 50 # обработаем столько сообществ\n",
    "COUNT_MESSAGES_PER_GROUP = 100 # в каждом сообществе, со стены возьмем столько сообщений"
   ]
  },
  {
   "cell_type": "code",
   "execution_count": 50,
   "metadata": {},
   "outputs": [],
   "source": [
    "# получаем соединение, api\n",
    "vk_session = vk_api.VkApi(login, password)\n",
    "vk_session.auth(token_only=True)\n",
    "api = vk_session.get_api()"
   ]
  },
  {
   "cell_type": "code",
   "execution_count": null,
   "metadata": {},
   "outputs": [],
   "source": [
    "# константы и правила, которые используем при работе с файлами\n",
    "FOLDER_PREFIX = './files/' # folder, в которую складываем файлы\n",
    "FILE_EXTENSION = '.txt' # расширение для json-файлов\n",
    "\n",
    "def fileNameFunc(rawFileName):\n",
    "    return FOLDER_PREFIX + rawFileName + FILE_EXTENSION"
   ]
  },
  {
   "cell_type": "code",
   "execution_count": 130,
   "metadata": {},
   "outputs": [],
   "source": [
    "# Данные по сообществам - получаем по http\n",
    "def obtainGroups(api, keyword, count):\n",
    "    print(\"obtainGroups, keyword=\" + keyword + \", count=\" + str(count))\n",
    "    results = api.groups.search(q=keyword, count=count)\n",
    "    return results['items']"
   ]
  },
  {
   "cell_type": "code",
   "execution_count": 129,
   "metadata": {},
   "outputs": [],
   "source": [
    "# получить N записей со стены сообщества/пользователя\n",
    "def obtainWallItems(api, owner_id, count):\n",
    "    # protection: проверяем входные значения\n",
    "    if(count > 100): # todo: можно приделать scroll, то есть, разбить запрос на несколько, в каждом count не более 100\n",
    "        raise AssertionError(\"count должен быть <= 100, но передали:\" + str(count))\n",
    "\n",
    "    # основная часть\n",
    "    results = api.wall.get(owner_id=owner_id, filter = 'owner', count = count, offset=0)\n",
    "    print(\"obtainWallItems, owner_id=\" + str(owner_id) + \"retrieve \" + str(len(results['items'])) + \", of total \" + str(results['count']))\n",
    "    return results['items']\n",
    "\n",
    "# для напоминания - сохраним в комментариях альтернативный метод vk_api для получения сообщений со стены сообщества\n",
    "#tools = vk_api.VkTools(vk_session)\n",
    "#wall = tools.get_all('wall.get', 10, {'owner_id': -92718200, 'filter':'owner'})"
   ]
  },
  {
   "cell_type": "code",
   "execution_count": 135,
   "metadata": {},
   "outputs": [],
   "source": [
    "# записываем json в файл\n",
    "def writeJsonToFile(fileName, jsonData):\n",
    "    with io.open(fileName, 'w', encoding='utf-8') as f:\n",
    "        f.write(json.dumps(jsonData, ensure_ascii=False, sort_keys=True, indent=4))"
   ]
  },
  {
   "cell_type": "code",
   "execution_count": 146,
   "metadata": {},
   "outputs": [
    {
     "name": "stdout",
     "output_type": "stream",
     "text": [
      "obtainGroups, keyword=bitcoin, count=2\n"
     ]
    }
   ],
   "source": [
    "groups = obtainGroups(api, 'bitcoin', COUNT_GROUPS)\n",
    "writeJsonToFile(fileNameFunc('groups'), groups)"
   ]
  },
  {
   "cell_type": "code",
   "execution_count": 147,
   "metadata": {},
   "outputs": [
    {
     "name": "stdout",
     "output_type": "stream",
     "text": [
      "total groups для обработки: 2\n"
     ]
    }
   ],
   "source": [
    "# отфильтруем сообщества - нам нужны только те, у которых есть доступ к сообщениям на стене\n",
    "group_ids = []\n",
    "for group in groups:\n",
    "    if(group['is_closed'] == 0):\n",
    "        group_ids.append(group['id'])\n",
    "    else:\n",
    "        print('skip group:' + str(group['id']))\n",
    "print('total groups для обработки: ' + str(len(group_ids)))\n",
    "# obtainWallItems(api=vk_session.get_api(), count=1, owner_id=-92718200)"
   ]
  },
  {
   "cell_type": "code",
   "execution_count": 148,
   "metadata": {},
   "outputs": [
    {
     "name": "stdout",
     "output_type": "stream",
     "text": [
      "obtainWallItems, owner_id=-46371384retrieve 100, of total 48227\n",
      "obtainWallItems, owner_id=-92718200retrieve 100, of total 10600\n"
     ]
    }
   ],
   "source": [
    "# для каждого сообщества - получаем сообщения со стены и записваем в соотв.файл\n",
    "counter = 1 # счетчик, используем в названии файлов\n",
    "for group_id in group_ids:\n",
    "    vk_id = -1 * group_id # vk_api.wall.get по наличию знака минус - определяет, что требуется именно сообщество\n",
    "    items = obtainWallItems(api=api, owner_id=vk_id, count=COUNT_MESSAGES_PER_GROUP)\n",
    "    rawFileName = str(counter) + \"_\" + str(group_id)\n",
    "    writeJsonToFile(fileNameFunc(rawFileName), items)\n",
    "    counter = counter + 1"
   ]
  },
  {
   "cell_type": "code",
   "execution_count": null,
   "metadata": {},
   "outputs": [],
   "source": []
  },
  {
   "cell_type": "code",
   "execution_count": null,
   "metadata": {},
   "outputs": [],
   "source": []
  }
 ],
 "metadata": {
  "kernelspec": {
   "display_name": "Python 3",
   "language": "python",
   "name": "python3"
  },
  "language_info": {
   "codemirror_mode": {
    "name": "ipython",
    "version": 3
   },
   "file_extension": ".py",
   "mimetype": "text/x-python",
   "name": "python",
   "nbconvert_exporter": "python",
   "pygments_lexer": "ipython3",
   "version": "3.7.1"
  }
 },
 "nbformat": 4,
 "nbformat_minor": 2
}
