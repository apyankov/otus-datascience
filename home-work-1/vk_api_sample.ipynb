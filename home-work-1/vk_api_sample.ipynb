{
 "cells": [
  {
   "cell_type": "code",
   "execution_count": 74,
   "metadata": {},
   "outputs": [],
   "source": [
    "import vk_api\n",
    "import io\n",
    "import json, codecs"
   ]
  },
  {
   "cell_type": "code",
   "execution_count": 49,
   "metadata": {},
   "outputs": [],
   "source": [
    "# credentials: нужно указать логин/пароль к vk.com\n",
    "login = '+71231234567'\n",
    "password = ''"
   ]
  },
  {
   "cell_type": "code",
   "execution_count": null,
   "metadata": {},
   "outputs": [],
   "source": [
    "# используем:\n",
    "#  wrapper-lib vk_api: https://github.com/python273/vk_api\n",
    "#  описание Api от vk: https://vk.com/dev/groups.search?params[q]=bitcoin&params[future]=0&params[market]=0&params[offset]=3&params[count]=3&params[v]=5.92"
   ]
  },
  {
   "cell_type": "code",
   "execution_count": 50,
   "metadata": {},
   "outputs": [],
   "source": [
    "# получаем соединение, api\n",
    "vk_session = vk_api.VkApi(login, password)\n",
    "vk_session.auth(token_only=True)\n",
    "api = vk_session.get_api()"
   ]
  },
  {
   "cell_type": "code",
   "execution_count": 56,
   "metadata": {},
   "outputs": [],
   "source": [
    "def obtainGroups(api, keyword, count = 100):\n",
    "    print(\"obtainGroups, keyword=\" + keyword)\n",
    "    results = api.groups.search(q=keyword, count=count)\n",
    "    return results['items']"
   ]
  },
  {
   "cell_type": "code",
   "execution_count": 52,
   "metadata": {},
   "outputs": [],
   "source": [
    "# получить N записей со стены сообщества/пользователя\n",
    "def obtainWallItems(api, owner_id, count = 100):\n",
    "    print(\"obtainWallItems, owner_id=\" + str(owner_id))\n",
    "    results = api.wall.get(owner_id=owner_id, filter = 'owner', count = count, offset=0)\n",
    "    print(\"retrieve \" + str(len(results['items'])) + \", of total \" + str(results['count']))\n",
    "    return results['items']"
   ]
  },
  {
   "cell_type": "code",
   "execution_count": 72,
   "metadata": {},
   "outputs": [],
   "source": [
    "def writeJsonToFile(fileName, jsonData):\n",
    "    print(json.dumps(jsonData))\n",
    "    with open(fileName, 'w') as outfile:\n",
    "        json.dump(jsonData, outfile, ensure_ascii=False, sort_keys=True, indent=4)"
   ]
  },
  {
   "cell_type": "code",
   "execution_count": 77,
   "metadata": {},
   "outputs": [],
   "source": [
    "def writeJsonToFile2(fileName, jsonData):\n",
    "    print(json.dumps(jsonData))\n",
    "    with io.open('data.txt', 'w', encoding='utf-8') as f:\n",
    "        f.write(json.dumps(jsonData, ensure_ascii=False))"
   ]
  },
  {
   "cell_type": "code",
   "execution_count": 78,
   "metadata": {},
   "outputs": [
    {
     "name": "stdout",
     "output_type": "stream",
     "text": [
      "<class 'dict'>\n",
      "{\"count\": 2869, \"items\": [{\"id\": 46371384, \"name\": \"\\u0410\\u0411 | \\u041a\\u0440\\u0438\\u043f\\u0442\\u043e\\u0432\\u0430\\u043b\\u044e\\u0442\\u0430, \\u0431\\u043b\\u043e\\u043a\\u0447\\u0435\\u0439\\u043d, \\u0411\\u0438\\u0442\\u043a\\u043e\\u0438\\u043d Bitcoin BTC\", \"screen_name\": \"business.place\", \"is_closed\": 0, \"type\": \"page\", \"is_admin\": 0, \"is_member\": 0, \"is_advertiser\": 0, \"photo_50\": \"https://sun1-6.userapi.com/Yjaywg-VZOWKoid2XJuzg6Ue4h933zOW8RJFZA/hRUN7N78-00.jpg?ava=1\", \"photo_100\": \"https://sun1-11.userapi.com/ZtDZPaxDYxXrfDIg5kEqLCOn5D1jnlGS9TTMEA/8YUEqM2dEVk.jpg?ava=1\", \"photo_200\": \"https://sun1-12.userapi.com/sTPmZ80mPz2TqbrqpQD5e1SqvqL3fBXnmIku8Q/1lXPP1acyBQ.jpg?ava=1\"}, {\"id\": 92718200, \"name\": \"Brain: \\u043a\\u0440\\u0438\\u043f\\u0442\\u043e\\u0432\\u0430\\u043b\\u044e\\u0442\\u0430 \\u0444\\u0438\\u043d\\u0430\\u043d\\u0441\\u044b \\u0431\\u0438\\u0442\\u043a\\u043e\\u0438\\u043d Bitcoin BTC\", \"screen_name\": \"smart_brain7\", \"is_closed\": 0, \"type\": \"page\", \"is_admin\": 0, \"is_member\": 0, \"is_advertiser\": 0, \"photo_50\": \"https://sun1-1.userapi.com/c627920/v627920444/b751/AzyxT3syxrY.jpg?ava=1\", \"photo_100\": \"https://sun1-20.userapi.com/c627920/v627920444/b750/3gCKVnF3YfI.jpg?ava=1\", \"photo_200\": \"https://sun1-6.userapi.com/c627920/v627920444/b74f/z3wtAmEDthQ.jpg?ava=1\"}]}\n"
     ]
    }
   ],
   "source": [
    "#print(groups)\n",
    "print(type(groups))\n",
    "writeJsonToFile2('some_file.txt', groups)"
   ]
  },
  {
   "cell_type": "code",
   "execution_count": 55,
   "metadata": {},
   "outputs": [
    {
     "name": "stdout",
     "output_type": "stream",
     "text": [
      "obtainGroups, keyword=bitcoin\n",
      "{'count': 2869, 'items': [{'id': 46371384, 'name': 'АБ | Криптовалюта, блокчейн, Биткоин Bitcoin BTC', 'screen_name': 'business.place', 'is_closed': 0, 'type': 'page', 'is_admin': 0, 'is_member': 0, 'is_advertiser': 0, 'photo_50': 'https://sun1-6.userapi.com/Yjaywg-VZOWKoid2XJuzg6Ue4h933zOW8RJFZA/hRUN7N78-00.jpg?ava=1', 'photo_100': 'https://sun1-11.userapi.com/ZtDZPaxDYxXrfDIg5kEqLCOn5D1jnlGS9TTMEA/8YUEqM2dEVk.jpg?ava=1', 'photo_200': 'https://sun1-12.userapi.com/sTPmZ80mPz2TqbrqpQD5e1SqvqL3fBXnmIku8Q/1lXPP1acyBQ.jpg?ava=1'}, {'id': 92718200, 'name': 'Brain: криптовалюта финансы биткоин Bitcoin BTC', 'screen_name': 'smart_brain7', 'is_closed': 0, 'type': 'page', 'is_admin': 0, 'is_member': 0, 'is_advertiser': 0, 'photo_50': 'https://sun1-1.userapi.com/c627920/v627920444/b751/AzyxT3syxrY.jpg?ava=1', 'photo_100': 'https://sun1-20.userapi.com/c627920/v627920444/b750/3gCKVnF3YfI.jpg?ava=1', 'photo_200': 'https://sun1-6.userapi.com/c627920/v627920444/b74f/z3wtAmEDthQ.jpg?ava=1'}]}\n"
     ]
    }
   ],
   "source": [
    "groups = obtainGroups(api=api, keyword='bitcoin', count=2)\n",
    "print(groups)"
   ]
  },
  {
   "cell_type": "code",
   "execution_count": 41,
   "metadata": {},
   "outputs": [
    {
     "name": "stdout",
     "output_type": "stream",
     "text": [
      "obtainWallItems, owner_id=-92718200\n",
      "retrieve 1, of total 10553\n"
     ]
    },
    {
     "data": {
      "text/plain": [
       "[{'id': 54244,\n",
       "  'from_id': -92718200,\n",
       "  'owner_id': -92718200,\n",
       "  'date': 1549807801,\n",
       "  'marked_as_ads': 0,\n",
       "  'post_type': 'post',\n",
       "  'text': 'Экспресс доставка в действии:)😂',\n",
       "  'attachments': [{'type': 'doc',\n",
       "    'doc': {'id': 490412771,\n",
       "     'owner_id': 374134445,\n",
       "     'title': 'Большой прикол',\n",
       "     'size': 6596066,\n",
       "     'ext': 'gif',\n",
       "     'url': 'https://vk.com/doc374134445_490412771?hash=73e3fdd6ec5b388e7f&dl=GY2TCNZUGMYTI:1549811031:029939ff244955263f&api=1&no_preview=1',\n",
       "     'date': 1549659202,\n",
       "     'type': 3,\n",
       "     'preview': {'photo': {'sizes': [{'src': 'https://pp.userapi.com/c848428/u114165366/d5/-3/m_e4d31e93bf.jpg',\n",
       "         'width': 130,\n",
       "         'height': 100,\n",
       "         'type': 'm'},\n",
       "        {'src': 'https://pp.userapi.com/c848428/u114165366/d5/-3/s_e4d31e93bf.jpg',\n",
       "         'width': 100,\n",
       "         'height': 75,\n",
       "         'type': 's'},\n",
       "        {'src': 'https://pp.userapi.com/c848428/u114165366/d5/-3/o_e4d31e93bf.jpg',\n",
       "         'width': 252,\n",
       "         'height': 421,\n",
       "         'type': 'o'}]},\n",
       "      'video': {'src': 'https://vk.com/doc374134445_490412771?hash=73e3fdd6ec5b388e7f&dl=GY2TCNZUGMYTI:1549811031:029939ff244955263f&api=1&mp4=1',\n",
       "       'width': 252,\n",
       "       'height': 420,\n",
       "       'file_size': 1080569}},\n",
       "     'access_key': '795deae62bfeb162cf'}}],\n",
       "  'post_source': {'type': 'vk'},\n",
       "  'comments': {'count': 0, 'can_post': 1, 'groups_can_post': True},\n",
       "  'likes': {'count': 9, 'user_likes': 0, 'can_like': 1, 'can_publish': 1},\n",
       "  'reposts': {'count': 1, 'user_reposted': 0},\n",
       "  'views': {'count': 1209},\n",
       "  'is_favorite': False}]"
      ]
     },
     "execution_count": 41,
     "metadata": {},
     "output_type": "execute_result"
    }
   ],
   "source": [
    "obtainWallItems(api=vk_session.get_api(), count=1, owner_id=-92718200)"
   ]
  },
  {
   "cell_type": "code",
   "execution_count": null,
   "metadata": {},
   "outputs": [],
   "source": []
  },
  {
   "cell_type": "code",
   "execution_count": null,
   "metadata": {},
   "outputs": [],
   "source": []
  },
  {
   "cell_type": "code",
   "execution_count": null,
   "metadata": {},
   "outputs": [],
   "source": []
  },
  {
   "cell_type": "code",
   "execution_count": 2,
   "metadata": {},
   "outputs": [],
   "source": [
    "#vk_session = vk_api.VkApi('+79055057083', 'Der1PaRol')\n",
    "#vk_session.auth()\n",
    "#vk = vk_session.get_api()"
   ]
  },
  {
   "cell_type": "code",
   "execution_count": 14,
   "metadata": {},
   "outputs": [
    {
     "name": "stdout",
     "output_type": "stream",
     "text": [
      "Posts count: 10551\n",
      "First post: {'id': 54241, 'from_id': -92718200, 'owner_id': -92718200, 'date': 1549800600, 'marked_as_ads': 0, 'post_type': 'post', 'text': 'Ну как готовы?', 'attachments': [{'type': 'link', 'link': {'url': 'https://m.vk.com/@-92718200-analitik-fundstrat-predskazyvaet-testirovanie-kriptorynkom-n', 'title': 'Аналитик Fundstrat предсказывает тестирование крипторынком новых минимумов', 'caption': 'm.vk.com', 'description': 'Статья', 'photo': {'id': 456244568, 'album_id': -66, 'owner_id': -92718200, 'user_id': 100, 'sizes': [{'type': 's', 'url': 'https://pp.userapi.com/c850136/v850136251/d5539/ERwoQFd8wnA.jpg', 'width': 75, 'height': 39}, {'type': 'm', 'url': 'https://pp.userapi.com/c850136/v850136251/d553a/KNTNVLDGGO0.jpg', 'width': 130, 'height': 68}, {'type': 'x', 'url': 'https://pp.userapi.com/c850136/v850136251/d553b/q1OSAEejiNM.jpg', 'width': 604, 'height': 318}, {'type': 'y', 'url': 'https://pp.userapi.com/c850136/v850136251/d553c/dbQymREhCkU.jpg', 'width': 640, 'height': 337}, {'type': 'o', 'url': 'https://pp.userapi.com/c850136/v850136251/d553d/qvWESgFxZ5c.jpg', 'width': 130, 'height': 87}, {'type': 'p', 'url': 'https://pp.userapi.com/c850136/v850136251/d553e/-t-mjhC6leY.jpg', 'width': 200, 'height': 133}, {'type': 'q', 'url': 'https://pp.userapi.com/c850136/v850136251/d553f/z8Ak7ni3e-k.jpg', 'width': 320, 'height': 213}, {'type': 'r', 'url': 'https://pp.userapi.com/c850136/v850136251/d5540/1LqwoXOKSpg.jpg', 'width': 510, 'height': 337}], 'text': '', 'date': 1549731463}, 'button': {'title': 'Читать', 'action': {'type': 'open_url', 'url': 'https://m.vk.com/@-92718200-analitik-fundstrat-predskazyvaet-testirovanie-kriptorynkom-n'}}}}], 'post_source': {'type': 'vk'}, 'comments': {'count': 0, 'can_post': 1, 'groups_can_post': True}, 'likes': {'count': 0, 'user_likes': 0, 'can_like': 1, 'can_publish': 1}, 'reposts': {'count': 0, 'user_reposted': 0}, 'views': {'count': 395}, 'is_favorite': False} \n",
      "\n",
      "Last post: {'id': 2, 'from_id': -92718200, 'owner_id': -92718200, 'date': 1429859116, 'marked_as_ads': 0, 'post_type': 'post', 'text': '10 безумных гипотетических вопросов и ответов к ним ✔', 'attachments': [{'type': 'photo', 'photo': {'id': 363735695, 'album_id': -7, 'owner_id': -92718200, 'user_id': 100, 'sizes': [{'type': 's', 'url': 'https://pp.userapi.com/noooE68wip0FFIVzOhR26xSnPJou87D-f-K3-Q/J4inOaxQEkQ.jpg', 'width': 53, 'height': 75}, {'type': 'm', 'url': 'https://pp.userapi.com/K34pujvYaVvfwi9hmOUcs76CaDhLzcihfHnQHw/IUJ7t5pqeR0.jpg', 'width': 92, 'height': 130}, {'type': 'x', 'url': 'https://pp.userapi.com/klP4yMhbv-d1Ml6MCJ5_vKMDb-hlUPZoBoFsdQ/M9bJjI1NwRE.jpg', 'width': 429, 'height': 604}, {'type': 'o', 'url': 'https://pp.userapi.com/sWEM-uqLkCIkgwUwp728GL6xECRg2NAKDEFITg/kAFg-klSFV4.jpg', 'width': 130, 'height': 183}, {'type': 'p', 'url': 'https://pp.userapi.com/im3MYyH-5SJy18qpE0Mw486BGuelIfvOc_-Nhg/asBpXMhnD6E.jpg', 'width': 200, 'height': 282}, {'type': 'q', 'url': 'https://pp.userapi.com/A15jmwyP8aHHQzS1FJPBrmsdSp0bG7ONOQTU3A/phApg6TIoGE.jpg', 'width': 320, 'height': 451}, {'type': 'r', 'url': 'https://pp.userapi.com/zdLY7AyNPcKhIRjfQUlLCeKLGycM-LirVWmqQQ/zljwjuyreWs.jpg', 'width': 429, 'height': 604}], 'text': '', 'date': 1429859115, 'access_key': '8ed5cf081bbfdd2a18'}}, {'type': 'photo', 'photo': {'id': 363735696, 'album_id': -7, 'owner_id': -92718200, 'user_id': 100, 'sizes': [{'type': 's', 'url': 'https://pp.userapi.com/Ekc70zD0NjWbONxtDMpeoqoxzdiTOy90fm62XA/2Kt9NlQa8Nc.jpg', 'width': 70, 'height': 75}, {'type': 'm', 'url': 'https://pp.userapi.com/6Ss2YhKceW-UoDvGkGtUdXuSC-MNOFmj6jV5lQ/TZYO2ohQH0E.jpg', 'width': 122, 'height': 130}, {'type': 'x', 'url': 'https://pp.userapi.com/UtgHifcwyNXqNvm5nq9d0DvJ8ZzJAgsZXfXLeQ/qvdFw4eG5nA.jpg', 'width': 565, 'height': 604}, {'type': 'o', 'url': 'https://pp.userapi.com/_MCbVO_3BVvvAd7wgB9tM6ftBhliGgl9b9DMWg/AjXF79erM7Q.jpg', 'width': 130, 'height': 139}, {'type': 'p', 'url': 'https://pp.userapi.com/oXM-rPQFn1Ptbwj9gbS4WForI7l4Ojaxeaq8nQ/oL9B1VViJaI.jpg', 'width': 200, 'height': 214}, {'type': 'q', 'url': 'https://pp.userapi.com/5-RPyo5hGJjU06H5rAgxmJgSMO6UFLcCqmO-iw/yOeLFZAfBLc.jpg', 'width': 320, 'height': 342}, {'type': 'r', 'url': 'https://pp.userapi.com/oEWilfltzTH_mfcGIyiYMrNkuW9C5rR5iJYkTQ/GGraoE2RmoI.jpg', 'width': 510, 'height': 545}], 'text': '', 'date': 1429859115, 'access_key': 'd73699badfc476e51b'}}, {'type': 'photo', 'photo': {'id': 363735697, 'album_id': -7, 'owner_id': -92718200, 'user_id': 100, 'sizes': [{'type': 's', 'url': 'https://pp.userapi.com/jA71mXjJzSvWVvup1kJW3Q5ci-pfWND3IjeT_A/kkoe8IzMfeg.jpg', 'width': 60, 'height': 75}, {'type': 'm', 'url': 'https://pp.userapi.com/bNq0K1ngZ7Ggxy5ldNKCOG7IIQl7ClmW3ht-aA/jOPViHiixyA.jpg', 'width': 104, 'height': 130}, {'type': 'x', 'url': 'https://pp.userapi.com/ohZhKLH_eyUxQAz_qMNJfs_uquQ131xRhWV1mQ/xFDNti4tOQs.jpg', 'width': 485, 'height': 604}, {'type': 'o', 'url': 'https://pp.userapi.com/ZKEN6jc4DEyg_cdM9xXMWekxG7y4_AqPjypelQ/ylVXvK6urIQ.jpg', 'width': 130, 'height': 162}, {'type': 'p', 'url': 'https://pp.userapi.com/ouGplBXlb-gOPfE1L4dLTxySpLYicAj9oP3ssA/KD1Wy3ZLSO8.jpg', 'width': 200, 'height': 249}, {'type': 'q', 'url': 'https://pp.userapi.com/Yj1xFXhhcZap_RVMjUuygPUNSjqhyfQAAm2x5w/taT6VOJuJF0.jpg', 'width': 320, 'height': 399}, {'type': 'r', 'url': 'https://pp.userapi.com/dM4I1A9oRm-aqnMZ3KL-Qu8ivJlegiCXw_JcMA/5owmrssw2p4.jpg', 'width': 485, 'height': 604}], 'text': '', 'date': 1429859115, 'access_key': 'f035226132deb5f98e'}}, {'type': 'photo', 'photo': {'id': 363735698, 'album_id': -7, 'owner_id': -92718200, 'user_id': 100, 'sizes': [{'type': 's', 'url': 'https://pp.userapi.com/-Aj6BDMbskJ_mZt3nF63OXGHCGJrIBkdlb1HCA/gyts0DL2Y3g.jpg', 'width': 65, 'height': 75}, {'type': 'm', 'url': 'https://pp.userapi.com/llfs_2mt6SuQH75fSG-szjUy_qaw5iEzNMxUPA/w7UfnhL1-lA.jpg', 'width': 112, 'height': 130}, {'type': 'x', 'url': 'https://pp.userapi.com/OL2eU2xMtOL-pIg5gOsMwvwCL_DKekk04byD4Q/8CVRB5C0lQI.jpg', 'width': 521, 'height': 604}, {'type': 'o', 'url': 'https://pp.userapi.com/Guy8pPr-je8NIykhC2rOOOSJMh_c6xnt6EQitA/VcziK1UqeyY.jpg', 'width': 130, 'height': 151}, {'type': 'p', 'url': 'https://pp.userapi.com/pICT1LAO8vXbFt4TdUvwpl4OKpABqWYdujjzYw/Ws1PR_KZOyo.jpg', 'width': 200, 'height': 232}, {'type': 'q', 'url': 'https://pp.userapi.com/u5HfasKCxZrnziDwSZEEkJYpnn7m7t_Es0-5RA/FXF_NrAFZiU.jpg', 'width': 320, 'height': 371}, {'type': 'r', 'url': 'https://pp.userapi.com/XTkmPMAEYwWm8Zowyl7AM0dvnnhYhNWx7mhpgw/p8npIyKEVFY.jpg', 'width': 510, 'height': 591}], 'text': '', 'date': 1429859115, 'access_key': 'f4203fcf1f7cb010cf'}}, {'type': 'photo', 'photo': {'id': 363735700, 'album_id': -7, 'owner_id': -92718200, 'user_id': 100, 'sizes': [{'type': 's', 'url': 'https://pp.userapi.com/-Aj6BDMbskJ_mZt3nF63OXGHCGJrIBkdlb1HCA/gyts0DL2Y3g.jpg', 'width': 65, 'height': 75}, {'type': 'm', 'url': 'https://pp.userapi.com/llfs_2mt6SuQH75fSG-szjUy_qaw5iEzNMxUPA/w7UfnhL1-lA.jpg', 'width': 112, 'height': 130}, {'type': 'x', 'url': 'https://pp.userapi.com/OL2eU2xMtOL-pIg5gOsMwvwCL_DKekk04byD4Q/8CVRB5C0lQI.jpg', 'width': 521, 'height': 604}, {'type': 'o', 'url': 'https://pp.userapi.com/Guy8pPr-je8NIykhC2rOOOSJMh_c6xnt6EQitA/VcziK1UqeyY.jpg', 'width': 130, 'height': 151}, {'type': 'p', 'url': 'https://pp.userapi.com/pICT1LAO8vXbFt4TdUvwpl4OKpABqWYdujjzYw/Ws1PR_KZOyo.jpg', 'width': 200, 'height': 232}, {'type': 'q', 'url': 'https://pp.userapi.com/u5HfasKCxZrnziDwSZEEkJYpnn7m7t_Es0-5RA/FXF_NrAFZiU.jpg', 'width': 320, 'height': 371}, {'type': 'r', 'url': 'https://pp.userapi.com/XTkmPMAEYwWm8Zowyl7AM0dvnnhYhNWx7mhpgw/p8npIyKEVFY.jpg', 'width': 510, 'height': 591}], 'text': '', 'date': 1429859115, 'access_key': '8cb3af4ee05aaefe32'}}, {'type': 'photo', 'photo': {'id': 363735701, 'album_id': -7, 'owner_id': -92718200, 'user_id': 100, 'sizes': [{'type': 's', 'url': 'https://pp.userapi.com/bZ5exwBYPPBit0Wg-NGvbBBs4vdvFsMqkt2eUA/AjYq3BjYoa4.jpg', 'width': 65, 'height': 75}, {'type': 'm', 'url': 'https://pp.userapi.com/SSobcURN_T4ExpbbCUmj8E_7ijlrLJbG3e0vFA/xlD9djdU21g.jpg', 'width': 113, 'height': 130}, {'type': 'x', 'url': 'https://pp.userapi.com/pSoaVcaipL3Qkxhdy9Lfy283eT_4z_CNrusDUQ/k4rn4Ttu1Yg.jpg', 'width': 526, 'height': 604}, {'type': 'o', 'url': 'https://pp.userapi.com/nxvxtUg6bGU4PPCosXhACNE1hCQV-sFxsEEuJg/yqpEykMw7xE.jpg', 'width': 130, 'height': 149}, {'type': 'p', 'url': 'https://pp.userapi.com/WAGQFspLAm4bRKO56bFyzB4kEVCypF4mLvIfkA/JF2NTZpt1T8.jpg', 'width': 200, 'height': 230}, {'type': 'q', 'url': 'https://pp.userapi.com/tGU1C9Mwhr-y3wQluGCuHxVS0wLYVbmaeKJV6Q/4TPf8lsJbcQ.jpg', 'width': 320, 'height': 367}, {'type': 'r', 'url': 'https://pp.userapi.com/0ezVZ8y19KFjWMKg9UYLUC3_7keO5qqldqJ7lQ/JqJJiMef7ys.jpg', 'width': 510, 'height': 586}], 'text': '', 'date': 1429859115, 'access_key': 'dd0549be0cf4bfd6d7'}}, {'type': 'photo', 'photo': {'id': 363735702, 'album_id': -7, 'owner_id': -92718200, 'user_id': 100, 'sizes': [{'type': 's', 'url': 'https://pp.userapi.com/mIQUzjR4yQ-fh4YSJiv215TzwHDrQSynH95Oiw/q1JNroK4NzM.jpg', 'width': 62, 'height': 75}, {'type': 'm', 'url': 'https://pp.userapi.com/pMiolqMCYdl0rCz8b5YxW8-TnW0zSwms0IOOZQ/0TZ7WAK4uKU.jpg', 'width': 107, 'height': 130}, {'type': 'x', 'url': 'https://pp.userapi.com/-STA_BUYS6y4Bus2e3HGVlQuS1ABton6CqfTHg/FCcoy7VGNfA.jpg', 'width': 499, 'height': 604}, {'type': 'o', 'url': 'https://pp.userapi.com/v8SDakT82W_JbIunbEw9RGmxYEfJ9mZ3H5xsXA/tA0ImWboGpQ.jpg', 'width': 130, 'height': 157}, {'type': 'p', 'url': 'https://pp.userapi.com/Ei6lvmggNagncUwpFfZBD_QE4Z6Tw5Y_WhU_nw/XdZJoqmLn5M.jpg', 'width': 200, 'height': 242}, {'type': 'q', 'url': 'https://pp.userapi.com/ao-5tQP5prOwayjvxaDxBm1DwYiao7uykVeTOQ/faXM7TxQMbE.jpg', 'width': 320, 'height': 387}, {'type': 'r', 'url': 'https://pp.userapi.com/NToiRF6E8HrgD0nfeyfRR6s9N1xG0efKbO6FKQ/mHgRwf3ZRLA.jpg', 'width': 499, 'height': 604}], 'text': '', 'date': 1429859115, 'access_key': '10b355df1b93257985'}}, {'type': 'photo', 'photo': {'id': 363735703, 'album_id': -7, 'owner_id': -92718200, 'user_id': 100, 'sizes': [{'type': 's', 'url': 'https://pp.userapi.com/XBRRrIc4BtknZACFhDuacJgXFnvWDRSH-bDyIQ/GgMMVyGg0nc.jpg', 'width': 70, 'height': 75}, {'type': 'm', 'url': 'https://pp.userapi.com/lYwEQVrOdx5GiL2VsmB9dY9GzpwuW_klzdVToA/ZXtYHlBN3y0.jpg', 'width': 122, 'height': 130}, {'type': 'x', 'url': 'https://pp.userapi.com/SF96wP6ufRRVj178MKLCWFLwCPUDl4pI4TAW9Q/7fC_Y00cqck.jpg', 'width': 565, 'height': 604}, {'type': 'o', 'url': 'https://pp.userapi.com/qOUHSDZ0tRgTWUvSoUdoaJjZPgWNl2ibtvMnmA/MzN7C3TXTuk.jpg', 'width': 130, 'height': 139}, {'type': 'p', 'url': 'https://pp.userapi.com/A4LqjSbhprGCkd4X13XJK8PmR0rJA3VCmGxglw/8h16deFRP34.jpg', 'width': 200, 'height': 214}, {'type': 'q', 'url': 'https://pp.userapi.com/o7hrkk9QocspUmvbj7IztdVzT3pPelT3Zd_XBA/oVoilJCZq4M.jpg', 'width': 320, 'height': 342}, {'type': 'r', 'url': 'https://pp.userapi.com/GixMiaf4lUQAKBxsGLR2JKrXcb0j_qk1QtPv-Q/rQOPE1atyJo.jpg', 'width': 510, 'height': 545}], 'text': '', 'date': 1429859115, 'access_key': '318e4c318cfc4dcf39'}}, {'type': 'photo', 'photo': {'id': 363735704, 'album_id': -7, 'owner_id': -92718200, 'user_id': 100, 'sizes': [{'type': 's', 'url': 'https://pp.userapi.com/x7T1IT9UQmLWz88gHSB5d-qc5ZkkAnfIcbSRhQ/O8LkEjgklx0.jpg', 'width': 55, 'height': 75}, {'type': 'm', 'url': 'https://pp.userapi.com/Dh9C_QZYCWFO8PwRXKYgchY-SeetqePqckE7Ww/YP1zuuG4sUw.jpg', 'width': 95, 'height': 130}, {'type': 'x', 'url': 'https://pp.userapi.com/kYUnNaqK848HOkaEzZcVFDkBJkvjhQdBxiGajQ/H5slwPm6iDg.jpg', 'width': 440, 'height': 604}, {'type': 'o', 'url': 'https://pp.userapi.com/YUrqI8DHp3zTepZq2x9K51BbAqEO40-mEM5pRg/oduhPEmvNaE.jpg', 'width': 130, 'height': 178}, {'type': 'p', 'url': 'https://pp.userapi.com/o_e39rYz6wJKIHxltefnsVCq8VH69hHbL8P6lQ/mK1da8y6GNM.jpg', 'width': 200, 'height': 275}, {'type': 'q', 'url': 'https://pp.userapi.com/X29nGh2MJQaELEzNDzzC-4O8kRHavFD6HaqD4A/JFdTrfgFBJA.jpg', 'width': 320, 'height': 439}, {'type': 'r', 'url': 'https://pp.userapi.com/_9TD3GxpgTtXxzdiVZx9jXfUUMsdw6_2EtJpFg/yFXjLsKDjHs.jpg', 'width': 440, 'height': 604}], 'text': '', 'date': 1429859115, 'access_key': 'e83a2e3c162206ace1'}}, {'type': 'photo', 'photo': {'id': 363735705, 'album_id': -7, 'owner_id': -92718200, 'user_id': 100, 'sizes': [{'type': 's', 'url': 'https://pp.userapi.com/y6AV7hsDSlmBKYe4OndLfY_IP8qSbK1dcC907w/19xy5GMoVKM.jpg', 'width': 75, 'height': 59}, {'type': 'm', 'url': 'https://pp.userapi.com/-lv3BxXvj1luoBXwC448FRdU_Te6n-8Or2z1Uw/OPhQu5cci2s.jpg', 'width': 130, 'height': 102}, {'type': 'x', 'url': 'https://pp.userapi.com/PXonWQuYnQaYsfUIj1eCDhQkF0V2QhL-EO9lUg/zPhOI_ugNkw.jpg', 'width': 600, 'height': 470}, {'type': 'o', 'url': 'https://pp.userapi.com/-lv3BxXvj1luoBXwC448FRdU_Te6n-8Or2z1Uw/OPhQu5cci2s.jpg', 'width': 130, 'height': 102}, {'type': 'p', 'url': 'https://pp.userapi.com/7E68_tAVJpQzzzG-abV-ha6z7USEjbBhA3GKVg/hzJQNZtAtLU.jpg', 'width': 200, 'height': 157}, {'type': 'q', 'url': 'https://pp.userapi.com/H8PVwJ6TkU4Slg-osocphbvuMsVBA307JuQ61A/IkKj_xOub1k.jpg', 'width': 320, 'height': 251}, {'type': 'r', 'url': 'https://pp.userapi.com/SQXI01krOm1HF3vubNFONW-ucaxGSRUcSNGltw/kwvwAHQWSnc.jpg', 'width': 510, 'height': 400}], 'text': '', 'date': 1429859115, 'access_key': 'c0ab0d7fbc3915bca8'}}], 'post_source': {'type': 'api'}, 'comments': {'count': 0, 'can_post': 1, 'groups_can_post': True}, 'likes': {'count': 10, 'user_likes': 0, 'can_like': 1, 'can_publish': 1}, 'reposts': {'count': 2, 'user_reposted': 0}, 'is_favorite': False}\n"
     ]
    }
   ],
   "source": [
    "vk_session = vk_api.VkApi(login, password)\n",
    "vk_session.auth(token_only=True)\n",
    "tools = vk_api.VkTools(vk_session)\n",
    "wall = tools.get_all('wall.get', 10, {'owner_id': -92718200, 'filter':'owner'})\n",
    "print('Posts count:', wall['count'])\n",
    "\n",
    "if wall['count']:\n",
    "    print('First post:', wall['items'][0], '\\n')\n",
    "    \n",
    "if wall['count'] > 1:\n",
    "    print('Last post:', wall['items'][-1])"
   ]
  },
  {
   "cell_type": "code",
   "execution_count": 31,
   "metadata": {},
   "outputs": [
    {
     "name": "stdout",
     "output_type": "stream",
     "text": [
      "Posts count: 10551\n",
      "result.size: 100\n",
      "First post: {'id': 54241, 'from_id': -92718200, 'owner_id': -92718200, 'date': 1549800600, 'marked_as_ads': 0, 'post_type': 'post', 'text': 'Ну как готовы?', 'attachments': [{'type': 'link', 'link': {'url': 'https://m.vk.com/@-92718200-analitik-fundstrat-predskazyvaet-testirovanie-kriptorynkom-n', 'title': 'Аналитик Fundstrat предсказывает тестирование крипторынком новых минимумов', 'caption': 'm.vk.com', 'description': 'Статья', 'photo': {'id': 456244568, 'album_id': -66, 'owner_id': -92718200, 'user_id': 100, 'sizes': [{'type': 's', 'url': 'https://pp.userapi.com/c850136/v850136251/d5539/ERwoQFd8wnA.jpg', 'width': 75, 'height': 39}, {'type': 'm', 'url': 'https://pp.userapi.com/c850136/v850136251/d553a/KNTNVLDGGO0.jpg', 'width': 130, 'height': 68}, {'type': 'x', 'url': 'https://pp.userapi.com/c850136/v850136251/d553b/q1OSAEejiNM.jpg', 'width': 604, 'height': 318}, {'type': 'y', 'url': 'https://pp.userapi.com/c850136/v850136251/d553c/dbQymREhCkU.jpg', 'width': 640, 'height': 337}, {'type': 'o', 'url': 'https://pp.userapi.com/c850136/v850136251/d553d/qvWESgFxZ5c.jpg', 'width': 130, 'height': 87}, {'type': 'p', 'url': 'https://pp.userapi.com/c850136/v850136251/d553e/-t-mjhC6leY.jpg', 'width': 200, 'height': 133}, {'type': 'q', 'url': 'https://pp.userapi.com/c850136/v850136251/d553f/z8Ak7ni3e-k.jpg', 'width': 320, 'height': 213}, {'type': 'r', 'url': 'https://pp.userapi.com/c850136/v850136251/d5540/1LqwoXOKSpg.jpg', 'width': 510, 'height': 337}], 'text': '', 'date': 1549731463}, 'button': {'title': 'Читать', 'action': {'type': 'open_url', 'url': 'https://m.vk.com/@-92718200-analitik-fundstrat-predskazyvaet-testirovanie-kriptorynkom-n'}}}}], 'post_source': {'type': 'vk'}, 'comments': {'count': 0, 'can_post': 1, 'groups_can_post': True}, 'likes': {'count': 0, 'user_likes': 0, 'can_like': 1, 'can_publish': 1}, 'reposts': {'count': 0, 'user_reposted': 0}, 'views': {'count': 593}, 'is_favorite': False} \n",
      "\n",
      "Last post: {'id': 53913, 'from_id': -92718200, 'owner_id': -92718200, 'date': 1549271402, 'marked_as_ads': 0, 'post_type': 'post', 'text': 'Пошутил на девушкой.Да уж будьте бдительны:)😂', 'attachments': [{'type': 'doc', 'doc': {'id': 490510767, 'owner_id': 131850775, 'title': 'vk.com_topvideopub_060518_Лютые азиатцкие приколы.gif', 'size': 10267204, 'ext': 'gif', 'url': 'https://vk.com/doc131850775_490510767?hash=52d67f8b460fbe5361&dl=GY2TCNZUGMYTI:1549802544:5ce3c0ea4b7acdb2ac&api=1&no_preview=1', 'date': 1549187425, 'type': 3, 'preview': {'photo': {'sizes': [{'src': 'https://pp.userapi.com/c848024/u223178744/d10/-3/m_f899d0e633.jpg', 'width': 130, 'height': 100, 'type': 'm'}, {'src': 'https://pp.userapi.com/c848024/u223178744/d10/-3/s_f899d0e633.jpg', 'width': 100, 'height': 75, 'type': 's'}, {'src': 'https://pp.userapi.com/c848024/u223178744/d10/-3/o_f899d0e633.jpg', 'width': 198, 'height': 350, 'type': 'o'}]}, 'video': {'src': 'https://vk.com/doc131850775_490510767?hash=52d67f8b460fbe5361&dl=GY2TCNZUGMYTI:1549802544:5ce3c0ea4b7acdb2ac&api=1&mp4=1', 'width': 198, 'height': 350, 'file_size': 587323}}, 'access_key': '7cb6eabe0068ba0e10'}}], 'post_source': {'type': 'vk'}, 'comments': {'count': 0, 'can_post': 1, 'groups_can_post': True}, 'likes': {'count': 30, 'user_likes': 0, 'can_like': 1, 'can_publish': 1}, 'reposts': {'count': 2, 'user_reposted': 0}, 'views': {'count': 3256}, 'is_favorite': False}\n"
     ]
    }
   ],
   "source": [
    "vk_session = vk_api.VkApi(login, password)\n",
    "vk_session.auth(token_only=True)\n",
    "#tools = vk_api.VkTools(vk_session)\n",
    "api = vk_session.get_api()\n",
    "wall = api.wall.get(owner_id=-92718200, filter = 'owner', count = 100, offset=0)\n",
    "#wall = tools.get_all('wall.get', 10, {'owner_id': -92718200, 'filter':'owner'})\n",
    "print('Posts count:', wall['count'])\n",
    "print('result.size:', len(wall['items']))\n",
    "\n",
    "if wall['count']:\n",
    "    print('First post:', wall['items'][0], '\\n')\n",
    "    \n",
    "if wall['count'] > 1:\n",
    "    print('Last post:', wall['items'][-1])"
   ]
  },
  {
   "cell_type": "code",
   "execution_count": 3,
   "metadata": {},
   "outputs": [
    {
     "name": "stdout",
     "output_type": "stream",
     "text": [
      "<vk_api.vk_api.VkApiMethod object at 0x000002BA09D18D30>\n"
     ]
    }
   ],
   "source": [
    "print(vk)"
   ]
  },
  {
   "cell_type": "code",
   "execution_count": null,
   "metadata": {},
   "outputs": [],
   "source": [
    "print(vk.wall.post(message='Hello world!'))"
   ]
  }
 ],
 "metadata": {
  "kernelspec": {
   "display_name": "Python 3",
   "language": "python",
   "name": "python3"
  },
  "language_info": {
   "codemirror_mode": {
    "name": "ipython",
    "version": 3
   },
   "file_extension": ".py",
   "mimetype": "text/x-python",
   "name": "python",
   "nbconvert_exporter": "python",
   "pygments_lexer": "ipython3",
   "version": "3.7.1"
  }
 },
 "nbformat": 4,
 "nbformat_minor": 2
}
