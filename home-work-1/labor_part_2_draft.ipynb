{
 "cells": [
  {
   "cell_type": "code",
   "execution_count": 130,
   "metadata": {},
   "outputs": [
    {
     "data": {
      "text/plain": [
       "'\\nOtus, курс Data Scientist, старт дек.2018\\nЗадание к уроку N1\\n\\nЭтап 2.\\n\\nЧерновик для выполнения задания.\\n'"
      ]
     },
     "execution_count": 130,
     "metadata": {},
     "output_type": "execute_result"
    }
   ],
   "source": [
    "\"\"\"\n",
    "Otus, курс Data Scientist, старт дек.2018\n",
    "Задание к уроку N1\n",
    "\n",
    "Этап 2.\n",
    "\n",
    "Черновик для выполнения задания.\n",
    "\"\"\""
   ]
  },
  {
   "cell_type": "code",
   "execution_count": 131,
   "metadata": {},
   "outputs": [
    {
     "data": {
      "text/plain": [
       "'\\nВопросы, на которые ищем ответ - копируем из части 1.\\n\\nВопрос N1:\\nСуществует ли попарная корелляция между значениями в столбцах: views_count, comments_count, reposts_count, likes_count ?\\n\\nВопрос N2:\\nСуществует ли корелляция между comments_count, reposts_count, likes_count?\\nТо есть, возможно ли снизить размерность, если введем свойство \"интерес к публикации\" вместо этих 3-х столбцов?\\nВозможно, стоит добавить отношение к кол-ву просмотров? Пусть это будет второй вариант оценки \"интерес к публикации\".\\n\\nВопрос N3:\\nВ каких сообществах сообщения вызывают наибольший интерес?\\n'"
      ]
     },
     "execution_count": 131,
     "metadata": {},
     "output_type": "execute_result"
    }
   ],
   "source": [
    "\"\"\"\n",
    "Вопросы, на которые ищем ответ - копируем из части 1.\n",
    "\n",
    "Вопрос N1:\n",
    "Существует ли попарная корелляция между значениями в столбцах: views_count, comments_count, reposts_count, likes_count ?\n",
    "\n",
    "Вопрос N2:\n",
    "Существует ли корелляция между comments_count, reposts_count, likes_count?\n",
    "То есть, возможно ли снизить размерность, если введем свойство \"интерес к публикации\" вместо этих 3-х столбцов?\n",
    "Возможно, стоит добавить отношение к кол-ву просмотров? Пусть это будет второй вариант оценки \"интерес к публикации\".\n",
    "\n",
    "Вопрос N3:\n",
    "В каких сообществах сообщения вызывают наибольший интерес?\n",
    "\"\"\""
   ]
  },
  {
   "cell_type": "code",
   "execution_count": 132,
   "metadata": {},
   "outputs": [],
   "source": [
    "# Найдем ответ на вопрос N1"
   ]
  },
  {
   "cell_type": "code",
   "execution_count": 133,
   "metadata": {},
   "outputs": [],
   "source": [
    "import pandas as pd\n",
    "import numpy as np\n",
    "import matplotlib\n",
    "from datetime import datetime\n",
    "from datetime import date"
   ]
  },
  {
   "cell_type": "code",
   "execution_count": 134,
   "metadata": {},
   "outputs": [],
   "source": [
    "# константы, которые используем\n",
    "RESULTS_FILE_NAME = 'result.csv' # название файла с данными"
   ]
  },
  {
   "cell_type": "code",
   "execution_count": 135,
   "metadata": {},
   "outputs": [
    {
     "data": {
      "text/html": [
       "<div>\n",
       "<style scoped>\n",
       "    .dataframe tbody tr th:only-of-type {\n",
       "        vertical-align: middle;\n",
       "    }\n",
       "\n",
       "    .dataframe tbody tr th {\n",
       "        vertical-align: top;\n",
       "    }\n",
       "\n",
       "    .dataframe thead th {\n",
       "        text-align: right;\n",
       "    }\n",
       "</style>\n",
       "<table border=\"1\" class=\"dataframe\">\n",
       "  <thead>\n",
       "    <tr style=\"text-align: right;\">\n",
       "      <th></th>\n",
       "      <th>group_id</th>\n",
       "      <th>comments_count</th>\n",
       "      <th>date</th>\n",
       "      <th>likes_count</th>\n",
       "      <th>marked_as_ads</th>\n",
       "      <th>post_source</th>\n",
       "      <th>reposts_count</th>\n",
       "      <th>text</th>\n",
       "      <th>views_count</th>\n",
       "    </tr>\n",
       "  </thead>\n",
       "  <tbody>\n",
       "    <tr>\n",
       "      <th>0</th>\n",
       "      <td>29387592</td>\n",
       "      <td>1</td>\n",
       "      <td>1549998127</td>\n",
       "      <td>1</td>\n",
       "      <td>0</td>\n",
       "      <td>vk</td>\n",
       "      <td>0</td>\n",
       "      <td>Состоялся долгожданный релиз мобильного прилож...</td>\n",
       "      <td>893.0</td>\n",
       "    </tr>\n",
       "    <tr>\n",
       "      <th>1</th>\n",
       "      <td>29387592</td>\n",
       "      <td>0</td>\n",
       "      <td>1549997035</td>\n",
       "      <td>4</td>\n",
       "      <td>0</td>\n",
       "      <td>vk</td>\n",
       "      <td>0</td>\n",
       "      <td>Исследовательская компания Diar опубликовала н...</td>\n",
       "      <td>1186.0</td>\n",
       "    </tr>\n",
       "    <tr>\n",
       "      <th>2</th>\n",
       "      <td>29387592</td>\n",
       "      <td>3</td>\n",
       "      <td>1549896060</td>\n",
       "      <td>4</td>\n",
       "      <td>0</td>\n",
       "      <td>vk</td>\n",
       "      <td>0</td>\n",
       "      <td>Торговая P2P-платформа Localbitcoins заявила, ...</td>\n",
       "      <td>2285.0</td>\n",
       "    </tr>\n",
       "    <tr>\n",
       "      <th>3</th>\n",
       "      <td>29387592</td>\n",
       "      <td>9</td>\n",
       "      <td>1549634023</td>\n",
       "      <td>7</td>\n",
       "      <td>0</td>\n",
       "      <td>vk</td>\n",
       "      <td>0</td>\n",
       "      <td>Тогда курс первой криптовалюты достигал отметк...</td>\n",
       "      <td>2328.0</td>\n",
       "    </tr>\n",
       "    <tr>\n",
       "      <th>4</th>\n",
       "      <td>29387592</td>\n",
       "      <td>0</td>\n",
       "      <td>1549454503</td>\n",
       "      <td>6</td>\n",
       "      <td>0</td>\n",
       "      <td>vk</td>\n",
       "      <td>3</td>\n",
       "      <td>Исследователи канадской финансовой компании Ca...</td>\n",
       "      <td>2727.0</td>\n",
       "    </tr>\n",
       "  </tbody>\n",
       "</table>\n",
       "</div>"
      ],
      "text/plain": [
       "   group_id  comments_count        date  likes_count  marked_as_ads  \\\n",
       "0  29387592               1  1549998127            1              0   \n",
       "1  29387592               0  1549997035            4              0   \n",
       "2  29387592               3  1549896060            4              0   \n",
       "3  29387592               9  1549634023            7              0   \n",
       "4  29387592               0  1549454503            6              0   \n",
       "\n",
       "  post_source  reposts_count  \\\n",
       "0          vk              0   \n",
       "1          vk              0   \n",
       "2          vk              0   \n",
       "3          vk              0   \n",
       "4          vk              3   \n",
       "\n",
       "                                                text  views_count  \n",
       "0  Состоялся долгожданный релиз мобильного прилож...        893.0  \n",
       "1  Исследовательская компания Diar опубликовала н...       1186.0  \n",
       "2  Торговая P2P-платформа Localbitcoins заявила, ...       2285.0  \n",
       "3  Тогда курс первой криптовалюты достигал отметк...       2328.0  \n",
       "4  Исследователи канадской финансовой компании Ca...       2727.0  "
      ]
     },
     "execution_count": 135,
     "metadata": {},
     "output_type": "execute_result"
    }
   ],
   "source": [
    "df = pd.read_csv(RESULTS_FILE_NAME)\n",
    "df.head()"
   ]
  },
  {
   "cell_type": "code",
   "execution_count": 136,
   "metadata": {},
   "outputs": [
    {
     "data": {
      "text/html": [
       "<div>\n",
       "<style scoped>\n",
       "    .dataframe tbody tr th:only-of-type {\n",
       "        vertical-align: middle;\n",
       "    }\n",
       "\n",
       "    .dataframe tbody tr th {\n",
       "        vertical-align: top;\n",
       "    }\n",
       "\n",
       "    .dataframe thead th {\n",
       "        text-align: right;\n",
       "    }\n",
       "</style>\n",
       "<table border=\"1\" class=\"dataframe\">\n",
       "  <thead>\n",
       "    <tr style=\"text-align: right;\">\n",
       "      <th></th>\n",
       "      <th>group_id</th>\n",
       "      <th>comments_count</th>\n",
       "      <th>date</th>\n",
       "      <th>likes_count</th>\n",
       "      <th>marked_as_ads</th>\n",
       "      <th>post_source</th>\n",
       "      <th>reposts_count</th>\n",
       "      <th>text</th>\n",
       "      <th>views_count</th>\n",
       "      <th>day_number</th>\n",
       "    </tr>\n",
       "  </thead>\n",
       "  <tbody>\n",
       "    <tr>\n",
       "      <th>0</th>\n",
       "      <td>29387592</td>\n",
       "      <td>1</td>\n",
       "      <td>1549998127</td>\n",
       "      <td>1</td>\n",
       "      <td>0</td>\n",
       "      <td>vk</td>\n",
       "      <td>0</td>\n",
       "      <td>Состоялся долгожданный релиз мобильного прилож...</td>\n",
       "      <td>893.0</td>\n",
       "      <td>73</td>\n",
       "    </tr>\n",
       "    <tr>\n",
       "      <th>1</th>\n",
       "      <td>29387592</td>\n",
       "      <td>0</td>\n",
       "      <td>1549997035</td>\n",
       "      <td>4</td>\n",
       "      <td>0</td>\n",
       "      <td>vk</td>\n",
       "      <td>0</td>\n",
       "      <td>Исследовательская компания Diar опубликовала н...</td>\n",
       "      <td>1186.0</td>\n",
       "      <td>73</td>\n",
       "    </tr>\n",
       "    <tr>\n",
       "      <th>2</th>\n",
       "      <td>29387592</td>\n",
       "      <td>3</td>\n",
       "      <td>1549896060</td>\n",
       "      <td>4</td>\n",
       "      <td>0</td>\n",
       "      <td>vk</td>\n",
       "      <td>0</td>\n",
       "      <td>Торговая P2P-платформа Localbitcoins заявила, ...</td>\n",
       "      <td>2285.0</td>\n",
       "      <td>72</td>\n",
       "    </tr>\n",
       "    <tr>\n",
       "      <th>3</th>\n",
       "      <td>29387592</td>\n",
       "      <td>9</td>\n",
       "      <td>1549634023</td>\n",
       "      <td>7</td>\n",
       "      <td>0</td>\n",
       "      <td>vk</td>\n",
       "      <td>0</td>\n",
       "      <td>Тогда курс первой криптовалюты достигал отметк...</td>\n",
       "      <td>2328.0</td>\n",
       "      <td>69</td>\n",
       "    </tr>\n",
       "    <tr>\n",
       "      <th>4</th>\n",
       "      <td>29387592</td>\n",
       "      <td>0</td>\n",
       "      <td>1549454503</td>\n",
       "      <td>6</td>\n",
       "      <td>0</td>\n",
       "      <td>vk</td>\n",
       "      <td>3</td>\n",
       "      <td>Исследователи канадской финансовой компании Ca...</td>\n",
       "      <td>2727.0</td>\n",
       "      <td>67</td>\n",
       "    </tr>\n",
       "  </tbody>\n",
       "</table>\n",
       "</div>"
      ],
      "text/plain": [
       "   group_id  comments_count        date  likes_count  marked_as_ads  \\\n",
       "0  29387592               1  1549998127            1              0   \n",
       "1  29387592               0  1549997035            4              0   \n",
       "2  29387592               3  1549896060            4              0   \n",
       "3  29387592               9  1549634023            7              0   \n",
       "4  29387592               0  1549454503            6              0   \n",
       "\n",
       "  post_source  reposts_count  \\\n",
       "0          vk              0   \n",
       "1          vk              0   \n",
       "2          vk              0   \n",
       "3          vk              0   \n",
       "4          vk              3   \n",
       "\n",
       "                                                text  views_count  day_number  \n",
       "0  Состоялся долгожданный релиз мобильного прилож...        893.0          73  \n",
       "1  Исследовательская компания Diar опубликовала н...       1186.0          73  \n",
       "2  Торговая P2P-платформа Localbitcoins заявила, ...       2285.0          72  \n",
       "3  Тогда курс первой криптовалюты достигал отметк...       2328.0          69  \n",
       "4  Исследователи канадской финансовой компании Ca...       2727.0          67  "
      ]
     },
     "execution_count": 136,
     "metadata": {},
     "output_type": "execute_result"
    }
   ],
   "source": [
    "# для удобства - создадим столбец, который представляет дату в виде \"номер дня начиная от date0\"\n",
    "date_start = datetime(2018, 12, 1)\n",
    "df['day_number'] = df['date'].apply(lambda x: (datetime.fromtimestamp(int(x)) - date_start).days)\n",
    "df.head()"
   ]
  },
  {
   "cell_type": "code",
   "execution_count": 137,
   "metadata": {},
   "outputs": [],
   "source": [
    "# введем новый dataframe, который используем для ответа на вопрос N1\n",
    "df_1 = df[['comments_count','likes_count','reposts_count','views_count']].copy()"
   ]
  },
  {
   "cell_type": "code",
   "execution_count": 138,
   "metadata": {},
   "outputs": [
    {
     "data": {
      "text/html": [
       "<div>\n",
       "<style scoped>\n",
       "    .dataframe tbody tr th:only-of-type {\n",
       "        vertical-align: middle;\n",
       "    }\n",
       "\n",
       "    .dataframe tbody tr th {\n",
       "        vertical-align: top;\n",
       "    }\n",
       "\n",
       "    .dataframe thead th {\n",
       "        text-align: right;\n",
       "    }\n",
       "</style>\n",
       "<table border=\"1\" class=\"dataframe\">\n",
       "  <thead>\n",
       "    <tr style=\"text-align: right;\">\n",
       "      <th></th>\n",
       "      <th>comments_count</th>\n",
       "      <th>likes_count</th>\n",
       "      <th>reposts_count</th>\n",
       "      <th>views_count</th>\n",
       "    </tr>\n",
       "  </thead>\n",
       "  <tbody>\n",
       "    <tr>\n",
       "      <th>comments_count</th>\n",
       "      <td>1.000000</td>\n",
       "      <td>0.323684</td>\n",
       "      <td>0.363685</td>\n",
       "      <td>0.329841</td>\n",
       "    </tr>\n",
       "    <tr>\n",
       "      <th>likes_count</th>\n",
       "      <td>0.323684</td>\n",
       "      <td>1.000000</td>\n",
       "      <td>0.948875</td>\n",
       "      <td>0.738771</td>\n",
       "    </tr>\n",
       "    <tr>\n",
       "      <th>reposts_count</th>\n",
       "      <td>0.363685</td>\n",
       "      <td>0.948875</td>\n",
       "      <td>1.000000</td>\n",
       "      <td>0.524269</td>\n",
       "    </tr>\n",
       "    <tr>\n",
       "      <th>views_count</th>\n",
       "      <td>0.329841</td>\n",
       "      <td>0.738771</td>\n",
       "      <td>0.524269</td>\n",
       "      <td>1.000000</td>\n",
       "    </tr>\n",
       "  </tbody>\n",
       "</table>\n",
       "</div>"
      ],
      "text/plain": [
       "                comments_count  likes_count  reposts_count  views_count\n",
       "comments_count        1.000000     0.323684       0.363685     0.329841\n",
       "likes_count           0.323684     1.000000       0.948875     0.738771\n",
       "reposts_count         0.363685     0.948875       1.000000     0.524269\n",
       "views_count           0.329841     0.738771       0.524269     1.000000"
      ]
     },
     "execution_count": 138,
     "metadata": {},
     "output_type": "execute_result"
    }
   ],
   "source": [
    "# отобразим корреляцию\n",
    "df_1.corr()\n",
    "# результат наблюдений - это ответ на Вопрос N1"
   ]
  },
  {
   "cell_type": "code",
   "execution_count": 139,
   "metadata": {},
   "outputs": [
    {
     "data": {
      "text/plain": [
       "'\\nОтвет на вопрос N1\\n\\nКорреляция есть:\\nlikes_count, reposts_count - 0,95. Оценим, это как сильная корреляция\\nlikes_count, views_count - 0,74. Назовем: средняя\\nreposts_count, views_count - 0,52. Назовем: необязательная.\\n'"
      ]
     },
     "execution_count": 139,
     "metadata": {},
     "output_type": "execute_result"
    }
   ],
   "source": [
    "\"\"\"\n",
    "Ответ на вопрос N1\n",
    "\n",
    "Корреляция есть:\n",
    "likes_count, reposts_count - 0,95. Оценим, это как сильная корреляция\n",
    "likes_count, views_count - 0,74. Назовем: средняя\n",
    "reposts_count, views_count - 0,52. Назовем: необязательная.\n",
    "\"\"\""
   ]
  },
  {
   "cell_type": "code",
   "execution_count": 140,
   "metadata": {},
   "outputs": [],
   "source": [
    "# Ищем ответ на вопрос N2"
   ]
  },
  {
   "cell_type": "code",
   "execution_count": 141,
   "metadata": {},
   "outputs": [],
   "source": [
    "# введем величину: кол-во лайков на 1 репост\n",
    "def likes_per_repost_func(row):\n",
    "    return 1.0*row['likes_count'] / row['reposts_count']\n",
    "\n",
    "# создадим новый dataframe, с новым столбцом\n",
    "df_2 = df[df['reposts_count'] > 0].copy() # т.к. будет деление на кол-во репостов - исключаем строки где репостов нет\n",
    "df_2['likes_per_repost'] = df_2.apply(likes_per_repost_func, axis=1)"
   ]
  },
  {
   "cell_type": "code",
   "execution_count": 142,
   "metadata": {},
   "outputs": [
    {
     "data": {
      "text/plain": [
       "<matplotlib.axes._subplots.AxesSubplot at 0x1a7115b52b0>"
      ]
     },
     "execution_count": 142,
     "metadata": {},
     "output_type": "execute_result"
    },
    {
     "data": {
      "image/png": "[encoded data removed]",
      "text/plain": [
       "<Figure size 432x288 with 1 Axes>"
      ]
     },
     "metadata": {
      "needs_background": "light"
     },
     "output_type": "display_data"
    }
   ],
   "source": [
    "# посмотрим на распределение\n",
    "df_2['likes_per_repost'].hist()"
   ]
  },
  {
   "cell_type": "code",
   "execution_count": 144,
   "metadata": {},
   "outputs": [
    {
     "data": {
      "text/plain": [
       "<matplotlib.axes._subplots.AxesSubplot at 0x1a70fc54550>"
      ]
     },
     "execution_count": 144,
     "metadata": {},
     "output_type": "execute_result"
    },
    {
     "data": {
      "image/png": "[encoded data removed]",
      "text/plain": [
       "<Figure size 432x288 with 1 Axes>"
      ]
     },
     "metadata": {
      "needs_background": "light"
     },
     "output_type": "display_data"
    }
   ],
   "source": [
    "# найдем, сколько нужно отбросить крайних значений, чтобы распределение стало похожим на классическое\n",
    "quantile = 0.93 # подбираем это значение\n",
    "columnName = 'likes_per_repost'\n",
    "barrier = df_2[columnName].quantile(quantile) # проходное значение. Все, что за пределами - отбросим\n",
    "df_2_tmp = df_2[df_2[columnName] < barrier].copy()\n",
    "df_2_tmp['likes_per_repost'].hist()\n",
    "# результат наблюдений - если ввести строгий коэффициент k такой что кол-во лайков = k * кол-во репостов,\n",
    "#   тогда погрешность будет весьма большой, т.к. значения сильно распределены (см.chart)"
   ]
  },
  {
   "cell_type": "code",
   "execution_count": 145,
   "metadata": {},
   "outputs": [
    {
     "data": {
      "text/plain": [
       "'\\nОтвет на вопрос N2\\n\\nКорреляция существует между likes_count, reposts_count.\\nНо, comments_count - является относительно независимой величиной и ее лучше рассматривать отдельно.\\nВвести величину \"интерес к публикации\" - возможно.\\nНо, для точных коэффициентов, с которыми вносить лайки и репосты - требуется дополнительное исследование.\\n'"
      ]
     },
     "execution_count": 145,
     "metadata": {},
     "output_type": "execute_result"
    }
   ],
   "source": [
    "\"\"\"\n",
    "Ответ на вопрос N2\n",
    "\n",
    "Корреляция существует между likes_count, reposts_count.\n",
    "Но, comments_count - является относительно независимой величиной и ее лучше рассматривать отдельно.\n",
    "Ввести величину \"интерес к публикации\" - возможно.\n",
    "Но, для точных коэффициентов, с которыми вносить лайки и репосты - требуется дополнительное исследование.\n",
    "\"\"\""
   ]
  },
  {
   "cell_type": "code",
   "execution_count": 146,
   "metadata": {},
   "outputs": [],
   "source": [
    "# найдем ответ на вопрос N3"
   ]
  },
  {
   "cell_type": "code",
   "execution_count": 147,
   "metadata": {},
   "outputs": [],
   "source": [
    "# введем dataframe, который используем для поиска ответа на вопрос N3\n",
    "df_3 = df.copy()"
   ]
  },
  {
   "cell_type": "code",
   "execution_count": 148,
   "metadata": {},
   "outputs": [],
   "source": [
    "# введем величину, которую считаем \"интерес к публикации\"\n",
    "K_COMMENTS = 1.0 # коэффициент, с которым вносим комментарий\n",
    "K_LIKES = 1.0 # коэффициент, с которым вносим лайки\n",
    "K_REPOSTS = 1.0  # коэффициент, с которым вносим репосты\n",
    "def interest_func(row):\n",
    "    return K_COMMENTS * row['comments_count'] + K_LIKES * row['likes_count'] + K_REPOSTS * row['reposts_count']"
   ]
  },
  {
   "cell_type": "code",
   "execution_count": 149,
   "metadata": {},
   "outputs": [],
   "source": [
    "# создаем новый столбец\n",
    "df_3['interest_rate'] = df_3.apply(interest_func, axis=1)\n",
    "# удалим записи, где интерес = 0 - они нас не интересуют\n",
    "df_3 = df_3[df_3['interest_rate'] > 0]"
   ]
  },
  {
   "cell_type": "code",
   "execution_count": 150,
   "metadata": {},
   "outputs": [
    {
     "data": {
      "text/plain": [
       "<matplotlib.axes._subplots.AxesSubplot at 0x1a7114f2fd0>"
      ]
     },
     "execution_count": 150,
     "metadata": {},
     "output_type": "execute_result"
    },
    {
     "data": {
      "image/png": "[encoded data removed]",
      "text/plain": [
       "<Figure size 432x288 with 1 Axes>"
      ]
     },
     "metadata": {
      "needs_background": "light"
     },
     "output_type": "display_data"
    }
   ],
   "source": [
    "# посмотрим распределение\n",
    "df_3['interest_rate'].hist()\n",
    "# по наблюдению - стоит раздельно расмотреть строки: которые рядом с медианой, и которые выше некоторой квантили"
   ]
  },
  {
   "cell_type": "code",
   "execution_count": 151,
   "metadata": {},
   "outputs": [],
   "source": [
    "# будем подбирать эти значение\n",
    "QUANTILE_LOW = 0.85 # меньше этого значения - слабый интерес, выше - интерес есть\n",
    "QUANTILE_HIGH = 0.97 # выше этого значения - выброс. То есть, накрутка или что-либо еще.\n",
    "\n",
    "# разделяем\n",
    "columnName = 'interest_rate'\n",
    "barrier_low = df_3[columnName].quantile(QUANTILE_LOW) # в виде числа\n",
    "barrier_high = df_3[columnName].quantile(QUANTILE_HIGH) # в виде числа\n",
    "df_3_minor = df_3[df_3[columnName] < barrier_low].copy()\n",
    "df_tmp = df_3[df_3[columnName] >= barrier_low].copy()\n",
    "df_3_target = df_tmp[df_tmp[columnName] < barrier_high].copy()\n",
    "df_3_untrust = df_tmp[df_tmp[columnName] >= barrier_high].copy()"
   ]
  },
  {
   "cell_type": "code",
   "execution_count": 152,
   "metadata": {},
   "outputs": [
    {
     "data": {
      "text/plain": [
       "count    2507.000000\n",
       "mean        7.717192\n",
       "std         6.807128\n",
       "min         1.000000\n",
       "25%         2.000000\n",
       "50%         5.000000\n",
       "75%        11.000000\n",
       "max        32.000000\n",
       "Name: interest_rate, dtype: float64"
      ]
     },
     "execution_count": 152,
     "metadata": {},
     "output_type": "execute_result"
    },
    {
     "data": {
      "image/png": "[encoded data removed]",
      "text/plain": [
       "<Figure size 432x288 with 1 Axes>"
      ]
     },
     "metadata": {
      "needs_background": "light"
     },
     "output_type": "display_data"
    }
   ],
   "source": [
    "df_3_minor['interest_rate'].hist()\n",
    "df_3_minor['interest_rate'].describe()"
   ]
  },
  {
   "cell_type": "code",
   "execution_count": 153,
   "metadata": {},
   "outputs": [
    {
     "data": {
      "text/plain": [
       "count    357.000000\n",
       "mean      78.414566\n",
       "std       48.257579\n",
       "min       33.000000\n",
       "25%       43.000000\n",
       "50%       56.000000\n",
       "75%      108.000000\n",
       "max      202.000000\n",
       "Name: interest_rate, dtype: float64"
      ]
     },
     "execution_count": 153,
     "metadata": {},
     "output_type": "execute_result"
    },
    {
     "data": {
      "image/png": "[encoded data removed]",
      "text/plain": [
       "<Figure size 432x288 with 1 Axes>"
      ]
     },
     "metadata": {
      "needs_background": "light"
     },
     "output_type": "display_data"
    }
   ],
   "source": [
    "df_3_target['interest_rate'].hist()\n",
    "df_3_target['interest_rate'].describe()"
   ]
  },
  {
   "cell_type": "code",
   "execution_count": 154,
   "metadata": {},
   "outputs": [
    {
     "data": {
      "text/plain": [
       "count       89.000000\n",
       "mean      1251.955056\n",
       "std       4570.634236\n",
       "min        203.000000\n",
       "25%        262.000000\n",
       "50%        364.000000\n",
       "75%        603.000000\n",
       "max      41217.000000\n",
       "Name: interest_rate, dtype: float64"
      ]
     },
     "execution_count": 154,
     "metadata": {},
     "output_type": "execute_result"
    },
    {
     "data": {
      "image/png": "[encoded data removed]",
      "text/plain": [
       "<Figure size 432x288 with 1 Axes>"
      ]
     },
     "metadata": {
      "needs_background": "light"
     },
     "output_type": "display_data"
    }
   ],
   "source": [
    "df_3_untrust['interest_rate'].hist()\n",
    "df_3_untrust['interest_rate'].describe()"
   ]
  },
  {
   "cell_type": "code",
   "execution_count": 155,
   "metadata": {},
   "outputs": [],
   "source": [
    "# теперь найдем сообщества, в которых чаще всего встречаются сообщения из целевой группы\n",
    "df_3_grouped = df_3_target.groupby('group_id').first() # создаем dataframe с уникальными group_id\n",
    "df_3_grouped['count'] = df_3_target['group_id'].value_counts() # проставляем кол-во, сколько раз встречается\n",
    "series_3_top = df_3_grouped['count'].sort_values(ascending=False)"
   ]
  },
  {
   "cell_type": "code",
   "execution_count": 156,
   "metadata": {},
   "outputs": [
    {
     "data": {
      "text/plain": [
       "group_id\n",
       "122422421    84\n",
       "158943684    61\n",
       "43011371     27\n",
       "93604475     23\n",
       "53986544     19\n",
       "Name: count, dtype: int64"
      ]
     },
     "execution_count": 156,
     "metadata": {},
     "output_type": "execute_result"
    }
   ],
   "source": [
    "# выводим результат\n",
    "series_3_top.head()"
   ]
  },
  {
   "cell_type": "code",
   "execution_count": 157,
   "metadata": {},
   "outputs": [
    {
     "data": {
      "text/plain": [
       "'\\nОтвет на вопрос N3\\n\\nМы определили, в каких сообществах встречается более всего публикаций, которые вызывают интерес у посетителей\\n'"
      ]
     },
     "execution_count": 157,
     "metadata": {},
     "output_type": "execute_result"
    }
   ],
   "source": [
    "\"\"\"\n",
    "Ответ на вопрос N3\n",
    "\n",
    "Мы определили, в каких сообществах встречается более всего публикаций, которые вызывают интерес у посетителей\n",
    "\"\"\""
   ]
  }
 ],
 "metadata": {
  "kernelspec": {
   "display_name": "Python 3",
   "language": "python",
   "name": "python3"
  },
  "language_info": {
   "codemirror_mode": {
    "name": "ipython",
    "version": 3
   },
   "file_extension": ".py",
   "mimetype": "text/x-python",
   "name": "python",
   "nbconvert_exporter": "python",
   "pygments_lexer": "ipython3",
   "version": "3.6.8"
  }
 },
 "nbformat": 4,
 "nbformat_minor": 2
}
